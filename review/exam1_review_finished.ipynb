{
 "cells": [
  {
   "cell_type": "code",
   "execution_count": null,
   "id": "c16b14d4",
   "metadata": {},
   "outputs": [],
   "source": [
    "from datascience import *\n",
    "import numpy as np\n",
    "\n",
    "%matplotlib inline\n",
    "import matplotlib.pyplot as plots\n",
    "plots.style.use('fivethirtyeight')"
   ]
  },
  {
   "cell_type": "code",
   "execution_count": null,
   "id": "2e95f0e5",
   "metadata": {},
   "outputs": [],
   "source": [
    "rhc = Table.read_table('RHC-Baseball-2023-2024.csv')\n",
    "rhc"
   ]
  },
  {
   "cell_type": "code",
   "execution_count": null,
   "id": "bba9d0a0",
   "metadata": {},
   "outputs": [],
   "source": [
    "# Who has the most games played?\n",
    "rhc.sort('Games', descending=True).column('Games').item(0)"
   ]
  },
  {
   "cell_type": "code",
   "execution_count": null,
   "id": "4bf7ff76",
   "metadata": {},
   "outputs": [],
   "source": [
    "# Who has played the fewest games?\n",
    "rhc.column('Games').min()"
   ]
  },
  {
   "cell_type": "code",
   "execution_count": null,
   "id": "f4b08ecd",
   "metadata": {},
   "outputs": [],
   "source": [
    "# What is the batting average for each player?\n",
    "\n",
    "def calculate_batting_average(at_bats, hits):\n",
    "    if at_bats == 0:\n",
    "        return 0.0\n",
    "    return round(hits / at_bats, 3)\n",
    "\n",
    "\n",
    "rhc = rhc.with_column(\n",
    "    'Batting Avg',\n",
    "    rhc.apply(calculate_batting_average, 'At Bat', 'Hit')\n",
    ")\n",
    "rhc\n"
   ]
  },
  {
   "cell_type": "code",
   "execution_count": null,
   "id": "51981a7d",
   "metadata": {},
   "outputs": [],
   "source": [
    "# What is the on base percentage for each player?\n",
    "\n",
    "def calculate_obp(at_bats, hits, walks):\n",
    "    if at_bats == 0:\n",
    "        return 0.0\n",
    "    return round( (hits + walks) / at_bats, 3)\n",
    "\n",
    "\n",
    "rhc = rhc.with_column(\n",
    "    'OBP',\n",
    "    rhc.apply(calculate_obp, 'At Bat', 'Hit', 'Walks')\n",
    ")\n",
    "rhc"
   ]
  },
  {
   "cell_type": "code",
   "execution_count": null,
   "id": "a7ad0e85",
   "metadata": {},
   "outputs": [],
   "source": [
    "# Write a scatter plot to show the number of At Bats vs Hit\n",
    "\n",
    "positions = np.unique(rhc.column('Position'))\n",
    "positions\n",
    "\n",
    "colors = ['blue', 'green', 'red', 'orange', 'purple', 'cyan']\n",
    "\n",
    "for i, position in enumerate(positions):\n",
    "    subset = rhc.where('Position', position)\n",
    "    plots.scatter(subset.column('At Bat'), subset.column('Hit'), color=colors[i], label=position)\n",
    "\n",
    "\n",
    "plots.legend(title = \"Position\")\n",
    "plots.title('At Bat vs Hit by Position')"
   ]
  },
  {
   "cell_type": "code",
   "execution_count": null,
   "id": "d44ba70c",
   "metadata": {},
   "outputs": [],
   "source": [
    "# Using the At Bat column, create a histogram of the column data\n",
    "\n",
    "rhc.hist('OBP')"
   ]
  },
  {
   "cell_type": "code",
   "execution_count": null,
   "id": "d2c11a94",
   "metadata": {},
   "outputs": [],
   "source": [
    "rhc.num_rows"
   ]
  },
  {
   "cell_type": "code",
   "execution_count": null,
   "id": "09e1ba87",
   "metadata": {},
   "outputs": [],
   "source": []
  }
 ],
 "metadata": {
  "kernelspec": {
   "display_name": "Python 3 (ipykernel)",
   "language": "python",
   "name": "python3"
  },
  "language_info": {
   "codemirror_mode": {
    "name": "ipython",
    "version": 3
   },
   "file_extension": ".py",
   "mimetype": "text/x-python",
   "name": "python",
   "nbconvert_exporter": "python",
   "pygments_lexer": "ipython3",
   "version": "3.10.11"
  }
 },
 "nbformat": 4,
 "nbformat_minor": 5
}
