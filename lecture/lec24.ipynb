{
 "cells": [
  {
   "cell_type": "code",
   "execution_count": null,
   "id": "cell-lec24-0",
   "metadata": {},
   "outputs": [],
   "source": [
    "from datascience import *\n",
    "%matplotlib inline\n",
    "path_data = '../../../assets/data/'\n",
    "import matplotlib.pyplot as plots\n",
    "plots.style.use('fivethirtyeight')\n",
    "import numpy as np\n",
    "import warnings\n",
    "warnings.simplefilter(action='ignore', category=np.VisibleDeprecationWarning)"
   ]
  },
  {
   "cell_type": "markdown",
   "id": "cell-lec24-1",
   "metadata": {},
   "source": [
    "# Lecture 24 #"
   ]
  },
  {
   "cell_type": "markdown",
   "id": "cell-lec24-2",
   "metadata": {},
   "source": [
    "## Bootstrap Samples for Creating Confidence Intervals\n",
    "\n",
    "Load in San Francisco Salary Data for 2019 and create a table that restricts the records to only include positions above the minimum part time salary.\n"
   ]
  },
  {
   "cell_type": "code",
   "execution_count": null,
   "id": "cell-lec24-3",
   "metadata": {},
   "outputs": [],
   "source": [
    "sf = Table.read_table('san_francisco_2019.csv')\n",
    "min_salary = 15 * 20 * 50\n",
    "sf = sf.where('Salary', are.above(min_salary))"
   ]
  },
  {
   "cell_type": "code",
   "execution_count": null,
   "id": "cell-lec24-4",
   "metadata": {},
   "outputs": [],
   "source": [
    "sf.num_rows"
   ]
  },
  {
   "cell_type": "code",
   "execution_count": null,
   "id": "cell-lec24-5",
   "metadata": {},
   "outputs": [],
   "source": [
    "sf_bins = np.arange(0, 726000, 25000)\n",
    "sf.hist('Total Compensation', bins=sf_bins)"
   ]
  },
  {
   "cell_type": "code",
   "execution_count": null,
   "id": "cell-lec24-6",
   "metadata": {},
   "outputs": [],
   "source": [
    "# Population Parameter: Median total compensation in the population\n",
    "def median_comp(t):\n",
    "    return percentile(50, t.column('Total Compensation'))\n",
    "\n",
    "median_comp(sf)"
   ]
  },
  {
   "cell_type": "markdown",
   "id": "cell-lec24-7",
   "metadata": {},
   "source": [
    "## Bootstrap Estimates of the Parameter (Pretend it is Unknown) "
   ]
  },
  {
   "cell_type": "code",
   "execution_count": null,
   "id": "cell-lec24-8",
   "metadata": {},
   "outputs": [],
   "source": [
    "#Create a function to generate the lower and upper bound\n",
    "# of 95% of the sampled data based on a slected sample size. \n",
    "\n",
    "def confidence_interval_95(sample_size):\n",
    "    # Collect one random sample from the population\n",
    "    our_sample = sf.sample(sample_size, with_replacement=False)\n",
    "    median_comp(our_sample)\n",
    "\n",
    "    # Generate the medians of 1000 bootstrap samples\n",
    "    num_repetitions = 1000\n",
    "    bstrap_medians = make_array()\n",
    "    for i in np.arange(num_repetitions):\n",
    "        # Resample the same number of rows, with replacement\n",
    "        bstrap_medians = np.append(bstrap_medians, \n",
    "                                   median_comp(our_sample.sample()))\n",
    "\n",
    "    # Find the middle 95% of medians; that's a confidence interval\n",
    "    left = percentile(2.5, bstrap_medians)\n",
    "    right = percentile(97.5, bstrap_medians)\n",
    "    return make_array(left, right)\n",
    "\n",
    "confidence_interval_95(100)"
   ]
  },
  {
   "cell_type": "markdown",
   "id": "dc107bd5-9b33-430f-a7a6-35d2809a5580",
   "metadata": {},
   "source": [
    "How wound you edit the function above to create a 90% confidence interval? \n",
    "\n",
    "or a 99% confidence interval?"
   ]
  },
  {
   "cell_type": "code",
   "execution_count": null,
   "id": "cell-lec24-9",
   "metadata": {},
   "outputs": [],
   "source": [
    "# Create a table that displays the lower and upper bound\n",
    "# of 95% % of the data for different sample sizes. \n",
    "\n",
    "intervals = Table(['k', 'lower', 'upper', 'sample_size'])\n",
    "\n",
    "for n in [2, 4, 8, 16]:\n",
    "    for k in np.arange(intervals.num_rows, intervals.num_rows + 20):\n",
    "        interval = confidence_interval_95(n)\n",
    "        intervals = intervals.with_row([\n",
    "            k, interval.item(0), interval.item(1), n\n",
    "        ])\n",
    "    \n",
    "intervals.show(4)"
   ]
  },
  {
   "cell_type": "code",
   "execution_count": null,
   "id": "cell-lec24-10",
   "metadata": {},
   "outputs": [],
   "source": [
    "# Generate a graph that shows the confidence intervals comared to the parameter.\n",
    "\n",
    "intervals.scatter('lower', 'k', group='sample_size')\n",
    "truth = median_comp(sf)\n",
    "plots.plot((truth, truth), (0, intervals.num_rows), color='green', lw=3)\n",
    "plots.xticks([120000, 150000])\n",
    "for row in intervals.rows:\n",
    "    if row.item('lower') > truth or row.item('upper') < truth:\n",
    "        color = 'red'\n",
    "    else:\n",
    "        color = 'blue'\n",
    "    plots.plot((row.item('lower'), row.item('upper')),\n",
    "               (row.item('k'), row.item('k')),\n",
    "               color, lw=2)"
   ]
  },
  {
   "cell_type": "markdown",
   "id": "518b2ab9-9ef8-487d-a437-1d2ad237f182",
   "metadata": {},
   "source": [
    "Review the graph. Does this help you better understand what the confidence level represents?\n",
    "\n",
    "How would you explain it to someone else?"
   ]
  },
  {
   "cell_type": "markdown",
   "id": "cell-lec24-11",
   "metadata": {},
   "source": [
    "## Confidence Interval for Unknown Population Mean\n",
    "\n",
    "Import the Maternal Data Table.\n",
    "\n",
    "In this case we don't have the advantage of knowing the population parameter, which is a more realistic situation for data analysis. \n",
    "\n",
    "We are now curious about the age of the mothers."
   ]
  },
  {
   "cell_type": "code",
   "execution_count": null,
   "id": "cell-lec24-12",
   "metadata": {},
   "outputs": [],
   "source": [
    "# Random sample of mother-newborn pairs\n",
    "births = Table.read_table('baby.csv')"
   ]
  },
  {
   "cell_type": "code",
   "execution_count": null,
   "id": "cell-lec24-13",
   "metadata": {},
   "outputs": [],
   "source": [
    "births.hist('Maternal Age')"
   ]
  },
  {
   "cell_type": "code",
   "execution_count": null,
   "id": "cell-lec24-14",
   "metadata": {},
   "outputs": [],
   "source": [
    "# Find the average age of mothers in the sample\n",
    "\n"
   ]
  },
  {
   "cell_type": "markdown",
   "id": "cell-lec24-15",
   "metadata": {},
   "source": [
    "### Question\n",
    "What is the average age of the mothers in the population?\n",
    "\n",
    "The average we found is a Sample Statistic. We want to use that data to estimate the Population Parameter for the mean age of mothers (in this time period)."
   ]
  },
  {
   "cell_type": "code",
   "execution_count": null,
   "id": "cell-lec24-16",
   "metadata": {},
   "outputs": [],
   "source": [
    "#Create a function to show one bootstrap sample's mean.\n",
    "\n",
    "def one_bootstrap_mean():\n",
    "    resample = births.sample()\n",
    "    return np.average(resample.column('Maternal Age'))"
   ]
  },
  {
   "cell_type": "code",
   "execution_count": null,
   "id": "cell-lec24-17",
   "metadata": {},
   "outputs": [],
   "source": [
    "# Generate means from 3000 bootstrap samples\n",
    "num_repetitions = 3000\n",
    "bstrap_means = make_array()\n",
    "for i in np.arange(num_repetitions):\n",
    "    bstrap_means = np.append(bstrap_means, one_bootstrap_mean())"
   ]
  },
  {
   "cell_type": "markdown",
   "id": "cell-lec24-18",
   "metadata": {},
   "source": [
    "### Bootstrap Percentile Method for Confidence Interval\n",
    "\n",
    "The interval of estimates is the \"middle 95%\" of the bootstrap estimates.\n",
    "\n",
    "This is called a *95% confidence interval* for the mean age in the population."
   ]
  },
  {
   "cell_type": "code",
   "execution_count": null,
   "id": "cell-lec24-19",
   "metadata": {},
   "outputs": [],
   "source": [
    "# Get the endpoints of the 95% confidence interval\n",
    "left = percentile(2.5, bstrap_means)\n",
    "right = percentile(97.5, bstrap_means)\n",
    "\n",
    "make_array(left, right)"
   ]
  },
  {
   "cell_type": "markdown",
   "id": "7a06b402-6980-4777-abe4-b554d6770a1e",
   "metadata": {},
   "source": [
    "Interpret this confidence interval using the previous sentence structure given.\n"
   ]
  },
  {
   "cell_type": "code",
   "execution_count": null,
   "id": "cell-lec24-20",
   "metadata": {},
   "outputs": [],
   "source": [
    "# Create a histogram that displays the bootstrap sample means. \n",
    "resampled_means = Table().with_columns(\n",
    "    'Bootstrap Sample Mean', bstrap_means\n",
    ")\n",
    "resampled_means.hist(bins=15)\n",
    "\n",
    "#Plots the region for the 95% conficence interval. Do not edit. \n",
    "plots.plot([left, right], [0, 0], color='yellow', lw=8);"
   ]
  },
  {
   "cell_type": "code",
   "execution_count": null,
   "id": "cell-lec24-21",
   "metadata": {},
   "outputs": [],
   "source": [
    "# Create a histogram that shows the maternal age distribution (of the individuals) from the original table.\n",
    "\n",
    "births.hist('Maternal Age')\n",
    "\n",
    "#Plots the region for the 95% conficence interval. Do not edit. \n",
    "plots.plot([left, right], [0, 0], color='yellow', lw=8);"
   ]
  },
  {
   "cell_type": "markdown",
   "id": "cell-lec24-22",
   "metadata": {},
   "source": [
    "## Using the Confidence Interval for Testing Hypotheses\n",
    "\n",
    "Given the following study scenario, determine if the confidence interval supports the Null or Alternative Hypothesis.\n",
    "    \n",
    "**Null:** The average age of mothers in the population is 25 years; the random sample average is different due to chance.\n",
    "\n",
    "**Alternative:** The average age of the mothers in the population is not 25 years.\n",
    "\n",
    "Suppose you use the 5% cutoff for the p-value.\n",
    "\n",
    "Based on the confidence interval, which hypothesis would you pick?"
   ]
  },
  {
   "cell_type": "code",
   "execution_count": null,
   "id": "cell-lec24-23",
   "metadata": {},
   "outputs": [],
   "source": []
  }
 ],
 "metadata": {
  "kernelspec": {
   "display_name": "Python 3 (ipykernel)",
   "language": "python",
   "name": "python3"
  },
  "language_info": {
   "codemirror_mode": {
    "name": "ipython",
    "version": 3
   },
   "file_extension": ".py",
   "mimetype": "text/x-python",
   "name": "python",
   "nbconvert_exporter": "python",
   "pygments_lexer": "ipython3",
   "version": "3.11.13"
  }
 },
 "nbformat": 4,
 "nbformat_minor": 5
}
