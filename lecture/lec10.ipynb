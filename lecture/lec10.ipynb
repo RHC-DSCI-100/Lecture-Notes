{
 "cells": [
  {
   "cell_type": "code",
   "execution_count": null,
   "id": "cell-lec10-0",
   "metadata": {},
   "outputs": [],
   "source": [
    "from datascience import *\n",
    "import numpy as np\n",
    "\n",
    "%matplotlib inline\n",
    "import matplotlib.pyplot as plots\n",
    "plots.style.use('fivethirtyeight')\n",
    "import warnings\n",
    "warnings.simplefilter(action='ignore',category=DeprecationWarning)"
   ]
  },
  {
   "attachments": {},
   "cell_type": "markdown",
   "id": "cell-lec10-1",
   "metadata": {},
   "source": [
    "## Lecture 10 ##"
   ]
  },
  {
   "attachments": {},
   "cell_type": "markdown",
   "id": "cell-lec10-2",
   "metadata": {},
   "source": [
    "## Prediction ##\n",
    "\n",
    "Data Scientist often use existing data to help make predictions about an individual who is not in the data set. \n",
    "\n",
    "Describe the incoming data set\n",
    "\n",
    "What could we try to predict with this data?"
   ]
  },
  {
   "cell_type": "code",
   "execution_count": null,
   "id": "cell-lec10-3",
   "metadata": {
    "scrolled": true
   },
   "outputs": [],
   "source": [
    "families = Table.read_table('family_heights.csv')\n",
    "families"
   ]
  },
  {
   "cell_type": "code",
   "execution_count": null,
   "id": "cell-lec10-4",
   "metadata": {},
   "outputs": [],
   "source": [
    "parent_avgs = (families.column('father') + families.column('mother'))/2"
   ]
  },
  {
   "cell_type": "code",
   "execution_count": null,
   "id": "cell-lec10-5",
   "metadata": {},
   "outputs": [],
   "source": [
    "heights = Table().with_columns(\n",
    "    'Parent Average', parent_avgs,\n",
    "    'Child', families.column('child'),\n",
    "    'Sex', families.column('sex')\n",
    ")\n",
    "heights"
   ]
  },
  {
   "cell_type": "code",
   "execution_count": null,
   "id": "cell-lec10-6",
   "metadata": {},
   "outputs": [],
   "source": [
    "heights.scatter('Parent Average', 'Child')"
   ]
  },
  {
   "cell_type": "markdown",
   "id": "81920f63-4ac1-4fc1-b938-c5005179a507",
   "metadata": {},
   "source": [
    "How would you classify this scatter?\n",
    "\n",
    "What questions or observations could be made about these variables?\n",
    "\n",
    "What are some things a Data Scientist could predict using this data?"
   ]
  },
  {
   "cell_type": "code",
   "execution_count": null,
   "id": "cell-lec10-7",
   "metadata": {},
   "outputs": [],
   "source": [
    "heights.scatter('Parent Average', 'Child')\n",
    "plots.plot([67.5, 67.5], [50, 85], color='red', lw=2)\n",
    "plots.plot([68.5, 68.5], [50, 85], color='red', lw=2);"
   ]
  },
  {
   "cell_type": "markdown",
   "id": "a4285e07-f090-4215-be55-a09eb24af767",
   "metadata": {},
   "source": [
    "What do the red vertical lines represent and what are they helping with?"
   ]
  },
  {
   "cell_type": "code",
   "execution_count": null,
   "id": "cell-lec10-8",
   "metadata": {
    "scrolled": true
   },
   "outputs": [],
   "source": [
    "nearby = heights.where('Parent Average', are.between(67.5, 68.5))\n",
    "nearby_mean = np.average(nearby.column('Child'))\n",
    "nearby_mean"
   ]
  },
  {
   "cell_type": "markdown",
   "id": "30d0c3b5-e8d2-4b2b-b338-ac8cd7e64d32",
   "metadata": {},
   "source": [
    "What does the nearby mean value represent?\n",
    "\n",
    "What could this help predict?\n",
    "\n",
    "\n",
    "The code below will plot the nearby mean on our scatterplot."
   ]
  },
  {
   "cell_type": "code",
   "execution_count": null,
   "id": "cell-lec10-9",
   "metadata": {},
   "outputs": [],
   "source": [
    "heights.scatter('Parent Average', 'Child')\n",
    "plots.plot([67.5, 67.5], [50, 85], color='red', lw=2)\n",
    "plots.plot([68.5, 68.5], [50, 85], color='red', lw=2)\n",
    "plots.scatter(68, nearby_mean, color='red', s=50);"
   ]
  },
  {
   "cell_type": "markdown",
   "id": "ccc1678e-0ade-4309-ad3a-048665ce4249",
   "metadata": {},
   "source": [
    "Below is a new function defined to do what?\n"
   ]
  },
  {
   "cell_type": "code",
   "execution_count": null,
   "id": "cell-lec10-10",
   "metadata": {},
   "outputs": [],
   "source": [
    "def predict(h):\n",
    "    nearby = heights.where('Parent Average', are.between(h - 1/2, h + 1/2))\n",
    "    return np.average(nearby.column('Child'))"
   ]
  },
  {
   "cell_type": "markdown",
   "id": "f8bc374c-e3a7-452e-9e08-dc6ce81bb207",
   "metadata": {},
   "source": [
    "Use the new function to predit ..."
   ]
  },
  {
   "cell_type": "code",
   "execution_count": null,
   "id": "cell-lec10-11",
   "metadata": {},
   "outputs": [],
   "source": [
    "# Use the function to make a predictions for parents whose average height is 68\"\n"
   ]
  },
  {
   "cell_type": "code",
   "execution_count": null,
   "id": "cell-lec10-12",
   "metadata": {},
   "outputs": [],
   "source": [
    "# Use the function to make a predictions for parents whose average height is 70\"\n"
   ]
  },
  {
   "cell_type": "code",
   "execution_count": null,
   "id": "cell-lec10-13",
   "metadata": {},
   "outputs": [],
   "source": [
    "# Use the function to make a predictions for parents whose average height is 73\"\n"
   ]
  },
  {
   "cell_type": "markdown",
   "id": "89e73907-f5db-47e6-88bf-8e1285ab1484",
   "metadata": {},
   "source": [
    "What does the code below do?"
   ]
  },
  {
   "cell_type": "code",
   "execution_count": null,
   "id": "cell-lec10-14",
   "metadata": {},
   "outputs": [],
   "source": [
    "predicted_heights = heights.apply(predict, 'Parent Average')"
   ]
  },
  {
   "cell_type": "code",
   "execution_count": null,
   "id": "cell-lec10-15",
   "metadata": {},
   "outputs": [],
   "source": [
    "heights = heights.with_column('Prediction', predicted_heights)"
   ]
  },
  {
   "cell_type": "markdown",
   "id": "900a4f20-5a19-4b52-b0e3-ab67b8d9e33e",
   "metadata": {},
   "source": [
    "Create a new scatter that shows all the predicted heights."
   ]
  },
  {
   "cell_type": "code",
   "execution_count": null,
   "id": "cell-lec10-16",
   "metadata": {},
   "outputs": [],
   "source": [
    "heights.select('Parent Average', 'Child', 'Prediction').scatter('Parent Average')"
   ]
  },
  {
   "attachments": {},
   "cell_type": "markdown",
   "id": "cell-lec10-17",
   "metadata": {},
   "source": [
    "## Prediction Accuracy ##\n",
    "\n",
    "Prediction is rarely perfect. We may over or under estimate the correct value. \n",
    "Notice in the scatter above, there are data points above and below every prediction value. This is because this value is an average. \n"
   ]
  },
  {
   "cell_type": "code",
   "execution_count": null,
   "id": "cell-lec10-18",
   "metadata": {},
   "outputs": [],
   "source": [
    "# Define a new function to compute the difference between two values. \n",
    "def difference(x, y):\n",
    "    return x - y"
   ]
  },
  {
   "cell_type": "markdown",
   "id": "802fe7f8-41dd-41d6-a045-a7317c9e12cb",
   "metadata": {},
   "source": [
    "What will the code below produce?"
   ]
  },
  {
   "cell_type": "code",
   "execution_count": null,
   "id": "cell-lec10-19",
   "metadata": {},
   "outputs": [],
   "source": [
    "pred_errs = heights.apply(difference, 'Prediction', 'Child')\n",
    "heights = heights.with_column('errors',pred_errs)\n",
    "heights"
   ]
  },
  {
   "cell_type": "code",
   "execution_count": null,
   "id": "cell-lec10-20",
   "metadata": {},
   "outputs": [],
   "source": [
    "heights.hist('errors')"
   ]
  },
  {
   "cell_type": "markdown",
   "id": "aa9b0fca-5367-4055-9079-a0d91ddf2012",
   "metadata": {},
   "source": [
    "The histogram above shows the prediction errors. \n",
    "What is the shape? \n",
    "\n",
    "What are the values centered around? Why?"
   ]
  },
  {
   "cell_type": "code",
   "execution_count": null,
   "id": "cell-lec10-21",
   "metadata": {},
   "outputs": [],
   "source": [
    "heights.hist('errors', group='Sex')"
   ]
  },
  {
   "cell_type": "markdown",
   "id": "9ed662dc-529f-4e18-a480-0a74ab2e4484",
   "metadata": {},
   "source": [
    "What does the histogram above show?\n",
    "\n",
    "How would you classify these histograms?\n",
    "\n",
    "What did disaggregating these values reveal?"
   ]
  },
  {
   "attachments": {},
   "cell_type": "markdown",
   "id": "cell-lec10-22",
   "metadata": {},
   "source": [
    "# Discussion Questions\n",
    "\n",
    "1. How could we take sex into account when making predictions?\n",
    "2. Do we make smaller errors on average when we do this?\n",
    "\n",
    "Let's start by creating a new function. How is this function different than the original prediction function?\n"
   ]
  },
  {
   "cell_type": "code",
   "execution_count": null,
   "id": "cell-lec10-23",
   "metadata": {},
   "outputs": [],
   "source": [
    "#Original Function:\n",
    "#def predict(h):\n",
    "#    nearby = heights.where('Parent Average', are.between(h - 1/2, h + 1/2))\n",
    "#    return np.average(nearby.column('Child'))\n",
    "\n",
    "def predict_smarter(h, s):\n",
    "    nearby = heights.where('Parent Average', are.between(h - 1/2, h + 1/2))\n",
    "    nearby_same_sex = nearby.where('Sex', s)\n",
    "    return np.average(nearby_same_sex.column('Child'))"
   ]
  },
  {
   "cell_type": "code",
   "execution_count": null,
   "id": "cell-lec10-24",
   "metadata": {},
   "outputs": [],
   "source": [
    "# Use the new function to predict the average female's height born to parents with an average height of 68\".\n"
   ]
  },
  {
   "cell_type": "code",
   "execution_count": null,
   "id": "cell-lec10-25",
   "metadata": {},
   "outputs": [],
   "source": [
    "# Use the new function to predict the average male's height born to parents with an average height of 68\"\n"
   ]
  },
  {
   "cell_type": "code",
   "execution_count": null,
   "id": "cell-lec10-26",
   "metadata": {},
   "outputs": [],
   "source": [
    "smarter_predicted_heights = heights.apply(predict_smarter, 'Parent Average', 'Sex')\n",
    "heights = heights.with_column('Smarter Prediction', smarter_predicted_heights)"
   ]
  },
  {
   "cell_type": "code",
   "execution_count": null,
   "id": "cell-lec10-27",
   "metadata": {},
   "outputs": [],
   "source": [
    "smarter_pred_errs = heights.apply(difference, 'Child', 'Smarter Prediction')\n",
    "heights = heights.with_column('Smarter Errors', smarter_pred_errs)\n",
    "heights"
   ]
  },
  {
   "cell_type": "code",
   "execution_count": null,
   "id": "cell-lec10-28",
   "metadata": {},
   "outputs": [],
   "source": [
    "heights.hist('Smarter Errors', group='Sex')"
   ]
  },
  {
   "cell_type": "markdown",
   "id": "d904c294-75b0-4ec7-8c48-7d4736fed1a4",
   "metadata": {},
   "source": [
    "Did the function change improve the prediction results? How do you know?\n"
   ]
  },
  {
   "attachments": {},
   "cell_type": "markdown",
   "id": "cell-lec10-29",
   "metadata": {},
   "source": [
    "## Grouping by One Column ##"
   ]
  },
  {
   "cell_type": "code",
   "execution_count": null,
   "id": "cell-lec10-30",
   "metadata": {},
   "outputs": [],
   "source": [
    "cones = Table.read_table('cones.csv').drop('Color')\n",
    "cones"
   ]
  },
  {
   "cell_type": "code",
   "execution_count": null,
   "id": "cell-lec10-31",
   "metadata": {},
   "outputs": [],
   "source": [
    "cones.group('Flavor')"
   ]
  },
  {
   "cell_type": "code",
   "execution_count": null,
   "id": "cell-lec10-32",
   "metadata": {
    "scrolled": true
   },
   "outputs": [],
   "source": [
    "cones.group('Flavor', np.average)"
   ]
  },
  {
   "cell_type": "code",
   "execution_count": null,
   "id": "cell-lec10-33",
   "metadata": {},
   "outputs": [],
   "source": [
    "cones.group('Flavor', np.min)"
   ]
  },
  {
   "attachments": {},
   "cell_type": "markdown",
   "id": "cell-lec10-34",
   "metadata": {},
   "source": [
    "## Grouping By One Column: Welcome Survey ##"
   ]
  },
  {
   "cell_type": "code",
   "execution_count": null,
   "id": "cell-lec10-35",
   "metadata": {},
   "outputs": [],
   "source": [
    "survey = Table.read_table('welcome_survey_sp22.csv')\n",
    "survey.show(3)"
   ]
  },
  {
   "cell_type": "code",
   "execution_count": null,
   "id": "cell-lec10-36",
   "metadata": {},
   "outputs": [],
   "source": [
    "survey.hist('Extroversion')"
   ]
  },
  {
   "cell_type": "code",
   "execution_count": null,
   "id": "cell-lec10-37",
   "metadata": {},
   "outputs": [],
   "source": [
    "by_extra = survey.group('Extroversion', np.average)\n",
    "by_extra"
   ]
  },
  {
   "cell_type": "code",
   "execution_count": null,
   "id": "cell-lec10-38",
   "metadata": {},
   "outputs": [],
   "source": [
    "by_extra.plot('Extroversion', 'Number of textees average')"
   ]
  },
  {
   "cell_type": "code",
   "execution_count": null,
   "id": "cell-lec10-39",
   "metadata": {},
   "outputs": [],
   "source": [
    "survey.group(\"Year\")"
   ]
  },
  {
   "cell_type": "code",
   "execution_count": null,
   "id": "cell-lec10-40",
   "metadata": {},
   "outputs": [],
   "source": [
    "(survey\n",
    " .select(\"Year\", \"Hours of sleep\")\n",
    " .group(0, np.average)\n",
    " .take(1, 7, 8, 3))"
   ]
  },
  {
   "attachments": {},
   "cell_type": "markdown",
   "id": "cell-lec10-41",
   "metadata": {},
   "source": [
    "## Lists"
   ]
  },
  {
   "cell_type": "code",
   "execution_count": null,
   "id": "cell-lec10-42",
   "metadata": {},
   "outputs": [],
   "source": [
    "[1, 5, 'hello', 5.0]"
   ]
  },
  {
   "cell_type": "code",
   "execution_count": null,
   "id": "cell-lec10-43",
   "metadata": {},
   "outputs": [],
   "source": [
    "[1, 5, 'hello', 5.0, make_array(1,2,3)]"
   ]
  },
  {
   "attachments": {},
   "cell_type": "markdown",
   "id": "cell-lec10-44",
   "metadata": {},
   "source": [
    "## Grouping by Two Columns ##"
   ]
  },
  {
   "attachments": {},
   "cell_type": "markdown",
   "id": "cell-lec10-45",
   "metadata": {},
   "source": [
    "![Do right-handed people tend to sleep on their left side and left-handed people sleep on their right?](handed.png)"
   ]
  },
  {
   "cell_type": "code",
   "execution_count": null,
   "id": "cell-lec10-46",
   "metadata": {},
   "outputs": [],
   "source": [
    "survey.group(['Handedness', 'Sleep position']).show()"
   ]
  }
 ],
 "metadata": {
  "anaconda-cloud": {},
  "kernelspec": {
   "display_name": "Python 3 (ipykernel)",
   "language": "python",
   "name": "python3"
  },
  "language_info": {
   "codemirror_mode": {
    "name": "ipython",
    "version": 3
   },
   "file_extension": ".py",
   "mimetype": "text/x-python",
   "name": "python",
   "nbconvert_exporter": "python",
   "pygments_lexer": "ipython3",
   "version": "3.11.13"
  }
 },
 "nbformat": 4,
 "nbformat_minor": 5
}
