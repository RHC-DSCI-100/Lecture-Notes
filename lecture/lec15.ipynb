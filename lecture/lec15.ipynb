{
 "cells": [
  {
   "cell_type": "code",
   "execution_count": null,
   "id": "cell-lec15-0",
   "metadata": {},
   "outputs": [],
   "source": [
    "from datascience import *\n",
    "import numpy as np\n",
    "\n",
    "%matplotlib inline\n",
    "import matplotlib.pyplot as plots\n",
    "plots.style.use('fivethirtyeight')"
   ]
  },
  {
   "cell_type": "markdown",
   "id": "cell-lec15-1",
   "metadata": {},
   "source": [
    "## Lecture 15 ##"
   ]
  },
  {
   "cell_type": "markdown",
   "id": "cell-lec15-2",
   "metadata": {},
   "source": [
    "## Probability  with Random Sampling ##\n",
    "\n",
    "Population:  </br>\n",
    "Sample: \n",
    "\n",
    "### Types of Samples ###\n",
    "\n",
    "Systematic: </br>\n",
    "SRS - Simple Random Sample: \n"
   ]
  },
  {
   "cell_type": "markdown",
   "id": "cell-lec15-6",
   "metadata": {},
   "source": [
    "We load in a dataset of all United flights national flights from 6/1/15 to 8/9/15, their destination and how long they were delayed, in minutes."
   ]
  },
  {
   "cell_type": "code",
   "execution_count": null,
   "id": "cell-lec15-7",
   "metadata": {},
   "outputs": [],
   "source": [
    "united = Table.read_table('united.csv')\n",
    "united = united.with_column('Row', np.arange(united.num_rows)).move_to_start('Row')\n",
    "united"
   ]
  },
  {
   "cell_type": "markdown",
   "id": "cell-lec15-8",
   "metadata": {},
   "source": [
    "Some deterministic samples:"
   ]
  },
  {
   "cell_type": "code",
   "execution_count": null,
   "id": "cell-lec15-9",
   "metadata": {},
   "outputs": [],
   "source": [
    "united.where('Destination', 'JFK') "
   ]
  },
  {
   "cell_type": "code",
   "execution_count": null,
   "id": "cell-lec15-10",
   "metadata": {},
   "outputs": [],
   "source": [
    "united.take(np.arange(0, united.num_rows, 1000))"
   ]
  },
  {
   "cell_type": "code",
   "execution_count": null,
   "id": "cell-lec15-11",
   "metadata": {},
   "outputs": [],
   "source": [
    "united.take(make_array(34, 6321, 10040))"
   ]
  },
  {
   "cell_type": "markdown",
   "id": "0269e82d-f5a2-459c-84c8-0f0aeaa13f9f",
   "metadata": {},
   "source": [
    "Deterministic Samples can be biased samples. \n",
    "Why?"
   ]
  },
  {
   "cell_type": "markdown",
   "id": "cell-lec15-12",
   "metadata": {},
   "source": [
    "A random sample:</br>\n",
    "The code below is similar to the second deterministic sample. What makes it random?\n",
    "\n",
    "What sampling technique is being used?"
   ]
  },
  {
   "cell_type": "code",
   "execution_count": null,
   "id": "cell-lec15-13",
   "metadata": {},
   "outputs": [],
   "source": [
    "start = np.random.choice(np.arange(100))\n",
    "systematic_sample = united.take(np.arange(start, united.num_rows, 1000))\n",
    "systematic_sample.show()"
   ]
  },
  {
   "cell_type": "markdown",
   "id": "f12fe7d8-6539-4bfa-bfd0-d452d5ec438a",
   "metadata": {},
   "source": [
    "The code below also generates a random sample. Why?\n",
    "\n",
    "What sampling technique is being used?"
   ]
  },
  {
   "cell_type": "code",
   "execution_count": null,
   "id": "fdbe9622",
   "metadata": {},
   "outputs": [],
   "source": [
    "united.sample(10, with_replacement=False)"
   ]
  },
  {
   "cell_type": "code",
   "execution_count": null,
   "id": "ce1bee16",
   "metadata": {},
   "outputs": [],
   "source": [
    "# How do we use the sample command?\n",
    "united.sample?"
   ]
  },
  {
   "cell_type": "markdown",
   "id": "cell-lec15-14",
   "metadata": {},
   "source": [
    "## Distributions ##\n",
    "Probability distributions list....\n",
    "    \n",
    "Theoretical is based on the possible outcomes.\n",
    "\n",
    "Empirical is based on outcomes that occured in an experiment or observation. "
   ]
  },
  {
   "cell_type": "code",
   "execution_count": null,
   "id": "cell-lec15-15",
   "metadata": {},
   "outputs": [],
   "source": [
    "# A table of the faces of a six-sided die.\n",
    "\n",
    "die = Table().with_column('Face', np.arange(1, 7))\n",
    "die"
   ]
  },
  {
   "cell_type": "code",
   "execution_count": null,
   "id": "cell-lec15-16",
   "metadata": {},
   "outputs": [],
   "source": [
    "# Using the sample command, create a sample of 10 rolls from the above table. \n",
    "# What are the defaults? What are we expecting to be returned?\n",
    "\n",
    "die.sample(10)"
   ]
  },
  {
   "cell_type": "code",
   "execution_count": null,
   "id": "cell-lec15-17",
   "metadata": {},
   "outputs": [],
   "source": [
    "#Histogram of the original table with default bins. \n",
    "# What are the defaults?\n",
    "# What is displayed?\n",
    "# Calculate the percentage for each value based on the area of the rectangle.\n",
    "\n",
    "die.hist()"
   ]
  },
  {
   "cell_type": "code",
   "execution_count": null,
   "id": "cell-lec15-18",
   "metadata": {},
   "outputs": [],
   "source": [
    "# Defining our own bins. What are we changing?\n",
    "\n",
    "roll_bins = np.arange(0.5, 6.6, 1)"
   ]
  },
  {
   "cell_type": "code",
   "execution_count": null,
   "id": "cell-lec15-19",
   "metadata": {},
   "outputs": [],
   "source": [
    "# Display the same histograms with our defined bins. \n",
    "# Calculate the percentage based on the new bins.\n",
    "# Enter your code here\n",
    "\n"
   ]
  },
  {
   "cell_type": "code",
   "execution_count": null,
   "id": "cell-lec15-20",
   "metadata": {},
   "outputs": [],
   "source": [
    "# Empirical Histogram of 10 die rolls\n",
    "# Why is this histogram empirical?\n",
    "\n",
    "die.sample(10).hist(bins=roll_bins)"
   ]
  },
  {
   "cell_type": "code",
   "execution_count": null,
   "id": "cell-lec15-21",
   "metadata": {},
   "outputs": [],
   "source": [
    "# Another empirical histogram. What has changed?\n",
    "\n",
    "die.sample(1000).hist(bins=roll_bins)"
   ]
  },
  {
   "cell_type": "code",
   "execution_count": null,
   "id": "cell-lec15-22",
   "metadata": {},
   "outputs": [],
   "source": [
    "# Another empirical histogram. What has changed? What is happening as we make this change?\n",
    "\n",
    "die.sample(100000).hist(bins=roll_bins)"
   ]
  },
  {
   "cell_type": "markdown",
   "id": "cell-lec15-23",
   "metadata": {},
   "source": [
    "## Large Random Samples ##"
   ]
  },
  {
   "cell_type": "code",
   "execution_count": null,
   "id": "cell-lec15-24",
   "metadata": {},
   "outputs": [],
   "source": [
    "# This is our population. All the flights that occured in the summer of 2015.\n",
    "# June, July, and August.\n",
    "united"
   ]
  },
  {
   "cell_type": "code",
   "execution_count": null,
   "id": "cell-lec15-25",
   "metadata": {},
   "outputs": [],
   "source": [
    "# Display the true histogram of flight delay times. \n",
    "united_bins = np.arange(-20, 201, 5)\n",
    "united.hist('Delay', bins = united_bins)"
   ]
  },
  {
   "cell_type": "code",
   "execution_count": null,
   "id": "0c68ff95",
   "metadata": {},
   "outputs": [],
   "source": [
    "#Direct Calculate the Percent where the delay is between 0 and 5 minutes and compare to the bar.\n",
    "#How do we direct calculate the percent from the table?\n",
    "#Enter your code below. \n",
    "\n"
   ]
  },
  {
   "cell_type": "code",
   "execution_count": null,
   "id": "cell-lec15-26",
   "metadata": {},
   "outputs": [],
   "source": [
    "# Determine the shortest delay?\n",
    "# What does this value represent?\n",
    "# Enter your code below.\n",
    "\n"
   ]
  },
  {
   "cell_type": "code",
   "execution_count": null,
   "id": "cell-lec15-27",
   "metadata": {
    "scrolled": true
   },
   "outputs": [],
   "source": [
    "# Determine the longest delay?\n",
    "# What does this value represent?\n",
    "# Enter your code below.\n",
    "\n"
   ]
  },
  {
   "cell_type": "code",
   "execution_count": null,
   "id": "cell-lec15-28",
   "metadata": {},
   "outputs": [],
   "source": [
    "# Determine the average delay?\n",
    "# What does this value represent?\n",
    "# Enter your code below.\n",
    "\n"
   ]
  },
  {
   "cell_type": "code",
   "execution_count": null,
   "id": "cell-lec15-29",
   "metadata": {},
   "outputs": [],
   "source": [
    "# Using the same bins as the population histogram. Create a histogram for a sample of 10.\n",
    "\n",
    "united.sample(10).hist('Delay', bins = united_bins)"
   ]
  },
  {
   "cell_type": "code",
   "execution_count": null,
   "id": "cell-lec15-30",
   "metadata": {},
   "outputs": [],
   "source": [
    "# Using the same bins as the population histogram. Create a histogram for a sample of 1000.\n",
    "\n",
    "united.sample(1000).hist('Delay', bins = united_bins)"
   ]
  },
  {
   "cell_type": "markdown",
   "id": "a20a6000-ba41-494e-ba4a-4de08d644fc9",
   "metadata": {},
   "source": [
    "What observations can you make as you compare the sample histograms with the population histogram?"
   ]
  },
  {
   "cell_type": "markdown",
   "id": "cell-lec15-31",
   "metadata": {},
   "source": [
    "## Simulating Statistics ##\n",
    "\n",
    "Whenever our histogram is skewed. The median (middle value) will be a better measure of center than the mean (average).\n",
    "\n",
    "Why do you think that is?"
   ]
  },
  {
   "cell_type": "code",
   "execution_count": null,
   "id": "cell-lec15-32",
   "metadata": {},
   "outputs": [],
   "source": [
    "# Find the true median of the population delay times.\n",
    "\n",
    "np.median(united.column('Delay'))"
   ]
  },
  {
   "cell_type": "code",
   "execution_count": null,
   "id": "cell-lec15-33",
   "metadata": {},
   "outputs": [],
   "source": [
    "# Use the median command to find the median of a sample of 10 delay times.\n",
    "# Enter your code below.\n",
    "\n"
   ]
  },
  {
   "cell_type": "code",
   "execution_count": null,
   "id": "cell-lec15-34",
   "metadata": {},
   "outputs": [],
   "source": [
    "# Create a function that will give the sample median of a sample size of n.\n",
    "# Enter your code below. \n",
    "# Name your function sample_median\n",
    "\n",
    "def sample_median ..."
   ]
  },
  {
   "cell_type": "code",
   "execution_count": null,
   "id": "cell-lec15-35",
   "metadata": {},
   "outputs": [],
   "source": [
    "# Test your function for a sample of size 100.\n",
    "\n",
    "sample_median(100)"
   ]
  },
  {
   "cell_type": "code",
   "execution_count": null,
   "id": "cell-lec15-36",
   "metadata": {},
   "outputs": [],
   "source": [
    "# Create a for loop that will run the sample median function for a sample of 10, one thousand times. \n",
    "# Complete the code below.\n",
    "\n",
    "sample_medians = make_array()\n",
    "\n",
    "for i in np.arange(1000):\n",
    "    new_median = \n",
    "    sample_medians = \n",
    "\n",
    "sample_medians"
   ]
  },
  {
   "cell_type": "code",
   "execution_count": null,
   "id": "cell-lec15-37",
   "metadata": {
    "scrolled": true
   },
   "outputs": [],
   "source": [
    "# The below code converts the array into a table, then displays a histogram with the defined bins.\n",
    "\n",
    "Table().with_column('Sample medians', sample_medians).hist(bins = np.arange(-10,31))"
   ]
  },
  {
   "cell_type": "markdown",
   "id": "8d2e64a8-0148-417b-84d4-3ad046771574",
   "metadata": {},
   "source": [
    "What observations can you make about United delays in the summer of 2015?\n",
    "\n",
    "If you were running United, how might this information help you?"
   ]
  },
  {
   "cell_type": "code",
   "execution_count": null,
   "id": "cell-lec15-38",
   "metadata": {},
   "outputs": [],
   "source": [
    "# Duplicate the code above to run 1000 iterations for samples of 1000.\n",
    "\n",
    "sample_medians = make_array()\n",
    "\n",
    "for i in np.arange(1000):\n",
    "    new_median = sample_median(1000)\n",
    "    sample_medians = np.append(sample_medians, new_median)"
   ]
  },
  {
   "cell_type": "code",
   "execution_count": null,
   "id": "cell-lec15-39",
   "metadata": {
    "scrolled": true
   },
   "outputs": [],
   "source": [
    "# What does this code do?\n",
    "\n",
    "Table().with_column(\n",
    "    'Sample medians', sample_medians).hist(bins = np.arange(-10,31))"
   ]
  },
  {
   "cell_type": "code",
   "execution_count": null,
   "id": "c6db000c-05b2-4070-a4ac-b80fd9f5d6ff",
   "metadata": {},
   "outputs": [],
   "source": [
    "What observations can you make about the new histogram?"
   ]
  },
  {
   "cell_type": "code",
   "execution_count": null,
   "id": "55e24983",
   "metadata": {},
   "outputs": [],
   "source": []
  }
 ],
 "metadata": {
  "anaconda-cloud": {},
  "kernelspec": {
   "display_name": "Python 3 (ipykernel)",
   "language": "python",
   "name": "python3"
  },
  "language_info": {
   "codemirror_mode": {
    "name": "ipython",
    "version": 3
   },
   "file_extension": ".py",
   "mimetype": "text/x-python",
   "name": "python",
   "nbconvert_exporter": "python",
   "pygments_lexer": "ipython3",
   "version": "3.11.13"
  }
 },
 "nbformat": 4,
 "nbformat_minor": 5
}
