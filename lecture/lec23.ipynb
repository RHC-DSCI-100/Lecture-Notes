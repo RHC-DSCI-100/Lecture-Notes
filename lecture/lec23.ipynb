{
 "cells": [
  {
   "cell_type": "code",
   "execution_count": null,
   "id": "cell-lec23-0",
   "metadata": {},
   "outputs": [],
   "source": [
    "from datascience import *\n",
    "%matplotlib inline\n",
    "path_data = '../../../assets/data/'\n",
    "import matplotlib.pyplot as plots\n",
    "plots.style.use('fivethirtyeight')\n",
    "import numpy as np\n",
    "import warnings\n",
    "warnings.simplefilter(action='ignore', category=np.VisibleDeprecationWarning)"
   ]
  },
  {
   "cell_type": "markdown",
   "id": "cell-lec23-1",
   "metadata": {},
   "source": [
    "# Lecture 23 #"
   ]
  },
  {
   "cell_type": "markdown",
   "id": "cell-lec23-2",
   "metadata": {},
   "source": [
    "## Percentiles ##\n",
    "\n",
    "The pth percentile is first value on the sorted list that is at least as large as p% of the elements."
   ]
  },
  {
   "cell_type": "code",
   "execution_count": null,
   "id": "cell-lec23-3",
   "metadata": {},
   "outputs": [],
   "source": [
    "# Manually compute the 55th percentile of this array.\n",
    "\n",
    "x = make_array(43, 20, 51, 7, 28, 34)"
   ]
  },
  {
   "cell_type": "code",
   "execution_count": null,
   "id": "cell-lec23-4",
   "metadata": {},
   "outputs": [],
   "source": [
    "# Step 1. Sort the data into numerical order.\n",
    "\n",
    "np.sort(x)"
   ]
  },
  {
   "cell_type": "code",
   "execution_count": null,
   "id": "cell-lec23-6",
   "metadata": {},
   "outputs": [],
   "source": [
    "# Step 2. Figure out where 55th percentile would be.\n",
    "\n",
    "np.arange(1, 7)/6"
   ]
  },
  {
   "cell_type": "code",
   "execution_count": null,
   "id": "cell-lec23-7",
   "metadata": {},
   "outputs": [],
   "source": [
    "#Call the number that represents the value in the 55% percentile.\n",
    "\n",
    "np.sort(x).item(3)"
   ]
  },
  {
   "cell_type": "code",
   "execution_count": null,
   "id": "cell-lec23-8",
   "metadata": {},
   "outputs": [],
   "source": [
    "# Alternatively: One line of code\n",
    "\n",
    "percentile(55, x)"
   ]
  },
  {
   "cell_type": "markdown",
   "id": "63d11e8b",
   "metadata": {},
   "source": [
    "### Discussion Question:\n",
    "\n",
    "Which are True, when s = [1, 5, 7, 3, 9]?\n",
    "\n",
    "* percentile(10, s) == 0\n",
    "\n",
    "* percentile(39, s) == percentile(40, s)\n",
    "\n",
    "* percentile(40, s) == percentile(41, s)\n",
    "\n",
    "* percentile(50, s) == 5\n",
    "\n"
   ]
  },
  {
   "cell_type": "code",
   "execution_count": null,
   "id": "cell-lec23-9",
   "metadata": {},
   "outputs": [],
   "source": [
    "#Create your array.\n",
    "\n",
    "s = "
   ]
  },
  {
   "cell_type": "code",
   "execution_count": null,
   "id": "45e382d7",
   "metadata": {},
   "outputs": [],
   "source": [
    "# Find the percentile for each value. Try using code instead of hard coding like above. \n",
    "\n",
    "np.arange("
   ]
  },
  {
   "cell_type": "code",
   "execution_count": null,
   "id": "cell-lec23-10",
   "metadata": {},
   "outputs": [],
   "source": [
    "#Before running, what is your guess? Why?\n",
    "\n",
    "percentile(10, s) == 0"
   ]
  },
  {
   "cell_type": "code",
   "execution_count": null,
   "id": "cell-lec23-11",
   "metadata": {},
   "outputs": [],
   "source": [
    "#Before running, what is your guess? Why?\n",
    "\n",
    "percentile(39, s) == percentile(40, s)"
   ]
  },
  {
   "cell_type": "code",
   "execution_count": null,
   "id": "cell-lec23-12",
   "metadata": {},
   "outputs": [],
   "source": [
    "#Before running, what is your guess? Why?\n",
    "\n",
    "percentile(40, s) == percentile(41, s)"
   ]
  },
  {
   "cell_type": "code",
   "execution_count": null,
   "id": "cell-lec23-13",
   "metadata": {},
   "outputs": [],
   "source": [
    "#Before running, what is your guess? Why?\n",
    "\n",
    "percentile(50, s) == 5"
   ]
  },
  {
   "cell_type": "markdown",
   "id": "cell-lec23-14",
   "metadata": {},
   "source": [
    "## Total Compensation in Population \n",
    "\n",
    "The table being imported is public data about the employees of the city and county of San Francisco in 2019. \n",
    "There are no personal identifiers, just information about each individual position. "
   ]
  },
  {
   "cell_type": "code",
   "execution_count": null,
   "id": "cell-lec23-15",
   "metadata": {},
   "outputs": [],
   "source": [
    "sf = Table.read_table('san_francisco_2019.csv')\n",
    "sf.show(3)"
   ]
  },
  {
   "cell_type": "code",
   "execution_count": null,
   "id": "cell-lec23-16",
   "metadata": {},
   "outputs": [],
   "source": [
    "# Find who made the most money\n",
    "\n"
   ]
  },
  {
   "cell_type": "code",
   "execution_count": null,
   "id": "cell-lec23-17",
   "metadata": {},
   "outputs": [],
   "source": [
    "# Find who made the least money\n",
    "\n"
   ]
  },
  {
   "cell_type": "code",
   "execution_count": null,
   "id": "cell-lec23-18",
   "metadata": {},
   "outputs": [],
   "source": [
    "# Focus our research on employees who worked at least half time for the minimum wage of 2019\n",
    "# for the full year, excluding two weeks for vacation.\n",
    "# $15/hr, 20 hr/wk, 50 weeks\n",
    "\n",
    "min_salary = 15 * 20 * 50\n",
    "\n",
    "#Create a table that only shows employees who are above the minimum salary.\n",
    "\n",
    "sf = \n",
    "sf"
   ]
  },
  {
   "cell_type": "code",
   "execution_count": null,
   "id": "cell-lec23-19",
   "metadata": {},
   "outputs": [],
   "source": [
    "# How many employees are left in our data with the restriction?\n",
    "\n",
    "\n"
   ]
  },
  {
   "cell_type": "code",
   "execution_count": null,
   "id": "cell-lec23-20",
   "metadata": {},
   "outputs": [],
   "source": [
    "# Display a histogram of the cleaned up data using the given bins.\n",
    "\n",
    "sf_bins = np.arange(0, 726000, 25000)\n",
    "\n",
    "\n",
    "\n",
    "#disregard the error that comes up. "
   ]
  },
  {
   "cell_type": "markdown",
   "id": "cell-lec23-21",
   "metadata": {},
   "source": [
    "## Parameter: Median Total Compensation \n",
    "\n",
    "Median is a common measure used when talking about income because it is a middle value.\n",
    "\n",
    "If we used the average (mean) value it would be affected by the employees with very large values and skew the appearance of incomes for the city/county jobs. \n",
    "\n",
    "What is the percentile of the median?"
   ]
  },
  {
   "cell_type": "code",
   "execution_count": null,
   "id": "cell-lec23-22",
   "metadata": {},
   "outputs": [],
   "source": [
    "# Since we do have the entire population (restricted) we can get the population median. \n",
    "\n",
    "pop_median = percentile(50, sf.column('Total Compensation'))\n",
    "pop_median"
   ]
  },
  {
   "cell_type": "markdown",
   "id": "cell-lec23-23",
   "metadata": {},
   "source": [
    "## Estimating the Parameter (Pretend it is Unknown) \n",
    "\n",
    "If we did not have access to the entire population, we would have to estimate the population median.\n",
    "\n",
    "Usually, you will not have the entire population. So we will use this scenario to see how well our sampling does with estimating the parameter."
   ]
  },
  {
   "cell_type": "code",
   "execution_count": null,
   "id": "cell-lec23-24",
   "metadata": {},
   "outputs": [],
   "source": [
    "# Create a sample from the restricted table of 400, without replacment. \n",
    "\n",
    "our_sample = sf.sample(400, with_replacement=False)\n"
   ]
  },
  {
   "cell_type": "code",
   "execution_count": null,
   "id": "cell-lec23-25",
   "metadata": {
    "scrolled": true
   },
   "outputs": [],
   "source": [
    "# Display a histagram of your sample data using the sf_bins.\n",
    "\n",
    "\n"
   ]
  },
  {
   "cell_type": "code",
   "execution_count": null,
   "id": "cell-lec23-26",
   "metadata": {},
   "outputs": [],
   "source": [
    "#Find the median of your sample. \n",
    "\n",
    "percentile(50, our_sample.column('Total Compensation') )\n",
    "\n",
    "#How close is it to the population parameter?\n",
    "#How close was your neighbor's value to the parameter?"
   ]
  },
  {
   "cell_type": "markdown",
   "id": "cell-lec23-27",
   "metadata": {},
   "source": [
    "But in the real world we won't be able to keep going back to the population. \n",
    "Why?\n",
    "\n",
    "We need to know how to generate a new random sample *without going back to the population?*"
   ]
  },
  {
   "cell_type": "markdown",
   "id": "cell-lec23-28",
   "metadata": {},
   "source": [
    "# Bootstrap\n",
    "\n",
    "Creating a sample from an existing sample.\n",
    "\n",
    "Sample randomly\n",
    " - from the original sample\n",
    " - with replacement (allows for repeats of the same record)\n",
    " - the same number of times as the original sample size"
   ]
  },
  {
   "cell_type": "markdown",
   "id": "9203cb59",
   "metadata": {},
   "source": [
    "### Example Bootstrap"
   ]
  },
  {
   "cell_type": "code",
   "execution_count": null,
   "id": "934feaf7",
   "metadata": {},
   "outputs": [],
   "source": [
    "#start with a \"data set\"\n",
    "\n",
    "original = make_array(1,2,3,4,5)\n",
    "original"
   ]
  },
  {
   "cell_type": "code",
   "execution_count": null,
   "id": "09010bd4",
   "metadata": {},
   "outputs": [],
   "source": [
    "#Use existing \"data set\" to create a new \"data set\"\n",
    "# Create a table\n",
    "table = Table().with_columns('Original', original)\n",
    "\n",
    "# Add an array as a new column\n",
    "new_column = table.sample()\n",
    "table.with_columns(\n",
    "    'Bootstrap 1', new_column.column(0)\n",
    ")"
   ]
  },
  {
   "cell_type": "code",
   "execution_count": null,
   "id": "94952a35",
   "metadata": {},
   "outputs": [],
   "source": [
    "#Use a loop to add four new bootstraps\n",
    "for i in np.arange(1,5):\n",
    "    new_column = table.sample()\n",
    "    table = table.with_columns(\n",
    "            f'Bootstrap {i}', new_column.column(0)\n",
    "    )\n",
    "table"
   ]
  },
  {
   "cell_type": "code",
   "execution_count": null,
   "id": "cell-lec23-29",
   "metadata": {},
   "outputs": [],
   "source": [
    "# Default behavior of tbl.sample:\n",
    "# at random with replacement,\n",
    "# the same number of times as rows of tbl\n",
    "\n",
    "bootstrap_sample = our_sample.sample()\n"
   ]
  },
  {
   "cell_type": "code",
   "execution_count": null,
   "id": "cell-lec23-30",
   "metadata": {},
   "outputs": [],
   "source": [
    "# Create a histogram of the bootstrap samples using the sf_bins.\n",
    "\n"
   ]
  },
  {
   "cell_type": "markdown",
   "id": "cell-lec23-31",
   "metadata": {},
   "source": [
    "## Bootstrap Sample Median\n",
    "This is one estimate of the population median."
   ]
  },
  {
   "cell_type": "code",
   "execution_count": null,
   "id": "cell-lec23-32",
   "metadata": {},
   "outputs": [],
   "source": [
    "# Find the median income from the bootstrap sample\n",
    "\n"
   ]
  },
  {
   "cell_type": "code",
   "execution_count": null,
   "id": "cell-lec23-33",
   "metadata": {},
   "outputs": [],
   "source": [
    "#Create a function that finds a bootstrap sample, then returns the median of that sample.\n",
    "\n",
    "def one_bootstrap_median():\n",
    "    \n",
    "    # draw the bootstrap sample\n",
    "    resample = our_sample.sample()\n",
    "    \n",
    "    # return the median total compensation in the bootstrap sample\n",
    "    return percentile(50, resample.column('Total Compensation'))"
   ]
  },
  {
   "cell_type": "code",
   "execution_count": null,
   "id": "cell-lec23-34",
   "metadata": {},
   "outputs": [],
   "source": [
    "# Test the function\n",
    "\n",
    "one_bootstrap_median()\n"
   ]
  },
  {
   "cell_type": "code",
   "execution_count": null,
   "id": "cell-lec23-35",
   "metadata": {},
   "outputs": [],
   "source": [
    "# Generate the medians of 1000 bootstrap samples\n",
    "\n",
    "num_repetitions = 1000\n",
    "\n",
    "bstrap_medians = make_array()\n",
    "\n",
    "for i in np.arange(num_repetitions):\n",
    "    bstrap_medians = np.append(bstrap_medians, one_bootstrap_median())\n",
    "    "
   ]
  },
  {
   "cell_type": "code",
   "execution_count": null,
   "id": "33d9918a",
   "metadata": {},
   "outputs": [],
   "source": [
    "# Create a table that stores the medians under the column Bootstrap Sample Median\n",
    "\n",
    "resampled_medians = \n"
   ]
  },
  {
   "cell_type": "code",
   "execution_count": null,
   "id": "cell-lec23-36",
   "metadata": {},
   "outputs": [],
   "source": [
    "median_bins=np.arange(120000, 160000, 2000)\n",
    "\n",
    "#Display a histogram of the resampled medians using the given bins. \n",
    "\n",
    "\n",
    "\n",
    "# Plotting the original parameter; do not change. \n",
    "parameter_green = '#32CD32'\n",
    "plots.ylim(-0.000005, 0.00014)\n",
    "plots.scatter(pop_median, 0, color=parameter_green, s=40, zorder=2)\n",
    "plots.title('Bootstrap Medians and the Parameter (Green Dot)');"
   ]
  },
  {
   "cell_type": "markdown",
   "id": "cell-lec23-37",
   "metadata": {},
   "source": [
    "## Percentile Method: Middle 95% of the Bootstrap Estimates\n",
    "\n",
    "95% of our data is between two values, what are those values?"
   ]
  },
  {
   "cell_type": "code",
   "execution_count": null,
   "id": "cell-lec23-38",
   "metadata": {},
   "outputs": [],
   "source": [
    "#There is 5% left over in tails. \n",
    "\n",
    "#How much is in the lower tail?\n",
    "left = percentile(2.5, bstrap_medians)\n",
    "\n",
    "#To find the upper value we add the lower tail + the 95%.\n",
    "right = percentile(97.5, bstrap_medians)\n",
    "\n",
    "#Display those values.\n",
    "make_array(left, right)"
   ]
  },
  {
   "cell_type": "code",
   "execution_count": null,
   "id": "cell-lec23-39",
   "metadata": {},
   "outputs": [],
   "source": [
    "resampled_medians.hist(bins = median_bins)\n",
    "\n",
    "# Plotting parameters and the 95%, do not change.\n",
    "plots.ylim(-0.000005, 0.00014)\n",
    "plots.plot(make_array(left, right), make_array(0, 0), color='yellow', lw=3, zorder=1)\n",
    "plots.scatter(pop_median, 0, color=parameter_green, s=40, zorder=2);"
   ]
  },
  {
   "cell_type": "markdown",
   "id": "e9d8b89a",
   "metadata": {},
   "source": [
    "***Did the Bootstrap Method give a good estimate to the population parameter?***"
   ]
  },
  {
   "cell_type": "code",
   "execution_count": null,
   "id": "3975ed43",
   "metadata": {},
   "outputs": [],
   "source": []
  }
 ],
 "metadata": {
  "kernelspec": {
   "display_name": "Python 3 (ipykernel)",
   "language": "python",
   "name": "python3"
  },
  "language_info": {
   "codemirror_mode": {
    "name": "ipython",
    "version": 3
   },
   "file_extension": ".py",
   "mimetype": "text/x-python",
   "name": "python",
   "nbconvert_exporter": "python",
   "pygments_lexer": "ipython3",
   "version": "3.10.11"
  }
 },
 "nbformat": 4,
 "nbformat_minor": 5
}
