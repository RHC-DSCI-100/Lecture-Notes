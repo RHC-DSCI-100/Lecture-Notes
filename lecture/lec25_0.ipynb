{
 "cells": [
  {
   "cell_type": "code",
   "execution_count": null,
   "id": "cell-lec25-0",
   "metadata": {},
   "outputs": [],
   "source": [
    "import matplotlib\n",
    "from datascience import *\n",
    "%matplotlib inline\n",
    "import matplotlib.pyplot as plots\n",
    "import numpy as np\n",
    "import math\n",
    "plots.style.use('fivethirtyeight')"
   ]
  },
  {
   "cell_type": "markdown",
   "id": "cell-lec25-1",
   "metadata": {},
   "source": [
    "# Lecture 25 #"
   ]
  },
  {
   "cell_type": "markdown",
   "id": "31581db6",
   "metadata": {},
   "source": [
    "## Measures of Center ##"
   ]
  },
  {
   "cell_type": "markdown",
   "id": "cell-lec25-2",
   "metadata": {},
   "source": [
    "### Average (Mean) ###\n",
    "\n",
    "Mean is the ratio of the sum of all of the data over the number of data points. \n",
    "The value will between the lowest and highest value (but not neccessarily the middle value)\n",
    "\n",
    "There are several ways to calculate the mean. "
   ]
  },
  {
   "cell_type": "code",
   "execution_count": null,
   "id": "cell-lec25-3",
   "metadata": {},
   "outputs": [],
   "source": [
    "values = make_array(2, 3, 3, 9)\n",
    "values"
   ]
  },
  {
   "cell_type": "code",
   "execution_count": null,
   "id": "cell-lec25-4",
   "metadata": {},
   "outputs": [],
   "source": [
    "# Brute Force Average Calculation\n",
    "sum(values)/len(values)"
   ]
  },
  {
   "cell_type": "code",
   "execution_count": null,
   "id": "cell-lec25-5",
   "metadata": {},
   "outputs": [],
   "source": [
    "# Numpy Method for Average\n",
    "np.average(values)"
   ]
  },
  {
   "cell_type": "code",
   "execution_count": null,
   "id": "cell-lec25-6",
   "metadata": {},
   "outputs": [],
   "source": [
    "# Numpy Method for Mean\n",
    "np.mean(values)"
   ]
  },
  {
   "cell_type": "code",
   "execution_count": null,
   "id": "cell-lec25-7",
   "metadata": {},
   "outputs": [],
   "source": [
    "(2 + 3 + 3 + 9)/4"
   ]
  },
  {
   "cell_type": "code",
   "execution_count": null,
   "id": "cell-lec25-8",
   "metadata": {},
   "outputs": [],
   "source": [
    "# Proportional Calculation\n",
    "2*(1/4) + 3*(2/4) + 9*(1/4)"
   ]
  },
  {
   "cell_type": "code",
   "execution_count": null,
   "id": "cell-lec25-9",
   "metadata": {},
   "outputs": [],
   "source": [
    "2*0.25 + 3*0.5 + 9*0.25"
   ]
  },
  {
   "cell_type": "code",
   "execution_count": null,
   "id": "cell-lec25-10",
   "metadata": {},
   "outputs": [],
   "source": [
    "values_table = Table().with_columns('value', values)\n",
    "values_table"
   ]
  },
  {
   "cell_type": "code",
   "execution_count": null,
   "id": "cell-lec25-11",
   "metadata": {},
   "outputs": [],
   "source": [
    "bins_for_display = np.arange(0.5, 10.6, 1)\n",
    "values_table.hist('value', bins = bins_for_display)"
   ]
  },
  {
   "cell_type": "code",
   "execution_count": null,
   "id": "cell-lec25-12",
   "metadata": {},
   "outputs": [],
   "source": [
    "## Make array of 10 2s, 20 3s, and 10 9s\n",
    "\n",
    "new_vals = make_array(2, 2, 2, 2, 2, 2, 2, 2, 2, 2,\n",
    "                      3, 3, 3, 3, 3, 3, 3, 3, 3, 3, 3, 3, 3, 3, 3, 3, 3, 3, 3, 3,\n",
    "                      9, 9, 9, 9, 9, 9, 9, 9, 9, 9)"
   ]
  },
  {
   "cell_type": "code",
   "execution_count": null,
   "id": "cell-lec25-13",
   "metadata": {},
   "outputs": [],
   "source": [
    "Table().with_column('value', new_vals).hist(bins = bins_for_display)"
   ]
  },
  {
   "cell_type": "code",
   "execution_count": null,
   "id": "cell-lec25-14",
   "metadata": {},
   "outputs": [],
   "source": [
    "# Original Array Average\n",
    "np.average(values)"
   ]
  },
  {
   "cell_type": "code",
   "execution_count": null,
   "id": "cell-lec25-15",
   "metadata": {},
   "outputs": [],
   "source": [
    "# New Array Average\n",
    "np.average(new_vals)"
   ]
  },
  {
   "cell_type": "code",
   "execution_count": null,
   "id": "cell-lec25-16",
   "metadata": {},
   "outputs": [],
   "source": [
    "Table().with_column('value', new_vals).hist(bins = bins_for_display)\n",
    "plots.ylim(-0.04, 0.5)\n",
    "plots.plot([0, 10], [0, 0], color='grey', lw=2)\n",
    "plots.scatter(4.25, -0.015, marker='^', color='red', s=100)\n",
    "plots.title('Average as a Center of Gravity');"
   ]
  },
  {
   "cell_type": "markdown",
   "id": "1334ac43",
   "metadata": {},
   "source": [
    "The average gives the value that would balance the distribution based on the wieght of each data point instead of finding the middle value (median).\n",
    "\n",
    "Symmetric Distributions:    the mean   the median\n",
    "Skewed Left Distributions:  the mean   the median\n",
    "Skewed Right Distributions: the mean   the median"
   ]
  },
  {
   "cell_type": "markdown",
   "id": "4931df2e",
   "metadata": {},
   "source": [
    "## Data Variability ##\n",
    "\n",
    "How does the data vary from the mean?\n",
    "\n",
    "Deviation from the mean = \n",
    "    Negative values imply\n",
    "    Positive values imply"
   ]
  },
  {
   "cell_type": "markdown",
   "id": "cell-lec25-17",
   "metadata": {},
   "source": [
    "### Standard Deviation ###\n",
    "A standard measure to help describe the distance a value is from the mean. \n",
    "\n",
    "The majority of the data will lie withing 4 standard deviations of the mean. "
   ]
  },
  {
   "cell_type": "code",
   "execution_count": null,
   "id": "cell-lec25-18",
   "metadata": {},
   "outputs": [],
   "source": [
    "sd_table = Table().with_columns('Value', values)\n",
    "sd_table"
   ]
  },
  {
   "cell_type": "code",
   "execution_count": null,
   "id": "cell-lec25-19",
   "metadata": {},
   "outputs": [],
   "source": [
    "average_value = np.mean(values)\n",
    "average_value\n"
   ]
  },
  {
   "cell_type": "code",
   "execution_count": null,
   "id": "cell-lec25-20",
   "metadata": {},
   "outputs": [],
   "source": [
    "deviations = values - average_value\n",
    "sd_table = sd_table.with_column('Deviation', deviations)\n",
    "sd_table"
   ]
  },
  {
   "cell_type": "code",
   "execution_count": null,
   "id": "cell-lec25-21",
   "metadata": {},
   "outputs": [],
   "source": [
    "sum(deviations)"
   ]
  },
  {
   "cell_type": "markdown",
   "id": "3c4a7533",
   "metadata": {},
   "source": [
    "### Variance ###\n",
    "\n",
    "The size of the deviations. This is calucated by squaring the standard deviation. \n"
   ]
  },
  {
   "cell_type": "code",
   "execution_count": null,
   "id": "cell-lec25-22",
   "metadata": {},
   "outputs": [],
   "source": [
    "sd_table = sd_table.with_column('Squared Deviation', deviations ** 2)\n",
    "sd_table"
   ]
  },
  {
   "cell_type": "code",
   "execution_count": null,
   "id": "cell-lec25-23",
   "metadata": {},
   "outputs": [],
   "source": [
    "# Variance of the data:\n",
    "# mean squared deviation from average\n",
    "\n",
    "variance = np.mean(deviations ** 2)\n",
    "variance"
   ]
  },
  {
   "cell_type": "code",
   "execution_count": null,
   "id": "cell-lec25-24",
   "metadata": {},
   "outputs": [],
   "source": [
    "# Standard Deviation (SD): \n",
    "# root mean squared deviation from average\n",
    "# = square root of the variance\n",
    "\n",
    "# Brute Force\n",
    "sd = variance ** 0.5\n",
    "print(f\"Brute: {sd}\")\n",
    "\n",
    "# Math Module\n",
    "sd = math.sqrt(variance)\n",
    "print(f\" Math: {sd}\")\n",
    "\n",
    "# Numpy Module\n",
    "sd = np.sqrt(variance)\n",
    "print(f\"Numpy: {sd}\")"
   ]
  },
  {
   "cell_type": "code",
   "execution_count": null,
   "id": "cell-lec25-25",
   "metadata": {},
   "outputs": [],
   "source": [
    "np.std(values)"
   ]
  },
  {
   "cell_type": "markdown",
   "id": "cell-lec25-26",
   "metadata": {},
   "source": [
    "### Chebyshev's Bounds ###\n",
    "\n",
    "No matter what the shape of the distribution,\n",
    "the bulk of the data are in the range “average ± a few SDs”\n"
   ]
  },
  {
   "cell_type": "code",
   "execution_count": null,
   "id": "cell-lec25-27",
   "metadata": {},
   "outputs": [],
   "source": [
    "births = Table.read_table('baby.csv').drop('Maternal Smoker')\n",
    "births.num_rows"
   ]
  },
  {
   "cell_type": "code",
   "execution_count": null,
   "id": "cell-lec25-28",
   "metadata": {},
   "outputs": [],
   "source": [
    "births.labels"
   ]
  },
  {
   "cell_type": "code",
   "execution_count": null,
   "id": "cell-lec25-29",
   "metadata": {},
   "outputs": [],
   "source": [
    "births.hist(overlay = False)"
   ]
  },
  {
   "cell_type": "code",
   "execution_count": null,
   "id": "cell-lec25-30",
   "metadata": {},
   "outputs": [],
   "source": [
    "mpw = births.column('Maternal Pregnancy Weight')\n",
    "mean = np.mean(mpw)\n",
    "sd = np.std(mpw)\n",
    "mean, sd"
   ]
  },
  {
   "cell_type": "code",
   "execution_count": null,
   "id": "cell-lec25-31",
   "metadata": {},
   "outputs": [],
   "source": [
    "within_3_SDs = births.where(\n",
    "    'Maternal Pregnancy Weight', are.between(mean - 3*sd, mean + 3*sd))\n",
    "within_3_SDs"
   ]
  },
  {
   "cell_type": "code",
   "execution_count": null,
   "id": "cell-lec25-32",
   "metadata": {},
   "outputs": [],
   "source": [
    "# Proportion within 3 SDs of the mean\n",
    "\n",
    "within_3_SDs.num_rows / births.num_rows"
   ]
  },
  {
   "cell_type": "code",
   "execution_count": null,
   "id": "cell-lec25-33",
   "metadata": {},
   "outputs": [],
   "source": [
    "# Chebyshev's bound: \n",
    "# This proportion should be at least\n",
    "\n",
    "1 - 1/3**2"
   ]
  },
  {
   "cell_type": "code",
   "execution_count": null,
   "id": "cell-lec25-34",
   "metadata": {},
   "outputs": [],
   "source": [
    "births.labels"
   ]
  },
  {
   "cell_type": "code",
   "execution_count": null,
   "id": "cell-lec25-35",
   "metadata": {},
   "outputs": [],
   "source": [
    "# See if Chebyshev's bounds work for distributions with various shapes\n",
    "\n",
    "for feature in births.labels:\n",
    "    values = births.column(feature)\n",
    "    mean = np.mean(values)\n",
    "    sd = np.std(values)\n",
    "    print()\n",
    "    print(feature)\n",
    "    for z in make_array(2, 3, 4, 5):\n",
    "        chosen = births.where(feature, are.between(mean - z*sd, mean + z*sd))\n",
    "        proportion = chosen.num_rows / births.num_rows\n",
    "        percent = round(proportion * 100, 2)\n",
    "        print('Average plus or minus', z, 'SDs:', percent, '%')"
   ]
  },
  {
   "cell_type": "markdown",
   "id": "cell-lec25-36",
   "metadata": {},
   "source": [
    "## Standard Units ##\n",
    "\n",
    "Standardizing the standard deviation tells how the number of deviations and direction. \n",
    "This is called the z-score and is based on a Normal (symmetric) curve. \n",
    "In a Normal distribution, the center is 0 and the Standrad Deviation is 1. \n",
    "\n",
    "To standardize subtract the mean from the data value and divide by the standard deviation."
   ]
  },
  {
   "cell_type": "code",
   "execution_count": null,
   "id": "cell-lec25-37",
   "metadata": {},
   "outputs": [],
   "source": [
    "def standard_units(x):\n",
    "    \"\"\"Convert array x to standard units.\"\"\"\n",
    "    return (x - np.mean(x)) / np.std(x)"
   ]
  },
  {
   "cell_type": "code",
   "execution_count": null,
   "id": "cell-lec25-38",
   "metadata": {},
   "outputs": [],
   "source": [
    "ages = births.column('Maternal Age')\n",
    "ages"
   ]
  },
  {
   "cell_type": "code",
   "execution_count": null,
   "id": "cell-lec25-39",
   "metadata": {},
   "outputs": [],
   "source": [
    "ages_standard_units = standard_units(ages)\n",
    "ages_standard_units"
   ]
  },
  {
   "cell_type": "code",
   "execution_count": null,
   "id": "cell-lec25-40",
   "metadata": {},
   "outputs": [],
   "source": [
    "np.mean(ages_standard_units), np.std(ages_standard_units)\n"
   ]
  },
  {
   "cell_type": "markdown",
   "id": "cell-lec25-41",
   "metadata": {},
   "source": [
    "## Discussion Question \n",
    "\n",
    "a. Find the ages that are close to the mean age. \n",
    "b. Find the values that are close to the standard deviation of the data set. \n"
   ]
  },
  {
   "cell_type": "code",
   "execution_count": null,
   "id": "cell-lec25-42",
   "metadata": {},
   "outputs": [],
   "source": [
    "# Show the actual age and the standardized value for the age for each record.\n",
    "\n",
    "both = Table().with_columns(\n",
    "    'Age in Years', ages,\n",
    "    'Age in Standard Units', ages_standard_units\n",
    ")\n",
    "both"
   ]
  },
  {
   "cell_type": "code",
   "execution_count": null,
   "id": "cell-lec25-43",
   "metadata": {},
   "outputs": [],
   "source": [
    "# Determine the mean and the standard deviation of the data. \n",
    "\n",
    "np.mean(ages), np.std(ages)"
   ]
  },
  {
   "cell_type": "code",
   "execution_count": null,
   "id": "cell-lec25-44",
   "metadata": {
    "scrolled": true
   },
   "outputs": [],
   "source": [
    "both.hist('Age in Years', bins = np.arange(15, 46, 2))"
   ]
  },
  {
   "cell_type": "code",
   "execution_count": null,
   "id": "cell-lec25-45",
   "metadata": {},
   "outputs": [],
   "source": [
    "both.hist('Age in Standard Units', bins = np.arange(-2.2, 3.4, 0.35))\n",
    "plots.xlim(-2, 3.1);"
   ]
  },
  {
   "cell_type": "markdown",
   "id": "cell-lec25-46",
   "metadata": {},
   "source": [
    "## The SD and Bell Shaped Curves "
   ]
  },
  {
   "cell_type": "code",
   "execution_count": null,
   "id": "cell-lec25-47",
   "metadata": {},
   "outputs": [],
   "source": [
    "births.hist('Maternal Height', bins = np.arange(56.5, 72.6, 1))\n",
    "plots.xticks(np.arange(57, 72, 2));"
   ]
  },
  {
   "cell_type": "markdown",
   "id": "cell-lec25-48",
   "metadata": {},
   "source": [
    "Estimates by eye\n",
    "\n",
    "The average is approximately: \n",
    "\n",
    "Locate the point of inflection on the right. The SD is approximately:"
   ]
  },
  {
   "cell_type": "code",
   "execution_count": null,
   "id": "cell-lec25-49",
   "metadata": {},
   "outputs": [],
   "source": [
    "heights = births.column('Maternal Height')\n",
    "np.mean(heights), np.std(heights)"
   ]
  },
  {
   "cell_type": "code",
   "execution_count": null,
   "id": "8832e308",
   "metadata": {},
   "outputs": [],
   "source": [
    "height = births.column('Maternal Height')\n",
    "height"
   ]
  },
  {
   "cell_type": "code",
   "execution_count": null,
   "id": "180c4bb0",
   "metadata": {},
   "outputs": [],
   "source": [
    "height_standard_units = standard_units(height)\n",
    "height_standard_units"
   ]
  },
  {
   "cell_type": "code",
   "execution_count": null,
   "id": "fdc4d891",
   "metadata": {},
   "outputs": [],
   "source": [
    "np.mean(height_standard_units), np.std(height_standard_units)\n"
   ]
  },
  {
   "cell_type": "code",
   "execution_count": null,
   "id": "7d556a11",
   "metadata": {},
   "outputs": [],
   "source": [
    "both_height = Table().with_columns(\n",
    "    'Height in Inches', height,\n",
    "    'Height in Standard Units', height_standard_units\n",
    ")\n",
    "both_height"
   ]
  },
  {
   "cell_type": "code",
   "execution_count": null,
   "id": "d2393452",
   "metadata": {},
   "outputs": [],
   "source": [
    "both_height.hist('Height in Standard Units', bins = np.arange(-3, 3.4, 0.4))\n",
    "plots.xlim(-3.1, 3.1)"
   ]
  },
  {
   "cell_type": "code",
   "execution_count": null,
   "id": "ed48abef",
   "metadata": {},
   "outputs": [],
   "source": []
  }
 ],
 "metadata": {
  "anaconda-cloud": {},
  "kernelspec": {
   "display_name": "Python 3 (ipykernel)",
   "language": "python",
   "name": "python3"
  },
  "language_info": {
   "codemirror_mode": {
    "name": "ipython",
    "version": 3
   },
   "file_extension": ".py",
   "mimetype": "text/x-python",
   "name": "python",
   "nbconvert_exporter": "python",
   "pygments_lexer": "ipython3",
   "version": "3.10.11"
  }
 },
 "nbformat": 4,
 "nbformat_minor": 5
}
