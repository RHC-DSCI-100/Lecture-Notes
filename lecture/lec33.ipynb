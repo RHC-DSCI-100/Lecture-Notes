{
 "cells": [
  {
   "cell_type": "code",
   "execution_count": null,
   "id": "cell-lec33-0",
   "metadata": {},
   "outputs": [],
   "source": [
    "from datascience import *\n",
    "import numpy as np\n",
    "import matplotlib\n",
    "%matplotlib inline\n",
    "import matplotlib.pyplot as plots\n",
    "plots.style.use('fivethirtyeight')"
   ]
  },
  {
   "cell_type": "code",
   "execution_count": null,
   "id": "cell-lec33-1",
   "metadata": {},
   "outputs": [],
   "source": [
    "def standard_units(arr):\n",
    "    return (arr - np.average(arr))/np.std(arr)\n",
    "\n",
    "def correlation(t, x, y):\n",
    "    x_standard = standard_units(t.column(x))\n",
    "    y_standard = standard_units(t.column(y))\n",
    "    return np.average(x_standard * y_standard)\n",
    "\n",
    "def slope(t, x, y):\n",
    "    r = correlation(t, x, y)\n",
    "    y_sd = np.std(t.column(y))\n",
    "    x_sd = np.std(t.column(x))\n",
    "    return r * y_sd / x_sd\n",
    "\n",
    "def intercept(t, x, y):\n",
    "    x_mean = np.mean(t.column(x))\n",
    "    y_mean = np.mean(t.column(y))\n",
    "    return y_mean - slope(t, x, y)*x_mean\n",
    "\n",
    "def fitted_values(t, x, y):\n",
    "    \"\"\"Return an array of the regression estimates at all the x values\"\"\"\n",
    "    a = slope(t, x, y)\n",
    "    b = intercept(t, x, y)\n",
    "    return a*t.column(x) + b\n",
    "\n",
    "def residuals(t, x, y):\n",
    "    \"\"\"Return an array of all the residuals\"\"\"\n",
    "    predictions = fitted_values(t, x, y)\n",
    "    return t.column(y) - predictions"
   ]
  },
  {
   "cell_type": "markdown",
   "id": "cell-lec33-2",
   "metadata": {},
   "source": [
    "## Regression Model"
   ]
  },
  {
   "cell_type": "code",
   "execution_count": null,
   "id": "cell-lec33-3",
   "metadata": {},
   "outputs": [],
   "source": [
    "#This code will generate an example data set based on a given slope and intercept. \n",
    "#The amount of data points is set by the sample sixe.\n",
    "\n",
    "def draw_and_compare(true_slope, true_int, sample_size):\n",
    "    x = np.random.normal(50, 5, sample_size)\n",
    "    xlims = np.array([np.min(x), np.max(x)])\n",
    "    errors = np.random.normal(0, 6, sample_size)\n",
    "    y = (true_slope * x + true_int) + errors\n",
    "    sample = Table().with_columns('x', x, 'y', y)\n",
    "\n",
    "    sample.scatter('x', 'y')\n",
    "    plots.plot(xlims, true_slope*xlims + true_int, lw=2, color='green')\n",
    "    plots.title('True Line, and Points Created')\n",
    "\n",
    "    sample.scatter('x', 'y')\n",
    "    plots.title('What We Get to See')\n",
    "\n",
    "    sample.scatter('x', 'y', fit_line=True)\n",
    "    plots.title('Regression Line: Estimate of True Line')\n",
    "\n",
    "    sample.scatter('x', 'y', fit_line=True)\n",
    "    plots.plot(xlims, true_slope*xlims + true_int, lw=2, color='green')\n",
    "    plots.title(\"Regression Line and True Line\")"
   ]
  },
  {
   "cell_type": "code",
   "execution_count": null,
   "id": "cell-lec33-4",
   "metadata": {
    "scrolled": false
   },
   "outputs": [],
   "source": [
    "#Identify the slope, intercept, and sample size.\n",
    "#How would you write the equation of the true line?\n",
    "\n",
    "draw_and_compare(2, -5, 10)\n",
    "\n",
    "#Look at the last graph. How well did the Regression Line predict the true line?\n",
    "#Why do you think that is?"
   ]
  },
  {
   "cell_type": "code",
   "execution_count": null,
   "id": "cell-lec33-5",
   "metadata": {
    "scrolled": false
   },
   "outputs": [],
   "source": [
    "#Identify the slope, intercept, and sample size.\n",
    "#How would you write the equation of the true line?\n",
    "\n",
    "draw_and_compare(2, -5, 10)\n",
    "\n",
    "#Look at the last graph. How well did the Regression Line predict the true line?\n"
   ]
  },
  {
   "cell_type": "code",
   "execution_count": null,
   "id": "cell-lec33-6",
   "metadata": {
    "scrolled": false
   },
   "outputs": [],
   "source": [
    "#Identify the slope, intercept, and sample size.\n",
    "#How would you write the equation of the true line?\n",
    "\n",
    "draw_and_compare(2, -5, 100)\n",
    "\n",
    "#Look at the last graph. How well did the Regression Line predict the true line?\n",
    "#Why do you think that is?"
   ]
  },
  {
   "cell_type": "code",
   "execution_count": null,
   "id": "cell-lec33-7",
   "metadata": {
    "scrolled": false
   },
   "outputs": [],
   "source": [
    "#Identify the slope, intercept, and sample size.\n",
    "#How would you write the equation of the true line?\n",
    "\n",
    "draw_and_compare(2, -5, 100)\n",
    "\n",
    "#Look at the last graph. How well did the Regression Line predict the true line?\n"
   ]
  },
  {
   "cell_type": "markdown",
   "id": "cell-lec33-8",
   "metadata": {},
   "source": [
    "## Prediction"
   ]
  },
  {
   "cell_type": "code",
   "execution_count": null,
   "id": "cell-lec33-9",
   "metadata": {},
   "outputs": [],
   "source": [
    "#Import the births data set. \n",
    "\n",
    "births = Table.read_table('baby.csv')\n",
    "births.show(3)"
   ]
  },
  {
   "cell_type": "code",
   "execution_count": null,
   "id": "cell-lec33-10",
   "metadata": {},
   "outputs": [],
   "source": [
    "# Preterm and postterm pregnancy cutoffs, according to the CDC in days\n",
    "37 * 7, 42 * 7"
   ]
  },
  {
   "cell_type": "code",
   "execution_count": null,
   "id": "cell-lec33-11",
   "metadata": {},
   "outputs": [],
   "source": [
    "#Create a scatter comparing Gestational Days to Birth Weight\n",
    "\n"
   ]
  },
  {
   "cell_type": "code",
   "execution_count": null,
   "id": "cell-lec33-12",
   "metadata": {},
   "outputs": [],
   "source": [
    "#Create a new table births with Gesational Days between 225 and 325.\n",
    "\n"
   ]
  },
  {
   "cell_type": "code",
   "execution_count": null,
   "id": "cell-lec33-13",
   "metadata": {},
   "outputs": [],
   "source": [
    "#Create a scatter comparing Gestational Days to Birth Weight of the new births table. \n",
    "\n"
   ]
  },
  {
   "cell_type": "markdown",
   "id": "cell-lec33-14",
   "metadata": {},
   "source": [
    "## Suppose we assume the regression model\n",
    "\n",
    "If the data come from the regression model,\n",
    "* The “true value” of the response y at a given value of x is the height of the true line at x\n",
    "* We can’t see the true line, so we have to estimate this height\n",
    "* The regression line is most likely close to true line\n",
    "* Given a new value of x, predict y by finding the point on the regression line at that x\n"
   ]
  },
  {
   "cell_type": "code",
   "execution_count": null,
   "id": "cell-lec33-15",
   "metadata": {},
   "outputs": [],
   "source": [
    "correlation(births, 'Gestational Days', 'Birth Weight')"
   ]
  },
  {
   "cell_type": "code",
   "execution_count": null,
   "id": "cell-lec33-16",
   "metadata": {},
   "outputs": [],
   "source": [
    "births.scatter('Gestational Days', 'Birth Weight', fit_line=True)"
   ]
  },
  {
   "cell_type": "markdown",
   "id": "cell-lec33-17",
   "metadata": {},
   "source": [
    "## Prediction at a Given Value of x"
   ]
  },
  {
   "cell_type": "code",
   "execution_count": null,
   "id": "cell-lec33-18",
   "metadata": {},
   "outputs": [],
   "source": [
    "def prediction_at(t, x, y, x_value):\n",
    "    '''\n",
    "    t - table\n",
    "    x - label of x column\n",
    "    y - label of y column\n",
    "    x_value - the x value for which we want to predict y\n",
    "    '''\n",
    "    return slope(t, x, y) * x_value + intercept(t, x, y)"
   ]
  },
  {
   "cell_type": "code",
   "execution_count": null,
   "id": "cell-lec33-19",
   "metadata": {},
   "outputs": [],
   "source": [
    "prediction_at_300 = prediction_at(births, 'Gestational Days', 'Birth Weight', 300)\n",
    "prediction_at_300"
   ]
  },
  {
   "cell_type": "code",
   "execution_count": null,
   "id": "cell-lec33-20",
   "metadata": {},
   "outputs": [],
   "source": [
    "x = 300\n",
    "births.scatter('Gestational Days', 'Birth Weight', fit_line=True)\n",
    "plots.plot([x, x], [40, prediction_at_300], color='red', lw=2);"
   ]
  },
  {
   "cell_type": "markdown",
   "id": "cell-lec33-21",
   "metadata": {},
   "source": [
    "## Bootstrapping the Sample"
   ]
  },
  {
   "cell_type": "code",
   "execution_count": null,
   "id": "cell-lec33-22",
   "metadata": {},
   "outputs": [],
   "source": [
    "# This plots several bootstrap samples based on the original sample. \n",
    "\n",
    "plots.figure(figsize=(10, 11))\n",
    "plots.subplot(3, 2, 1)\n",
    "plots.scatter(births[1], births[0], s=10, color='darkblue')\n",
    "plots.xlim([225, 325])\n",
    "plots.title('Original sample')\n",
    "\n",
    "for i in np.arange(1, 6, 1):\n",
    "    plots.subplot(3,2,i+1)\n",
    "    resampled = births.sample()\n",
    "    plots.scatter(resampled.column('Gestational Days'), resampled.column('Birth Weight'), s=10, color='tab:green')\n",
    "    plots.xlim([225, 325])\n",
    "    plots.title('Bootstrap sample '+str(i))\n",
    "plots.tight_layout()"
   ]
  },
  {
   "cell_type": "code",
   "execution_count": null,
   "id": "cell-lec33-23",
   "metadata": {
    "scrolled": false
   },
   "outputs": [],
   "source": [
    "#Each bootstrap sample will generate a different predicted value. \n",
    "\n",
    "for i in np.arange(4):\n",
    "    resample = births.sample()\n",
    "    predicted_y = prediction_at(resample, 'Gestational Days', 'Birth Weight', 300)\n",
    "    print('Predicted y from bootstramp sample was', predicted_y)\n",
    "    resample.scatter('Gestational Days', 'Birth Weight', fit_line=True)\n",
    "    plots.scatter(300, predicted_y, color='gold', s=50, zorder=3);\n",
    "    plots.plot([x, x], [40, predicted_y], color='red', lw=2);\n",
    "    plots.plot([200, x], [predicted_y, predicted_y], color='red', lw=2);"
   ]
  },
  {
   "cell_type": "code",
   "execution_count": null,
   "id": "cell-lec33-24",
   "metadata": {},
   "outputs": [],
   "source": [
    "#This finds the Regression line for each bootstrap sample and plots on the same coordinate plane. \n",
    "#It also marks the prediction at 300 days on each line. \n",
    "\n",
    "lines = Table(['slope','intercept', 'at 210', 'at 300', 'at 320'])\n",
    "\n",
    "for i in range(10):\n",
    "    resample = births.sample()\n",
    "    a = slope(resample, 'Gestational Days', 'Birth Weight')\n",
    "    b = intercept(resample, 'Gestational Days', 'Birth Weight')\n",
    "    lines.append([a, b, a * 210 + b, a * 300 + b, a * 320 + b])\n",
    "\n",
    "for i in np.arange(lines.num_rows):\n",
    "    line = lines.row(i)\n",
    "    plots.plot([210, 320], [line.item('at 210'), line.item('at 320')], lw=1)\n",
    "    plots.scatter(300, line.item('at 300'), s=30, zorder=3)\n",
    "    \n",
    "#Where do the lines seem to intersect or are the closest to each other?"
   ]
  },
  {
   "cell_type": "code",
   "execution_count": null,
   "id": "cell-lec33-25",
   "metadata": {},
   "outputs": [],
   "source": [
    "#Find an display the mean of the gestational days and the mean of the birth weight.\n",
    "\n",
    "\n",
    "#Compare the result to where the lines seem to intersect. "
   ]
  },
  {
   "cell_type": "code",
   "execution_count": null,
   "id": "cell-lec33-26",
   "metadata": {},
   "outputs": [],
   "source": [
    "#Plotting lines again but zooming in on the area we are interested in. \n",
    "#What are the differences in this code compared to the previous?\n",
    "\n",
    "lines = Table(['slope','intercept', 'at 291', 'at 300', 'at 309'])\n",
    "\n",
    "for i in range(10):\n",
    "    resample = births.sample()\n",
    "    a = slope(resample, 'Gestational Days', 'Birth Weight')\n",
    "    b = intercept(resample, 'Gestational Days', 'Birth Weight')\n",
    "    lines.append([a, b, a * 291 + b, a * 300 + b, a * 309 + b])\n",
    "lines\n"
   ]
  },
  {
   "cell_type": "code",
   "execution_count": null,
   "id": "cell-lec33-27",
   "metadata": {},
   "outputs": [],
   "source": [
    "#A zoomed in view focusing on the predictions at 300 days. \n",
    "\n",
    "for i in np.arange(lines.num_rows):\n",
    "    line = lines.row(i)\n",
    "    plots.plot([291, 309], [line.item('at 291'), line.item('at 309')], lw=1)\n",
    "    plots.scatter(300, line.item('at 300'), s=30, zorder=3)"
   ]
  },
  {
   "cell_type": "markdown",
   "id": "cell-lec33-28",
   "metadata": {},
   "source": [
    "## Prediction Interval\n",
    "\n",
    "Bootstrap the scatter plot\n",
    " * Get a prediction for y using the regression line that goes through the resampled plot\n",
    " * Repeat the two steps above many times\n",
    " * Draw the empirical histogram of all the predictions.\n",
    " * Get the “middle 95%” interval. This is our range of predictions of y.\n",
    " * It is an approximate 95% confidence interval for the height of the true line at x."
   ]
  },
  {
   "cell_type": "code",
   "execution_count": null,
   "id": "cell-lec33-29",
   "metadata": {},
   "outputs": [],
   "source": [
    "# This code will generate many bootstrap samples, find the prediction in each of those samples,\n",
    "# find the endpoints of the 95% interval, and display the results as a histogram. \n",
    "\n",
    "def bootstrap_prediction(t, x, y, new_x, repetitions=2500):\n",
    "    \"\"\" \n",
    "    Makes a 95% confidence interval for the height of the true line at new_x, \n",
    "    using linear regression on the data in t (column names x and y).\n",
    "    Shows a histogram of the bootstrap samples and shows the interval\n",
    "    in gold.\n",
    "    \"\"\"\n",
    "\n",
    "    # Bootstrap the scatter, predict, collect\n",
    "    predictions = make_array()\n",
    "    for i in np.arange(repetitions):\n",
    "        resample = t.sample()\n",
    "        predicted_y = prediction_at(resample, x, y, new_x)\n",
    "        predictions = np.append(predictions, predicted_y)\n",
    "\n",
    "    # Find the ends of the approximate 95% prediction interval\n",
    "    left = percentile(2.5, predictions)\n",
    "    right = percentile(97.5, predictions)\n",
    "    round_left = round(left, 3)\n",
    "    round_right = round(right, 3)\n",
    "\n",
    "    # Display results\n",
    "    Table().with_column('Prediction', predictions).hist(bins=20)\n",
    "    plots.xlabel('predictions at x='+str(new_x))\n",
    "    plots.plot([left, right], [0, 0], color='yellow', lw=8);\n",
    "    print('Approximate 95%-confidence interval for height of true line at x =', new_x)\n",
    "    print(round_left, 'to', round_right, '( width =', round(right - left, 3), ')') "
   ]
  },
  {
   "cell_type": "code",
   "execution_count": null,
   "id": "cell-lec33-30",
   "metadata": {},
   "outputs": [],
   "source": [
    "#When x=300. \n",
    "\n",
    "bootstrap_prediction(births, 'Gestational Days', 'Birth Weight', 300)"
   ]
  },
  {
   "cell_type": "markdown",
   "id": "cell-lec33-31",
   "metadata": {},
   "source": [
    "\n",
    "## Predictions at Different Values of x\n",
    "\n",
    "Since y is correlated with x, the predicted values of y depend on the value of x.\n",
    "\n",
    "\n",
    "The width of the prediction interval also depends on x.</br>\n",
    "Typically, intervals are wider for values of x that are further away from the mean of x."
   ]
  },
  {
   "cell_type": "code",
   "execution_count": null,
   "id": "cell-lec33-32",
   "metadata": {},
   "outputs": [],
   "source": [
    "#When x = 300\n",
    "\n",
    "x = 300\n",
    "births.scatter('Gestational Days', 'Birth Weight', fit_line=True)\n",
    "plots.plot([x, x], [40, prediction_at_300], color='red', lw=2);\n",
    "\n",
    "#Notice the spread of the confidence interval."
   ]
  },
  {
   "cell_type": "code",
   "execution_count": null,
   "id": "cell-lec33-33",
   "metadata": {},
   "outputs": [],
   "source": [
    "#When x = 230\n",
    "\n",
    "bootstrap_prediction(births, 'Gestational Days', 'Birth Weight', 230)\n",
    "\n",
    "#Notice the spread of the confidence interval."
   ]
  },
  {
   "cell_type": "code",
   "execution_count": null,
   "id": "cell-lec33-34",
   "metadata": {},
   "outputs": [],
   "source": [
    "#When x = 280\n",
    "\n",
    "bootstrap_prediction(births, 'Gestational Days', 'Birth Weight', 280)\n",
    "\n",
    "#Notice the spread of the confidence interval."
   ]
  },
  {
   "cell_type": "code",
   "execution_count": null,
   "id": "74e22231",
   "metadata": {},
   "outputs": [],
   "source": [
    "#REcall the mean of both gestational days and birth weight. \n",
    "\n",
    "np.mean(births.column('Gestational Days')), np.mean(births.column('Birth Weight'))\n",
    "\n",
    "#Which graph is closest to these values? What is the spread of the confidence interval on that graph?"
   ]
  },
  {
   "cell_type": "code",
   "execution_count": null,
   "id": "cell-lec33-35",
   "metadata": {},
   "outputs": [],
   "source": [
    "#Graph lines at differnt x values again without marking a particular prediction.\n",
    "\n",
    "lines = Table(['slope','intercept', 'at 210', 'at 300', 'at 320'])\n",
    "\n",
    "for i in range(10):\n",
    "    resample = births.sample()\n",
    "    a = slope(resample, 'Gestational Days', 'Birth Weight')\n",
    "    b = intercept(resample, 'Gestational Days', 'Birth Weight')\n",
    "    lines.append([a, b, a * 210 + b, a * 300 + b, a * 320 + b])\n",
    "\n",
    "for i in np.arange(lines.num_rows):\n",
    "    line = lines.row(i)\n",
    "    plots.plot([210, 320], [line.item('at 210'), line.item('at 320')], lw=1)"
   ]
  },
  {
   "cell_type": "markdown",
   "id": "cell-lec33-36",
   "metadata": {},
   "source": [
    "## Inference for the True Slope\n",
    "\n",
    "To find the Confidence Interval for the Slope of the True Line:\n",
    " * mBootstrap the scatter plot.\n",
    " * Find the slope of the regression line through the bootstrapped plot.\n",
    " * Repeat.\n",
    " * Draw the empirical histogram of all the generated slopes.\n",
    " * Get the “middle 95%” interval.\n",
    " * That’s an approximate 95% confidence interval for the slope of the true line. "
   ]
  },
  {
   "cell_type": "code",
   "execution_count": null,
   "id": "cell-lec33-37",
   "metadata": {},
   "outputs": [],
   "source": [
    "#Show the scatter of births with the True Line. \n",
    "\n",
    "births.scatter('Gestational Days', 'Birth Weight', fit_line=True)"
   ]
  },
  {
   "cell_type": "code",
   "execution_count": null,
   "id": "cell-lec33-38",
   "metadata": {},
   "outputs": [],
   "source": [
    "# Determine the true slope and intercept of the data. \n",
    "\n",
    "slope(births, 'Gestational Days', 'Birth Weight'), intercept(births, 'Gestational Days', 'Birth Weight')"
   ]
  },
  {
   "cell_type": "code",
   "execution_count": null,
   "id": "cell-lec33-39",
   "metadata": {},
   "outputs": [],
   "source": [
    "#Create bootstrap samples, find the slopes of each, generate the end points of the confidence interval,\n",
    "#and display the results. \n",
    "\n",
    "def bootstrap_slope(t, x, y, repetitions=2500):\n",
    "    \"\"\" \n",
    "    Makes a 95% confidence interval for the slope of the true line, \n",
    "    using linear regression on the data in t (column names x and y).\n",
    "    Shows a histogram of the bootstrap samples and shows the interval\n",
    "    in gold.\n",
    "    \"\"\"\n",
    "    \n",
    "    # Bootstrap the scatter, find the slope, collect\n",
    "    slopes = make_array()\n",
    "    for i in np.arange(repetitions):\n",
    "        bootstrap_sample = t.sample()\n",
    "        bootstrap_slope = slope(bootstrap_sample, x, y)\n",
    "        slopes = np.append(slopes, bootstrap_slope)\n",
    "    \n",
    "    # Find the endpoints of the 95% confidence interval for the true slope\n",
    "    left = percentile(2.5, slopes)\n",
    "    right = percentile(97.5, slopes)\n",
    "    round_left = round(left, 3)\n",
    "    round_right = round(right, 3)\n",
    "    \n",
    "    # Slope of the regression line from the original sample\n",
    "    observed_slope = slope(t, x, y)\n",
    "    \n",
    "    # Display results (no need to follow this code)\n",
    "    Table().with_column('Bootstrap Slopes', slopes).hist(bins=20)\n",
    "    plots.plot(make_array(left, right), make_array(0, 0), color='yellow', lw=8);\n",
    "    print('Slope of regression line:', round(observed_slope, 3))\n",
    "    print('Approximate 95%-confidence interval for the slope of the true line:')\n",
    "    print(round_left, 'to', round_right)"
   ]
  },
  {
   "cell_type": "code",
   "execution_count": null,
   "id": "cell-lec33-40",
   "metadata": {},
   "outputs": [],
   "source": [
    "#Graph the Confidence Interval for the slope based on the bootstraps. \n",
    "\n",
    "bootstrap_slope(births, 'Gestational Days', 'Birth Weight')"
   ]
  },
  {
   "cell_type": "markdown",
   "id": "cell-lec33-41",
   "metadata": {},
   "source": [
    "## Rain on the Regression Parade\n",
    "\n",
    "What is the slope of the true line is actually zero??"
   ]
  },
  {
   "cell_type": "code",
   "execution_count": null,
   "id": "cell-lec33-42",
   "metadata": {},
   "outputs": [],
   "source": [
    "draw_and_compare(0, 10, 25)"
   ]
  },
  {
   "cell_type": "markdown",
   "id": "cell-lec33-43",
   "metadata": {},
   "source": [
    "### Maternal Age and Birth Weight"
   ]
  },
  {
   "cell_type": "code",
   "execution_count": null,
   "id": "cell-lec33-44",
   "metadata": {},
   "outputs": [],
   "source": [
    "births.scatter('Maternal Age', 'Birth Weight')"
   ]
  },
  {
   "cell_type": "code",
   "execution_count": null,
   "id": "cell-lec33-45",
   "metadata": {},
   "outputs": [],
   "source": [
    "#Find the slope of the true line for our data. \n",
    "\n",
    "slope(births, 'Maternal Age', 'Birth Weight')"
   ]
  },
  {
   "cell_type": "code",
   "execution_count": null,
   "id": "cell-lec33-46",
   "metadata": {},
   "outputs": [],
   "source": [
    "births.scatter('Maternal Age', 'Birth Weight', fit_line=True)"
   ]
  },
  {
   "cell_type": "markdown",
   "id": "cell-lec33-47",
   "metadata": {},
   "source": [
    "### Test whether there really is a slope. \n",
    "\n",
    "**Null:** Slope of true line is equal to 0.\n",
    "\n",
    "**Alternative:** Slope of true line is not equal to 0.\n",
    "\n",
    "Method:\n",
    " * Construct a bootstrap confidence interval for the true slope.\n",
    " * If the interval doesn’t contain 0, reject the null hypothesis.\n",
    " * If the interval does contain 0, there isn’t enough evidence to reject the null hypothesis."
   ]
  },
  {
   "cell_type": "code",
   "execution_count": null,
   "id": "cell-lec33-48",
   "metadata": {},
   "outputs": [],
   "source": [
    "bootstrap_slope(births, 'Maternal Age', 'Birth Weight')"
   ]
  },
  {
   "cell_type": "markdown",
   "id": "798722f0",
   "metadata": {},
   "source": [
    "Would we reject the null or is the data consistent with the null? Explain your choice."
   ]
  },
  {
   "cell_type": "code",
   "execution_count": null,
   "id": "637885be",
   "metadata": {},
   "outputs": [],
   "source": []
  }
 ],
 "metadata": {
  "kernelspec": {
   "display_name": "Python 3 (ipykernel)",
   "language": "python",
   "name": "python3"
  },
  "language_info": {
   "codemirror_mode": {
    "name": "ipython",
    "version": 3
   },
   "file_extension": ".py",
   "mimetype": "text/x-python",
   "name": "python",
   "nbconvert_exporter": "python",
   "pygments_lexer": "ipython3",
   "version": "3.10.11"
  }
 },
 "nbformat": 4,
 "nbformat_minor": 5
}
