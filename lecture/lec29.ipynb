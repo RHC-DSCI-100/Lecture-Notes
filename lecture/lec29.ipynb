{
 "cells": [
  {
   "cell_type": "code",
   "execution_count": null,
   "id": "cell-lec29-0",
   "metadata": {},
   "outputs": [],
   "source": [
    "import matplotlib\n",
    "from datascience import *\n",
    "%matplotlib inline\n",
    "import matplotlib.pyplot as plots\n",
    "import numpy as np\n",
    "plots.style.use('fivethirtyeight')"
   ]
  },
  {
   "cell_type": "code",
   "execution_count": null,
   "id": "cell-lec29-1",
   "metadata": {},
   "outputs": [],
   "source": [
    "def r_scatter(r):\n",
    "    plots.figure(figsize=(5,5))\n",
    "    \"Generate a scatter plot with a correlation approximately r\"\n",
    "    x = np.random.normal(0, 1, 1000)\n",
    "    z = np.random.normal(0, 1, 1000)\n",
    "    y = r*x + (np.sqrt(1-r**2))*z\n",
    "    plots.scatter(x, y, color='darkblue', s=20)\n",
    "    plots.xlim(-4, 4)\n",
    "    plots.ylim(-4, 4)"
   ]
  },
  {
   "cell_type": "markdown",
   "id": "cell-lec29-2",
   "metadata": {},
   "source": [
    "# Lecture 29 Correlation"
   ]
  },
  {
   "cell_type": "markdown",
   "id": "cell-lec29-3",
   "metadata": {},
   "source": [
    "## Approach to Prediction\n",
    "\n",
    "Predication is based on data. </br>\n",
    "Using an existing sample we can make predictions of an overall situation by evaluating the average of all those that meet the same criteria. \n",
    "\n",
    "One way to predict an outcome for an individual is to find others who are like that individual and whose outcomes you know.</br>\n",
    "Use those outcomes as the basis of your prediction."
   ]
  },
  {
   "cell_type": "code",
   "execution_count": null,
   "id": "cell-lec29-4",
   "metadata": {},
   "outputs": [],
   "source": [
    "# Note: Child heights are the **adult** heights of children in a family\n",
    "families = Table.read_table('family_heights.csv')\n",
    "families"
   ]
  },
  {
   "cell_type": "code",
   "execution_count": null,
   "id": "cell-lec29-5",
   "metadata": {},
   "outputs": [],
   "source": [
    "#Takes the average of the height of the mother and father. \n",
    "\n",
    "parent_avgs = (families.column('father') + families.column('mother'))/2"
   ]
  },
  {
   "cell_type": "code",
   "execution_count": null,
   "id": "cell-lec29-6",
   "metadata": {},
   "outputs": [],
   "source": [
    "#Create a table with two columns: Parent Average and Child which holds the individual child's height. \n",
    "heights = \n",
    "\n",
    "\n",
    "heights"
   ]
  },
  {
   "cell_type": "code",
   "execution_count": null,
   "id": "cell-lec29-7",
   "metadata": {},
   "outputs": [],
   "source": [
    "#Plot a scatter comparing Parent Average with Child height.\n",
    "\n",
    "heights.scatter('Parent Average', 'Child')"
   ]
  },
  {
   "cell_type": "markdown",
   "id": "5c6b7e94-5141-4833-a26d-bed143c34af9",
   "metadata": {},
   "source": [
    "***How would you describe this scatterplot?***"
   ]
  },
  {
   "cell_type": "code",
   "execution_count": null,
   "id": "cell-lec29-8",
   "metadata": {},
   "outputs": [],
   "source": [
    "#Focus on the grouping of child heights between the parent averages of 67.5 and 68.5.\n",
    "\n",
    "heights.scatter('Parent Average', 'Child')\n",
    "plots.plot([67.5, 67.5], [50, 85], color='red', lw=2)\n",
    "plots.plot([68.5, 68.5], [50, 85], color='red', lw=2);"
   ]
  },
  {
   "cell_type": "code",
   "execution_count": null,
   "id": "cell-lec29-9",
   "metadata": {},
   "outputs": [],
   "source": [
    "#Calculate the average of all the children in the focused grouping. \n",
    "\n",
    "nearby = heights.where('Parent Average', are.between(67.5, 68.5))\n",
    "nearby_mean = np.average(nearby.column('Child'))\n",
    "nearby_mean"
   ]
  },
  {
   "cell_type": "code",
   "execution_count": null,
   "id": "cell-lec29-10",
   "metadata": {},
   "outputs": [],
   "source": [
    "#Plot the new average. \n",
    "#This is the predicted average height for a child with parent's in this height range.\n",
    "\n",
    "heights.scatter('Parent Average', 'Child')\n",
    "plots.plot([67.5, 67.5], [50, 85], color='red', lw=2)\n",
    "plots.plot([68.5, 68.5], [50, 85], color='red', lw=2)\n",
    "plots.scatter(68, nearby_mean, color='red', s=50);"
   ]
  },
  {
   "cell_type": "code",
   "execution_count": null,
   "id": "cell-lec29-11",
   "metadata": {},
   "outputs": [],
   "source": [
    "def predict_child(h):\n",
    "    \"\"\"Predict the height of a child whose parents have a parent average height of p_avg.\n",
    "    \n",
    "    The prediction is the average height of the children whose parent average height is\n",
    "    in the range p_avg plus or minus 0.5.\n",
    "    \"\"\"\n",
    "    nearby = \n",
    "    return "
   ]
  },
  {
   "cell_type": "code",
   "execution_count": null,
   "id": "cell-lec29-12",
   "metadata": {},
   "outputs": [],
   "source": [
    "#Find all the predicted heights of children with parent's with different average heights. \n",
    "\n",
    "heights_with_predictions = heights.with_columns(\n",
    "    'Prediction', heights.apply(predict_child, 'Parent Average'))"
   ]
  },
  {
   "cell_type": "code",
   "execution_count": null,
   "id": "cell-lec29-13",
   "metadata": {},
   "outputs": [],
   "source": [
    "#Plot all the new predictions\n",
    "\n",
    "heights_with_predictions.scatter('Parent Average')"
   ]
  },
  {
   "cell_type": "markdown",
   "id": "cell-lec29-14",
   "metadata": {},
   "source": [
    "## Association\n",
    "\n",
    "Establishing a relationship between variables. \n",
    "Look for a pattern in the graph: Linear or Non-Linear.\n",
    "\n",
    "Load the data about hybrid data. <br>\n",
    "Describe the table.\n"
   ]
  },
  {
   "cell_type": "code",
   "execution_count": null,
   "id": "cell-lec29-15",
   "metadata": {},
   "outputs": [],
   "source": [
    "#Load in data about hybrid vehicles. \n",
    "\n",
    "hybrid = Table.read_table('hybrid.csv')\n",
    "hybrid"
   ]
  },
  {
   "cell_type": "code",
   "execution_count": null,
   "id": "cell-lec29-17",
   "metadata": {},
   "outputs": [],
   "source": [
    "#Sort the table by MSRP from greatest to least. Do not reassign.\n",
    "hybrid.sort('msrp', descending=True)\n"
   ]
  },
  {
   "cell_type": "code",
   "execution_count": null,
   "id": "cell-lec29-18",
   "metadata": {},
   "outputs": [],
   "source": [
    "#Compare the hybrid mpg with the msrp on a scatter plot. \n",
    "\n"
   ]
  },
  {
   "cell_type": "code",
   "execution_count": null,
   "id": "cell-lec29-19",
   "metadata": {},
   "outputs": [],
   "source": [
    "#Compare the hybrid accerleration with the msrp on a scatter plot. \n",
    "\n"
   ]
  },
  {
   "cell_type": "code",
   "execution_count": null,
   "id": "cell-lec29-20",
   "metadata": {},
   "outputs": [],
   "source": [
    "#Create a table with just hybrids that are SUV. \n",
    "suv = \n",
    "suv"
   ]
  },
  {
   "cell_type": "code",
   "execution_count": null,
   "id": "632618fc",
   "metadata": {},
   "outputs": [],
   "source": [
    "#Determine how many hybrids are in that table. \n",
    "\n"
   ]
  },
  {
   "cell_type": "code",
   "execution_count": null,
   "id": "cell-lec29-21",
   "metadata": {},
   "outputs": [],
   "source": [
    "#Compare the hybrid SUVs accerleration with the msrp on a scatter plot. \n",
    "\n"
   ]
  },
  {
   "cell_type": "code",
   "execution_count": null,
   "id": "cell-lec29-22",
   "metadata": {},
   "outputs": [],
   "source": [
    "#Compare the hybrid SUVs mpg with the msrp on a scatter plot. \n",
    "\n"
   ]
  },
  {
   "cell_type": "code",
   "execution_count": null,
   "id": "cell-lec29-23",
   "metadata": {},
   "outputs": [],
   "source": [
    "def standard_units(x):\n",
    "    \"Convert any array of numbers to standard units.\"\n",
    "    return "
   ]
  },
  {
   "cell_type": "code",
   "execution_count": null,
   "id": "cell-lec29-24",
   "metadata": {},
   "outputs": [],
   "source": [
    "#View the data using standard units. \n",
    "\n",
    "Table().with_columns(\n",
    "    'mpg (standard units)',  standard_units(suv.column('mpg')), \n",
    "    'msrp (standard units)', standard_units(suv.column('msrp'))\n",
    ").scatter(0, 1)\n",
    "plots.xlim(-3, 3)\n",
    "plots.ylim(-3, 3);\n",
    "\n",
    "#What do you notice?"
   ]
  },
  {
   "cell_type": "code",
   "execution_count": null,
   "id": "cell-lec29-25",
   "metadata": {},
   "outputs": [],
   "source": [
    "#Compare the hybrid SUVs accerleration with the msrp on a scatter plot. \n",
    "\n"
   ]
  },
  {
   "cell_type": "code",
   "execution_count": null,
   "id": "cell-lec29-26",
   "metadata": {},
   "outputs": [],
   "source": [
    "#View the data in standard units. \n",
    "\n",
    "Table().with_columns(\n",
    "    'acceleration (standard units)', standard_units(suv.column('acceleration')), \n",
    "    'msrp (standard units)',         standard_units(suv.column('msrp'))\n",
    ").scatter(0, 1)\n",
    "plots.xlim(-3, 3)\n",
    "plots.ylim(-3, 3);\n",
    "\n",
    "#What do you notice?"
   ]
  },
  {
   "attachments": {
    "The-scale-of-Pearsons-Correlation-Coefficient.png": {
     "image/png": "[encoded data removed]"
    }
   },
   "cell_type": "markdown",
   "id": "cell-lec29-27",
   "metadata": {},
   "source": [
    "## Correlation\n",
    "An association that is linear is referred to as correlation. \n",
    "A correlation coefficient, r, can measure the strength and direction of a linear relationship. </br>\n",
    "![The-scale-of-Pearsons-Correlation-Coefficient.png](attachment:The-scale-of-Pearsons-Correlation-Coefficient.png)"
   ]
  },
  {
   "cell_type": "code",
   "execution_count": null,
   "id": "cell-lec29-28",
   "metadata": {},
   "outputs": [],
   "source": [
    "r_scatter(-0.2)"
   ]
  },
  {
   "cell_type": "code",
   "execution_count": null,
   "id": "cell-lec29-29",
   "metadata": {},
   "outputs": [],
   "source": [
    "x = np.arange(1, 7, 1)\n",
    "y = make_array(2, 3, 1, 5, 2, 7)\n",
    "t = Table().with_columns(\n",
    "        'x', x,\n",
    "        'y', y \n",
    "    )\n",
    "t"
   ]
  },
  {
   "cell_type": "code",
   "execution_count": null,
   "id": "cell-lec29-30",
   "metadata": {},
   "outputs": [],
   "source": [
    "t.scatter('x', 'y', s=30, color='red')"
   ]
  },
  {
   "cell_type": "code",
   "execution_count": null,
   "id": "cell-lec29-31",
   "metadata": {},
   "outputs": [],
   "source": [
    "t = t.with_columns(\n",
    "        'x (standard units)', standard_units(x),\n",
    "        'y (standard units)', standard_units(y) \n",
    "    )\n",
    "t"
   ]
  },
  {
   "cell_type": "code",
   "execution_count": null,
   "id": "cell-lec29-32",
   "metadata": {},
   "outputs": [],
   "source": [
    "t.scatter(2, 3, s=30, color='red')"
   ]
  },
  {
   "cell_type": "code",
   "execution_count": null,
   "id": "cell-lec29-33",
   "metadata": {},
   "outputs": [],
   "source": [
    "t = t.with_columns(\n",
    "    'product of standard units', t.column(2) * t.column(3))\n",
    "t"
   ]
  },
  {
   "cell_type": "code",
   "execution_count": null,
   "id": "cell-lec29-34",
   "metadata": {},
   "outputs": [],
   "source": [
    "# r is the average of the products of the standard units\n",
    "r = np.average(t.column(2) * t.column(3))\n",
    "r"
   ]
  },
  {
   "cell_type": "code",
   "execution_count": null,
   "id": "bf28bbea",
   "metadata": {},
   "outputs": [],
   "source": [
    "r = np.average(t.column(4))\n",
    "r"
   ]
  },
  {
   "cell_type": "code",
   "execution_count": null,
   "id": "cell-lec29-35",
   "metadata": {},
   "outputs": [],
   "source": [
    "def correlation(t, x, y):\n",
    "    \"\"\"t is a table; x and y are column labels\"\"\"\n",
    "    x_in_standard_units = standard_units(t.column(x))\n",
    "    y_in_standard_units = standard_units(t.column(y))\n",
    "    return np.average(x_in_standard_units * y_in_standard_units)"
   ]
  },
  {
   "cell_type": "code",
   "execution_count": null,
   "id": "cell-lec29-36",
   "metadata": {},
   "outputs": [],
   "source": [
    "correlation(t, 'x', 'y')"
   ]
  },
  {
   "cell_type": "code",
   "execution_count": null,
   "id": "cell-lec29-37",
   "metadata": {},
   "outputs": [],
   "source": [
    "suv.scatter('mpg', 'msrp')"
   ]
  },
  {
   "cell_type": "code",
   "execution_count": null,
   "id": "cell-lec29-38",
   "metadata": {},
   "outputs": [],
   "source": [
    "correlation(suv, 'mpg', 'msrp')"
   ]
  },
  {
   "cell_type": "code",
   "execution_count": null,
   "id": "cell-lec29-39",
   "metadata": {},
   "outputs": [],
   "source": [
    "suv.scatter('acceleration', 'msrp')"
   ]
  },
  {
   "cell_type": "code",
   "execution_count": null,
   "id": "cell-lec29-40",
   "metadata": {},
   "outputs": [],
   "source": [
    "correlation(suv, 'acceleration', 'msrp')"
   ]
  },
  {
   "cell_type": "markdown",
   "id": "cell-lec29-41",
   "metadata": {},
   "source": [
    "### Switching Axes"
   ]
  },
  {
   "cell_type": "code",
   "execution_count": null,
   "id": "cell-lec29-42",
   "metadata": {},
   "outputs": [],
   "source": [
    "correlation(t, 'x', 'y')"
   ]
  },
  {
   "cell_type": "code",
   "execution_count": null,
   "id": "cell-lec29-43",
   "metadata": {},
   "outputs": [],
   "source": [
    "t.scatter('x', 'y', s=30, color='red')"
   ]
  },
  {
   "cell_type": "code",
   "execution_count": null,
   "id": "cell-lec29-44",
   "metadata": {},
   "outputs": [],
   "source": [
    "t.scatter('y', 'x', s=30, color='red')"
   ]
  },
  {
   "cell_type": "code",
   "execution_count": null,
   "id": "cell-lec29-45",
   "metadata": {},
   "outputs": [],
   "source": [
    "correlation(t, 'y', 'x')"
   ]
  },
  {
   "cell_type": "code",
   "execution_count": null,
   "id": "bafb0e2f",
   "metadata": {},
   "outputs": [],
   "source": [
    "suv.scatter('msrp', 'mpg')"
   ]
  },
  {
   "cell_type": "code",
   "execution_count": null,
   "id": "dc0a57db",
   "metadata": {},
   "outputs": [],
   "source": [
    "correlation(suv, 'msrp', 'mpg')"
   ]
  },
  {
   "cell_type": "code",
   "execution_count": null,
   "id": "62705756",
   "metadata": {},
   "outputs": [],
   "source": [
    "suv.scatter( 'msrp', 'acceleration')"
   ]
  },
  {
   "cell_type": "code",
   "execution_count": null,
   "id": "ad0641ff",
   "metadata": {},
   "outputs": [],
   "source": [
    "correlation(suv, 'msrp', 'acceleration')"
   ]
  },
  {
   "cell_type": "code",
   "execution_count": null,
   "id": "d9b5ef6d",
   "metadata": {},
   "outputs": [],
   "source": []
  }
 ],
 "metadata": {
  "kernelspec": {
   "display_name": "Python 3 (ipykernel)",
   "language": "python",
   "name": "python3"
  },
  "language_info": {
   "codemirror_mode": {
    "name": "ipython",
    "version": 3
   },
   "file_extension": ".py",
   "mimetype": "text/x-python",
   "name": "python",
   "nbconvert_exporter": "python",
   "pygments_lexer": "ipython3",
   "version": "3.11.13"
  }
 },
 "nbformat": 4,
 "nbformat_minor": 5
}
