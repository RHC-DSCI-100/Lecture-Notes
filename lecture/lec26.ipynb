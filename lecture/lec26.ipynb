{
 "cells": [
  {
   "cell_type": "code",
   "execution_count": null,
   "id": "cell-lec26-0",
   "metadata": {},
   "outputs": [],
   "source": [
    "import matplotlib\n",
    "from datascience import *\n",
    "%matplotlib inline\n",
    "import matplotlib.pyplot as plots\n",
    "import numpy as np\n",
    "plots.style.use('fivethirtyeight')"
   ]
  },
  {
   "cell_type": "markdown",
   "id": "cell-lec26-1",
   "metadata": {},
   "source": [
    "## The SD and Bell Shaped Curves\n",
    "\n",
    "Review: In a normal distribution, the first standard deviation can be visibly detected by approximating where the point of inflection of the curve is. The standard deviation tells you the distance from them mean (both positive and negative) to move to capture a certain percentage of the data. In general, about 68% of the data is within one standard deviation, 95% is within two, and 99.7% is within three. "
   ]
  },
  {
   "cell_type": "code",
   "execution_count": null,
   "id": "cell-lec26-2",
   "metadata": {},
   "outputs": [],
   "source": [
    "births = Table.read_table('baby.csv')"
   ]
  },
  {
   "cell_type": "code",
   "execution_count": null,
   "id": "cell-lec26-3",
   "metadata": {},
   "outputs": [],
   "source": [
    "births.hist('Maternal Height', bins = np.arange(56.5, 72.6, 1))"
   ]
  },
  {
   "cell_type": "code",
   "execution_count": null,
   "id": "cell-lec26-4",
   "metadata": {},
   "outputs": [],
   "source": [
    "heights = births.column('Maternal Height')\n",
    "np.mean(heights), np.std(heights)"
   ]
  },
  {
   "cell_type": "code",
   "execution_count": null,
   "id": "cell-lec26-5",
   "metadata": {},
   "outputs": [],
   "source": [
    "# First Standard Dev: Find the low value and the high value of the first standard deviation \n",
    "# and display both.\n",
    "\n"
   ]
  },
  {
   "cell_type": "markdown",
   "id": "cell-lec26-6",
   "metadata": {
    "collapsed": true,
    "jupyter": {
     "outputs_hidden": true
    }
   },
   "source": [
    "## Central Limit Theorem ##\n",
    "\n",
    "The CLT says, that if we take the mean of many samples with a sample size of $n\\geq30$, the distribution of the means will be normal regardless of what the original distribution was. "
   ]
  },
  {
   "cell_type": "code",
   "execution_count": null,
   "id": "cell-lec26-7",
   "metadata": {},
   "outputs": [],
   "source": [
    "united = Table.read_table('united.csv')\n",
    "united_bins = np.arange(-20, 300, 10)\n",
    "united"
   ]
  },
  {
   "cell_type": "code",
   "execution_count": null,
   "id": "cell-lec26-8",
   "metadata": {},
   "outputs": [],
   "source": [
    "united.hist('Delay', bins=united_bins)"
   ]
  },
  {
   "cell_type": "code",
   "execution_count": null,
   "id": "cell-lec26-9",
   "metadata": {},
   "outputs": [],
   "source": [
    "# Find the mean and standard deviation of the delays using the numpy package commands.\n",
    "delays = united.column('Delay')\n",
    "\n",
    "delay_mean = \n",
    "delay_sd = \n",
    "\n",
    "delay_mean, delay_sd"
   ]
  },
  {
   "cell_type": "code",
   "execution_count": null,
   "id": "cell-lec26-10",
   "metadata": {},
   "outputs": [],
   "source": [
    "# Find the median of the delays\n",
    "\n"
   ]
  },
  {
   "cell_type": "code",
   "execution_count": null,
   "id": "cell-lec26-11",
   "metadata": {},
   "outputs": [],
   "source": [
    "# Create a function that creates a sample from the population of flights named sampled_flights\n",
    "# and returns its mean.\n",
    "def one_sample_mean(sample_size):\n",
    "   \n",
    "    sampled_flights = \n",
    "    return "
   ]
  },
  {
   "cell_type": "code",
   "execution_count": null,
   "id": "cell-lec26-12",
   "metadata": {},
   "outputs": [],
   "source": [
    "# Run the newly created function with a sample of 100\n",
    "\n",
    "one_sample_mean(100)"
   ]
  },
  {
   "cell_type": "code",
   "execution_count": null,
   "id": "cell-lec26-13",
   "metadata": {},
   "outputs": [],
   "source": [
    "# Create a function that runs 10000 iterations of creating a sample and return the mean.\n",
    "# store those results in an array named means. \n",
    "def ten_thousand_sample_means(sample_size):\n",
    "    means = make_array()\n",
    "    for i in :\n",
    "        \n",
    "    \n",
    "    return means"
   ]
  },
  {
   "cell_type": "code",
   "execution_count": null,
   "id": "cell-lec26-14",
   "metadata": {},
   "outputs": [],
   "source": [
    "# Run the new function for a sample of size 100 assigning the output to \n",
    "# sample_means_100 and display the result.\n"
   ]
  },
  {
   "cell_type": "code",
   "execution_count": null,
   "id": "cell-lec26-16",
   "metadata": {},
   "outputs": [],
   "source": [
    "# Confirm that there are 10000 entries in the sample_means_100 array.\n",
    "\n"
   ]
  },
  {
   "cell_type": "code",
   "execution_count": null,
   "id": "cell-lec26-17",
   "metadata": {},
   "outputs": [],
   "source": [
    "# What sample size and number of iterations will the histogram display?\n",
    "\n",
    "Table().with_column(\n",
    "    'Mean of 100 flight delays', sample_means_100).hist(bins=20)\n",
    "\n",
    "print('Population Average:', delay_mean)"
   ]
  },
  {
   "cell_type": "code",
   "execution_count": null,
   "id": "cell-lec26-18",
   "metadata": {},
   "outputs": [],
   "source": [
    "# What sample size and number of iterations will the histogram display?\n",
    "\n",
    "sample_means_400 = ten_thousand_sample_means(400)\n",
    "Table().with_column(\n",
    "    'Mean of 400 flight delays', sample_means_400).hist(bins=20)\n",
    "\n",
    "print('Population Average:', delay_mean)"
   ]
  },
  {
   "cell_type": "markdown",
   "id": "efbe4de8",
   "metadata": {},
   "source": [
    "***Why is the histogram curve close to normal?***\n",
    "\n"
   ]
  },
  {
   "cell_type": "markdown",
   "id": "9a3dc01e",
   "metadata": {},
   "source": [
    "## Discussion Question\n",
    "After rolling 1,000,000 fair 6-sided dice, which of these histograms would you expect to have a bell shape? Select all that apply. List what each histogram will look like in the cell below. \n",
    "\n",
    "1) The histogram of outcomes of these million rolls\n",
    "2) The histogram that results from computing the average outcome of these million rolls\n",
    "3) The histogram that results from splitting the outcomes into 1,000 groups of 1,000 (in the order they occurred) and computing the average outcome of each group"
   ]
  },
  {
   "cell_type": "markdown",
   "id": "e47e0eea-6ecb-4272-9061-a62540917e82",
   "metadata": {},
   "source": []
  },
  {
   "cell_type": "code",
   "execution_count": null,
   "id": "15b9d3eb-3340-4615-ade1-586ebf64825e",
   "metadata": {},
   "outputs": [],
   "source": []
  }
 ],
 "metadata": {
  "anaconda-cloud": {},
  "kernelspec": {
   "display_name": "Python 3 (ipykernel)",
   "language": "python",
   "name": "python3"
  },
  "language_info": {
   "codemirror_mode": {
    "name": "ipython",
    "version": 3
   },
   "file_extension": ".py",
   "mimetype": "text/x-python",
   "name": "python",
   "nbconvert_exporter": "python",
   "pygments_lexer": "ipython3",
   "version": "3.11.13"
  }
 },
 "nbformat": 4,
 "nbformat_minor": 5
}
