{
 "cells": [
  {
   "cell_type": "code",
   "execution_count": null,
   "id": "cell-lec15-0",
   "metadata": {},
   "outputs": [],
   "source": [
    "from datascience import *\n",
    "import numpy as np\n",
    "\n",
    "%matplotlib inline\n",
    "import matplotlib.pyplot as plots\n",
    "plots.style.use('fivethirtyeight')"
   ]
  },
  {
   "cell_type": "markdown",
   "id": "cell-lec15-1",
   "metadata": {},
   "source": [
    "## Lecture 15 ##"
   ]
  },
  {
   "cell_type": "markdown",
   "id": "cell-lec15-2",
   "metadata": {},
   "source": [
    "## Probability  with Random Sampling ##"
   ]
  },
  {
   "cell_type": "markdown",
   "id": "cell-lec15-6",
   "metadata": {},
   "source": [
    "We load in a dataset of all United flights national flights from 6/1/15 to 8/9/15, their destination and how long they were delayed, in minutes."
   ]
  },
  {
   "cell_type": "code",
   "execution_count": null,
   "id": "cell-lec15-7",
   "metadata": {},
   "outputs": [],
   "source": [
    "united = Table.read_table('united.csv')\n",
    "united = united.with_column('Row', np.arange(united.num_rows)).move_to_start('Row')\n",
    "united"
   ]
  },
  {
   "cell_type": "markdown",
   "id": "cell-lec15-8",
   "metadata": {},
   "source": [
    "Some deterministic samples:"
   ]
  },
  {
   "cell_type": "code",
   "execution_count": null,
   "id": "cell-lec15-9",
   "metadata": {},
   "outputs": [],
   "source": [
    "united.where('Destination', 'JFK') "
   ]
  },
  {
   "cell_type": "code",
   "execution_count": null,
   "id": "cell-lec15-10",
   "metadata": {},
   "outputs": [],
   "source": [
    "united.take(np.arange(0, united.num_rows, 1000))"
   ]
  },
  {
   "cell_type": "code",
   "execution_count": null,
   "id": "cell-lec15-11",
   "metadata": {},
   "outputs": [],
   "source": [
    "united.take(make_array(34, 6321, 10040))"
   ]
  },
  {
   "cell_type": "markdown",
   "id": "cell-lec15-12",
   "metadata": {},
   "source": [
    "A random sample:"
   ]
  },
  {
   "cell_type": "code",
   "execution_count": null,
   "id": "cell-lec15-13",
   "metadata": {},
   "outputs": [],
   "source": [
    "start = np.random.choice(np.arange(100))\n",
    "systematic_sample = united.take(np.arange(start, united.num_rows, 1000))\n",
    "systematic_sample.show()"
   ]
  },
  {
   "cell_type": "code",
   "execution_count": null,
   "id": "fdbe9622",
   "metadata": {},
   "outputs": [],
   "source": [
    "united.sample(10, with_replacement=False)"
   ]
  },
  {
   "cell_type": "markdown",
   "id": "cell-lec15-14",
   "metadata": {},
   "source": [
    "## Distributions ##"
   ]
  },
  {
   "cell_type": "code",
   "execution_count": null,
   "id": "ce1bee16",
   "metadata": {},
   "outputs": [],
   "source": [
    "united.sample?"
   ]
  },
  {
   "cell_type": "code",
   "execution_count": null,
   "id": "cell-lec15-15",
   "metadata": {},
   "outputs": [],
   "source": [
    "die = Table().with_column('Face', np.arange(1, 7))\n",
    "die"
   ]
  },
  {
   "cell_type": "code",
   "execution_count": null,
   "id": "cell-lec15-16",
   "metadata": {},
   "outputs": [],
   "source": [
    "die.sample(10)"
   ]
  },
  {
   "cell_type": "code",
   "execution_count": null,
   "id": "cell-lec15-17",
   "metadata": {},
   "outputs": [],
   "source": [
    "die.hist()"
   ]
  },
  {
   "cell_type": "code",
   "execution_count": null,
   "id": "cell-lec15-18",
   "metadata": {},
   "outputs": [],
   "source": [
    "roll_bins = np.arange(0.5, 6.6, 1)"
   ]
  },
  {
   "cell_type": "code",
   "execution_count": null,
   "id": "cell-lec15-19",
   "metadata": {},
   "outputs": [],
   "source": [
    "die.hist(bins=roll_bins)"
   ]
  },
  {
   "cell_type": "code",
   "execution_count": null,
   "id": "cell-lec15-20",
   "metadata": {},
   "outputs": [],
   "source": [
    "# Empirical Histogram of 10 die rolls\n",
    "die.sample(10).hist(bins=roll_bins)"
   ]
  },
  {
   "cell_type": "code",
   "execution_count": null,
   "id": "cell-lec15-21",
   "metadata": {},
   "outputs": [],
   "source": [
    "die.sample(1000).hist(bins=roll_bins)"
   ]
  },
  {
   "cell_type": "code",
   "execution_count": null,
   "id": "cell-lec15-22",
   "metadata": {},
   "outputs": [],
   "source": [
    "die.sample(100000).hist(bins=roll_bins)"
   ]
  },
  {
   "cell_type": "markdown",
   "id": "cell-lec15-23",
   "metadata": {},
   "source": [
    "## Large Random Samples ##"
   ]
  },
  {
   "cell_type": "code",
   "execution_count": null,
   "id": "cell-lec15-24",
   "metadata": {},
   "outputs": [],
   "source": [
    "united "
   ]
  },
  {
   "cell_type": "code",
   "execution_count": null,
   "id": "cell-lec15-25",
   "metadata": {},
   "outputs": [],
   "source": [
    "united_bins = np.arange(-20, 201, 5)\n",
    "united.hist('Delay', bins = united_bins)"
   ]
  },
  {
   "cell_type": "code",
   "execution_count": null,
   "id": "0c68ff95",
   "metadata": {},
   "outputs": [],
   "source": [
    "united.where('Delay', are.between(0, 5)).num_rows/united.num_rows"
   ]
  },
  {
   "cell_type": "code",
   "execution_count": null,
   "id": "cell-lec15-26",
   "metadata": {},
   "outputs": [],
   "source": [
    "min(united.column('Delay'))"
   ]
  },
  {
   "cell_type": "code",
   "execution_count": null,
   "id": "cell-lec15-27",
   "metadata": {
    "scrolled": true
   },
   "outputs": [],
   "source": [
    "max(united.column('Delay'))"
   ]
  },
  {
   "cell_type": "code",
   "execution_count": null,
   "id": "cell-lec15-28",
   "metadata": {},
   "outputs": [],
   "source": [
    "np.average(united.column('Delay'))"
   ]
  },
  {
   "cell_type": "code",
   "execution_count": null,
   "id": "cell-lec15-29",
   "metadata": {},
   "outputs": [],
   "source": [
    "united.sample(10).hist('Delay', bins = united_bins)"
   ]
  },
  {
   "cell_type": "code",
   "execution_count": null,
   "id": "cell-lec15-30",
   "metadata": {},
   "outputs": [],
   "source": [
    "united.sample(1000).hist('Delay', bins = united_bins)"
   ]
  },
  {
   "cell_type": "markdown",
   "id": "cell-lec15-31",
   "metadata": {},
   "source": [
    "## Simulating Statistics ##"
   ]
  },
  {
   "cell_type": "code",
   "execution_count": null,
   "id": "cell-lec15-32",
   "metadata": {},
   "outputs": [],
   "source": [
    "np.median(united.column('Delay'))"
   ]
  },
  {
   "cell_type": "code",
   "execution_count": null,
   "id": "cell-lec15-33",
   "metadata": {},
   "outputs": [],
   "source": [
    "np.median(united.sample(10).column('Delay'))"
   ]
  },
  {
   "cell_type": "code",
   "execution_count": null,
   "id": "cell-lec15-34",
   "metadata": {},
   "outputs": [],
   "source": [
    "def sample_median(size):\n",
    "    return np.median(united.sample(size).column('Delay'))"
   ]
  },
  {
   "cell_type": "code",
   "execution_count": null,
   "id": "cell-lec15-35",
   "metadata": {},
   "outputs": [],
   "source": [
    "sample_median(100)"
   ]
  },
  {
   "cell_type": "code",
   "execution_count": null,
   "id": "cell-lec15-36",
   "metadata": {},
   "outputs": [],
   "source": [
    "sample_medians = make_array()\n",
    "\n",
    "for i in np.arange(1000):\n",
    "    new_median = sample_median(10)\n",
    "    sample_medians = np.append(sample_medians, new_median)\n",
    "\n",
    "sample_medians"
   ]
  },
  {
   "cell_type": "code",
   "execution_count": null,
   "id": "cell-lec15-37",
   "metadata": {
    "scrolled": true
   },
   "outputs": [],
   "source": [
    "Table().with_column('Sample medians', sample_medians).hist(bins = np.arange(-10,31))"
   ]
  },
  {
   "cell_type": "code",
   "execution_count": null,
   "id": "cell-lec15-38",
   "metadata": {},
   "outputs": [],
   "source": [
    "sample_medians = make_array()\n",
    "\n",
    "for i in np.arange(1000):\n",
    "    new_median = sample_median(1000)\n",
    "    sample_medians = np.append(sample_medians, new_median)"
   ]
  },
  {
   "cell_type": "code",
   "execution_count": null,
   "id": "cell-lec15-39",
   "metadata": {
    "scrolled": true
   },
   "outputs": [],
   "source": [
    "Table().with_column(\n",
    "    'Sample medians', sample_medians).hist(bins = np.arange(-10,31))"
   ]
  },
  {
   "cell_type": "code",
   "execution_count": null,
   "id": "55e24983",
   "metadata": {},
   "outputs": [],
   "source": []
  }
 ],
 "metadata": {
  "anaconda-cloud": {},
  "kernelspec": {
   "display_name": "Python 3 (ipykernel)",
   "language": "python",
   "name": "python3"
  },
  "language_info": {
   "codemirror_mode": {
    "name": "ipython",
    "version": 3
   },
   "file_extension": ".py",
   "mimetype": "text/x-python",
   "name": "python",
   "nbconvert_exporter": "python",
   "pygments_lexer": "ipython3",
   "version": "3.10.11"
  }
 },
 "nbformat": 4,
 "nbformat_minor": 5
}
