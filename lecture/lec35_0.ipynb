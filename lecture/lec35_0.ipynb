{
 "cells": [
  {
   "cell_type": "code",
   "execution_count": null,
   "id": "cell-lec35-0",
   "metadata": {},
   "outputs": [],
   "source": [
    "from datascience import *\n",
    "import numpy as np\n",
    "import matplotlib\n",
    "from mpl_toolkits.mplot3d import Axes3D\n",
    "%matplotlib inline\n",
    "import matplotlib.pyplot as plt\n",
    "plt.style.use('fivethirtyeight')"
   ]
  },
  {
   "cell_type": "code",
   "execution_count": null,
   "id": "cell-lec35-1",
   "metadata": {},
   "outputs": [],
   "source": [
    "# Standardizing data\n",
    "\n",
    "def standard_units(x):\n",
    "    return (x - np.mean(x))/np.std(x)"
   ]
  },
  {
   "cell_type": "code",
   "execution_count": null,
   "id": "cell-lec35-2",
   "metadata": {},
   "outputs": [],
   "source": [
    "# Functions needed to create classifications based on the distance to similar data. \n",
    "\n",
    "def distance(point1, point2):\n",
    "    \"\"\"The distance between two arrays of numbers.\"\"\"\n",
    "    return np.sqrt(np.sum((point1 - point2)**2))\n",
    "\n",
    "def all_distances(training, point):\n",
    "    \"\"\"The distance between p (an array of numbers) and the numbers in row i of attribute_table.\"\"\"\n",
    "    attributes = training.drop('Class')\n",
    "    def distance_from_point(row):\n",
    "        return distance(point, np.array(row))\n",
    "    return attributes.apply(distance_from_point)\n",
    "\n",
    "def table_with_distances(training, point):\n",
    "    \"\"\"A copy of the training table with the distance from each row to array p.\"\"\"\n",
    "    return training.with_column('Distance', all_distances(training, point))\n",
    "\n",
    "def closest(training, point, k):\n",
    "    \"\"\"A table containing the k closest rows in the training table to array p.\"\"\"\n",
    "    with_dists = table_with_distances(training, point)\n",
    "    sorted_by_distance = with_dists.sort('Distance')\n",
    "    topk = sorted_by_distance.take(np.arange(k))\n",
    "    return topk\n",
    "\n",
    "def majority(topkclasses):\n",
    "    \"\"\"1 if the majority of the \"Class\" column is 1s, and 0 otherwise.\"\"\"\n",
    "    ones = topkclasses.where('Class', are.equal_to(1)).num_rows\n",
    "    zeros = topkclasses.where('Class', are.equal_to(0)).num_rows\n",
    "    if ones > zeros:\n",
    "        return 1\n",
    "    else:\n",
    "        return 0\n",
    "\n",
    "def classify(training, p, k):\n",
    "    \"\"\"Classify an example with attributes p using k-nearest neighbor classification with the given training table.\"\"\"\n",
    "    closestk = closest(training, p, k)\n",
    "    topkclasses = closestk.select('Class')\n",
    "    return majority(topkclasses)\n",
    "\n",
    "def show_closest(point):\n",
    "    \"\"\"point = array([x,y]) \n",
    "    gives the coordinates of a new point\n",
    "    shown in red\"\"\"\n",
    "    \n",
    "    HemoGl = ckd.drop('White Blood Cell Count', 'Color')\n",
    "    t = closest(HemoGl, point, 1)\n",
    "    x_closest = t.row(0).item(1)\n",
    "    y_closest = t.row(0).item(2)\n",
    "    ckd.scatter('Hemoglobin', 'Glucose', group='Color')\n",
    "    plt.scatter(point.item(0), point.item(1), color='red', s=30)\n",
    "    plt.plot(make_array(point.item(0), x_closest), make_array(point.item(1), y_closest), color='k', lw=2);"
   ]
  },
  {
   "cell_type": "code",
   "execution_count": null,
   "id": "cell-lec35-3",
   "metadata": {},
   "outputs": [],
   "source": [
    "# Functions to plot data in a particular way. \n",
    "\n",
    "def plot_all_points(test_grid):\n",
    "    test_grid.scatter('Hemoglobin', 'Glucose', color='red', alpha=0.4, s=30)\n",
    "\n",
    "    plt.scatter(ckd.column('Hemoglobin'), ckd.column('Glucose'), c=ckd.column('Color'), edgecolor='k')\n",
    "\n",
    "    plt.xlim(-2, 2)\n",
    "    plt.ylim(-2, 2);\n",
    "    \n",
    "def classify_grid(training, test, k):\n",
    "    c = make_array()\n",
    "    for i in range(test.num_rows):\n",
    "        # Run the classifier on the ith patient in the test set\n",
    "        c = np.append(c, classify(training, make_array(test.row(i)), k))   \n",
    "    return c\n",
    "\n",
    "def plot_all_points_classified(test_grid):\n",
    "    c = classify_grid(ckd.drop('White Blood Cell Count', 'Color'), test_grid, 1)\n",
    "    test_grid = test_grid.with_column('Class', c).join('Class', color_table)\n",
    "    test_grid.scatter('Hemoglobin', 'Glucose', group='Color', alpha=0.4, s=30)\n",
    "\n",
    "    plt.scatter(ckd.column('Hemoglobin'), ckd.column('Glucose'), c=ckd.column('Color'), edgecolor='k')\n",
    "\n",
    "    plt.xlim(-2, 2)\n",
    "    plt.ylim(-2, 2);"
   ]
  },
  {
   "cell_type": "markdown",
   "id": "cell-lec35-4",
   "metadata": {},
   "source": [
    "# Lecture 35 Classification\n",
    "\n",
    "### Making Predications\n",
    "Based on incomplete information.\n",
    "\n",
    "One way of making predictions: </br>\n",
    "To predict an outcome for an individual, find others who are like that individual and whose outcomes you know. \n",
    "Use those outcomes as the basis of your prediction.\n",
    "\n",
    "***Two Types of Prediction*** </br>\n",
    "***Regression = Numeric; Classification = Categorical***\n"
   ]
  },
  {
   "cell_type": "markdown",
   "id": "cell-lec35-5",
   "metadata": {},
   "source": [
    "## Classification Examples\n",
    "Predicting Categorical Data. (non numeric)"
   ]
  },
  {
   "cell_type": "markdown",
   "id": "cell-lec35-6",
   "metadata": {},
   "source": [
    "### Classifying Patients ###\n",
    "\n",
    "Chronic Kidney Disease (CKD) Predictions </br>\n",
    "Class of 1: Patient has CKD</br>\n",
    "Class of 0: Patient does not have CKD"
   ]
  },
  {
   "cell_type": "code",
   "execution_count": null,
   "id": "cell-lec35-7",
   "metadata": {},
   "outputs": [],
   "source": [
    "# Load in patient records from a particular hospital. \n",
    "# Mixed data both numeric and categorical. \n",
    "# We know the class which ultimately is what we want to predict. \n",
    "# Use this data as a model to make predictions about someone new. \n",
    "\n",
    "ckd = Table.read_table('ckd.csv').relabeled('Blood Glucose Random', 'Glucose')\n",
    "ckd.show(3)"
   ]
  },
  {
   "cell_type": "code",
   "execution_count": null,
   "id": "cell-lec35-8",
   "metadata": {},
   "outputs": [],
   "source": [
    "# Generate a small table that shows have many patients have CKD and how many don't.\n",
    "# Do not reassign. \n",
    "\n"
   ]
  },
  {
   "cell_type": "code",
   "execution_count": null,
   "id": "cell-lec35-9",
   "metadata": {},
   "outputs": [],
   "source": [
    "# Generate a scatter comparing the White Blood Cell Count and Glucose grouped by Class.\n",
    "\n"
   ]
  },
  {
   "cell_type": "markdown",
   "id": "8652eba4",
   "metadata": {},
   "source": [
    "What are some observations you can make about this comparison?\n",
    "\n",
    "Could you predict if a new person has CKD? How would you do that?\n"
   ]
  },
  {
   "cell_type": "code",
   "execution_count": null,
   "id": "cell-lec35-10",
   "metadata": {},
   "outputs": [],
   "source": [
    "# Generate a scatter comparing the Hemoglobin and Glucose grouped by Class.\n",
    "\n"
   ]
  },
  {
   "cell_type": "markdown",
   "id": "aa884a40",
   "metadata": {},
   "source": [
    "What are some observations you can make about this comparison?\n",
    "\n",
    "Could you predict if a new person has CKD? How would you do that?"
   ]
  },
  {
   "cell_type": "code",
   "execution_count": null,
   "id": "cell-lec35-11",
   "metadata": {},
   "outputs": [],
   "source": [
    "# We want to be able to way to predict the class of someone\n",
    "# without having to plot & eye ball this graph every time.\n",
    "#\n",
    "# One way to do this is to put some thresholds into code\n",
    "\n",
    "max_glucose_for_0 = ckd.where('Class',are.equal_to(0)).column('Glucose').max()\n",
    "min_hemoglobin_for_0 = ckd.where('Class',are.equal_to(0)).column('Hemoglobin').min()\n",
    "min_hemoglobin_for_0, max_glucose_for_0\n",
    "\n",
    "# What is this code doing?\n",
    "\n",
    "# Define the values that are generated by this code."
   ]
  },
  {
   "cell_type": "code",
   "execution_count": null,
   "id": "cell-lec35-12",
   "metadata": {},
   "outputs": [],
   "source": [
    "# Function to classify CKD based on hemoglobing and glucose measures. \n",
    "\n",
    "def classify_manually(hemoglobin, glucose):\n",
    "    if hemoglobin < min_hemoglobin_for_0 or glucose > max_glucose_for_0:\n",
    "        return 1\n",
    "    else:\n",
    "        return 0"
   ]
  },
  {
   "cell_type": "code",
   "execution_count": null,
   "id": "cell-lec35-13",
   "metadata": {},
   "outputs": [],
   "source": [
    "# Let's try our classifier! Test the function for someone who has 100 glucose rating and 15 hemoglobin rating.\n",
    "\n"
   ]
  },
  {
   "cell_type": "code",
   "execution_count": null,
   "id": "40df65e9",
   "metadata": {},
   "outputs": [],
   "source": [
    "# Test the function for someone who has 15 hemoglobin rating and 300 glucose rating\n",
    "\n"
   ]
  },
  {
   "cell_type": "code",
   "execution_count": null,
   "id": "cell-lec35-14",
   "metadata": {},
   "outputs": [],
   "source": [
    "# Test the function for someone who has 15 hemoglobin rating and 300 glucose rating\n",
    "\n"
   ]
  },
  {
   "cell_type": "markdown",
   "id": "d71d61e1",
   "metadata": {},
   "source": [
    "Look at the coordinate plane for these values. What do you notice about the coordinates in the previous 3 problems?\n",
    "\n",
    "What do you notice around the coordinates with 12.5 hemoglobin and 110 glucose rating?\n",
    "\n",
    "What might happen?"
   ]
  },
  {
   "cell_type": "markdown",
   "id": "cell-lec35-15",
   "metadata": {},
   "source": [
    "## Classifying Banknotes ##\n",
    "\n",
    "Banknotes are paper currency. </br>\n",
    "\n",
    "Predict whether a banknote is fraudulant or not. </br>\n",
    "Class of 0: Not fraudulant banknote</br>\n",
    "Class of 1: Fraudulant banknote"
   ]
  },
  {
   "cell_type": "code",
   "execution_count": null,
   "id": "cell-lec35-16",
   "metadata": {},
   "outputs": [],
   "source": [
    "# Import banknotes data. Shows various measures by a fraud expert \n",
    "# and the resulting classification. \n",
    "\n",
    "banknotes = Table.read_table('banknote.csv')\n",
    "banknotes"
   ]
  },
  {
   "cell_type": "code",
   "execution_count": null,
   "id": "cell-lec35-17",
   "metadata": {},
   "outputs": [],
   "source": [
    "# Generate a small table that shows have many banknotes are fraudulant and how many are not.\n",
    "# Do not reassign. \n",
    "\n"
   ]
  },
  {
   "cell_type": "code",
   "execution_count": null,
   "id": "cell-lec35-18",
   "metadata": {},
   "outputs": [],
   "source": [
    "# Generate a scatter comparing the WaveletVar and WaveletCurt grouped by Class.\n",
    "\n"
   ]
  },
  {
   "cell_type": "markdown",
   "id": "d5c346fa",
   "metadata": {},
   "source": [
    "What are some observations you can make about this comparison?\n",
    "\n",
    "Could you predict if a new banknote is fraudulant? How would you do that?"
   ]
  },
  {
   "cell_type": "code",
   "execution_count": null,
   "id": "cell-lec35-19",
   "metadata": {},
   "outputs": [],
   "source": [
    "# Generate a scatter comparing the WaveletSkew and Entropy grouped by Class.\n",
    "\n"
   ]
  },
  {
   "cell_type": "markdown",
   "id": "beee0b75",
   "metadata": {},
   "source": [
    "What are some observations you can make about this comparison?\n",
    "\n",
    "Could you predict if a new banknote is fraudulant? How would you do that?"
   ]
  },
  {
   "cell_type": "markdown",
   "id": "87f6d792",
   "metadata": {},
   "source": [
    "### Using More Dimensions to View the Data\n",
    "\n",
    "Some data in two dimensions leaves out interesting information. \n",
    "\n",
    "Increasing the dimensions may reveal additional information that helps with classification. "
   ]
  },
  {
   "cell_type": "code",
   "execution_count": null,
   "id": "cell-lec35-20",
   "metadata": {},
   "outputs": [],
   "source": [
    "# Produces a 3-Dimensional graph.\n",
    "# What variables are being used for each dimension?\n",
    "# Identify them as x, y, z.\n",
    "\n",
    "'''fig = plt.figure(figsize=(8,8))\n",
    "ax = Axes3D(fig)\n",
    "ax.scatter(banknotes.column('WaveletSkew'), \n",
    "           banknotes.column('WaveletVar'), \n",
    "           banknotes.column('WaveletCurt'), \n",
    "           c=banknotes.column('Class'),\n",
    "           cmap='viridis',\n",
    "          s=50);\n",
    "'''\n",
    "color_table = Table().with_columns(\n",
    "    'Class', make_array(1, 0),\n",
    "    'Color', make_array('darkblue', 'gold')\n",
    ")\n",
    "banknotes = banknotes.join('Class', color_table)\n",
    "\n",
    "ax = plt.figure(figsize=(8,8)).add_subplot(111, projection='3d')\n",
    "ax.scatter(banknotes.column('WaveletSkew'), \n",
    "           banknotes.column('WaveletVar'), \n",
    "           banknotes.column('WaveletCurt'), \n",
    "           c=banknotes.column('Color'));"
   ]
  },
  {
   "cell_type": "markdown",
   "id": "51ee1cfb",
   "metadata": {},
   "source": [
    "How does this visualization help classify fraudulant banknotes?\n",
    "\n",
    "Identify the variable for each axis.\n",
    "\n",
    "See if you can visually identify border values.\n"
   ]
  },
  {
   "cell_type": "markdown",
   "id": "cell-lec35-21",
   "metadata": {},
   "source": [
    "## Nearest Neighbor Classifer\n",
    "\n",
    "Creating a model to classify information based on the \"nearest neighbors\" in the data. \n",
    "\n",
    "Split the sample data into a Training Set and a Test Set. </br>\n",
    "Use the traning set to train the classifier. These are the neighbors. </br>\n",
    "Use the test set to make sure the classifier is properly assigning the class based on known information.</br>\n",
    "\n",
    "This avoids bias in the classifier. "
   ]
  },
  {
   "cell_type": "code",
   "execution_count": null,
   "id": "cell-lec35-22",
   "metadata": {},
   "outputs": [],
   "source": [
    "# Convert CKD features into standard units\n",
    "ckd = Table().with_columns(\n",
    "    'Hemoglobin', standard_units(ckd.column('Hemoglobin')),\n",
    "    'Glucose', standard_units(ckd.column('Glucose')),\n",
    "    'White Blood Cell Count', standard_units(ckd.column('White Blood Cell Count')),\n",
    "    'Class', ckd.column('Class')\n",
    ")"
   ]
  },
  {
   "cell_type": "code",
   "execution_count": null,
   "id": "cell-lec35-23",
   "metadata": {},
   "outputs": [],
   "source": [
    "# Recall Class of 0: No CKD, Class of 1: CKD\n",
    "\n",
    "color_table = Table().with_columns(\n",
    "    'Class', make_array(1, 0),\n",
    "    'Color', make_array('darkblue', 'gold')\n",
    ")\n",
    "ckd = ckd.join('Class', color_table)\n",
    "ckd"
   ]
  },
  {
   "cell_type": "code",
   "execution_count": null,
   "id": "cell-lec35-24",
   "metadata": {},
   "outputs": [],
   "source": [
    "# Generate a scatter that compares Hemoglobin and Glucose grouped by color. \n",
    "\n"
   ]
  },
  {
   "cell_type": "code",
   "execution_count": null,
   "id": "cell-lec35-25",
   "metadata": {},
   "outputs": [],
   "source": [
    "# New Patient \n",
    "# In this example, Alice's Hemoglobin is 0 and her Glucose is 1.5.\n",
    "\n",
    "alice = make_array(0, 1.5)\n",
    "show_closest(alice)"
   ]
  },
  {
   "cell_type": "markdown",
   "id": "cell-lec35-26",
   "metadata": {},
   "source": [
    "## Decision Boundary"
   ]
  },
  {
   "cell_type": "code",
   "execution_count": null,
   "id": "cell-lec35-27",
   "metadata": {},
   "outputs": [],
   "source": [
    "# New Patient \n",
    "# In this example, Alice's Hemoglobin is 0 and her Glucose is 1.5.\n",
    "\n",
    "alice = make_array(0, 0.95)\n",
    "show_closest(alice)"
   ]
  },
  {
   "cell_type": "code",
   "execution_count": null,
   "id": "cell-lec35-28",
   "metadata": {},
   "outputs": [],
   "source": [
    "# Create a grid of all points\n",
    "x_array = make_array()\n",
    "y_array = make_array()\n",
    "for x in np.arange(-2, 2.1, 0.1):\n",
    "    for y in np.arange(-2, 2.1, 0.1):\n",
    "        x_array = np.append(x_array, x)\n",
    "        y_array = np.append(y_array, y)\n",
    "\n",
    "test_grid = Table().with_columns(\n",
    "    'Hemoglobin', x_array,\n",
    "    'Glucose', y_array\n",
    ")"
   ]
  },
  {
   "cell_type": "code",
   "execution_count": null,
   "id": "cell-lec35-29",
   "metadata": {},
   "outputs": [],
   "source": [
    "# Show all the points of the plane before classification.\n",
    "\n",
    "plot_all_points(test_grid)"
   ]
  },
  {
   "cell_type": "code",
   "execution_count": null,
   "id": "cell-lec35-30",
   "metadata": {},
   "outputs": [],
   "source": [
    "# Show all points on the plane classified. \n",
    "\n",
    "plot_all_points_classified(test_grid)"
   ]
  },
  {
   "cell_type": "markdown",
   "id": "0d814630",
   "metadata": {},
   "source": [
    "This is a simplified classifier. \n",
    "\n",
    "Are you able to classify a new patient based on thei Hemoglobin and Glucose using this grid?\n",
    "Why or Why not?"
   ]
  },
  {
   "cell_type": "code",
   "execution_count": null,
   "id": "cbe83839",
   "metadata": {},
   "outputs": [],
   "source": []
  }
 ],
 "metadata": {
  "kernelspec": {
   "display_name": "Python 3 (ipykernel)",
   "language": "python",
   "name": "python3"
  },
  "language_info": {
   "codemirror_mode": {
    "name": "ipython",
    "version": 3
   },
   "file_extension": ".py",
   "mimetype": "text/x-python",
   "name": "python",
   "nbconvert_exporter": "python",
   "pygments_lexer": "ipython3",
   "version": "3.10.11"
  }
 },
 "nbformat": 4,
 "nbformat_minor": 5
}
