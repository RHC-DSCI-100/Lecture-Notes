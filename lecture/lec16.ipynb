{
 "cells": [
  {
   "cell_type": "code",
   "execution_count": null,
   "id": "cell-lec16-0",
   "metadata": {},
   "outputs": [],
   "source": [
    "from datascience import *\n",
    "import numpy as np\n",
    "\n",
    "%matplotlib inline\n",
    "import matplotlib.pyplot as plots\n",
    "plots.style.use('fivethirtyeight')"
   ]
  },
  {
   "cell_type": "markdown",
   "id": "cell-lec16-1",
   "metadata": {},
   "source": [
    "## Statistics\n",
    "\n",
    "Population Parameter:\n",
    "\n",
    "Sample Statistic: \n"
   ]
  },
  {
   "cell_type": "code",
   "execution_count": null,
   "id": "cell-lec16-2",
   "metadata": {},
   "outputs": [],
   "source": [
    "united = Table.read_table('united.csv')\n",
    "united = united.with_column('Row', np.arange(united.num_rows)).move_to_start('Row')"
   ]
  },
  {
   "cell_type": "code",
   "execution_count": null,
   "id": "cell-lec16-3",
   "metadata": {},
   "outputs": [],
   "source": [
    "# (Population) Parameter\n",
    "np.median(united.column('Delay'))"
   ]
  },
  {
   "cell_type": "code",
   "execution_count": null,
   "id": "cell-lec16-4",
   "metadata": {},
   "outputs": [],
   "source": [
    "# (Sample) Statistic\n",
    "np.median(united.sample(10).column('Delay'))"
   ]
  },
  {
   "cell_type": "code",
   "execution_count": null,
   "id": "cell-lec16-5",
   "metadata": {},
   "outputs": [],
   "source": [
    "# (Sample) Statistic\n",
    "np.median(united.sample(100).column('Delay'))"
   ]
  },
  {
   "cell_type": "markdown",
   "id": "cell-lec16-6",
   "metadata": {},
   "source": [
    "### Probability & Empirical Distributions of a Statistic"
   ]
  },
  {
   "cell_type": "code",
   "execution_count": null,
   "id": "cell-lec16-7",
   "metadata": {},
   "outputs": [],
   "source": [
    "def sample_median(size):\n",
    "    return np.median(united.sample(size).column('Delay'))"
   ]
  },
  {
   "cell_type": "code",
   "execution_count": null,
   "id": "cell-lec16-8",
   "metadata": {},
   "outputs": [],
   "source": [
    "sample_median(10)"
   ]
  },
  {
   "cell_type": "code",
   "execution_count": null,
   "id": "cell-lec16-9",
   "metadata": {},
   "outputs": [],
   "source": [
    "num_simulations = 2000"
   ]
  },
  {
   "cell_type": "code",
   "execution_count": null,
   "id": "cell-lec16-10",
   "metadata": {},
   "outputs": [],
   "source": [
    "sample_medians = make_array()\n",
    "\n",
    "for i in np.arange(num_simulations):\n",
    "    new_median = sample_median(10)\n",
    "    sample_medians = np.append(sample_medians, new_median)"
   ]
  },
  {
   "cell_type": "code",
   "execution_count": null,
   "id": "cell-lec16-11",
   "metadata": {},
   "outputs": [],
   "source": [
    "Table().with_column('Sample medians (size=10)', sample_medians).hist(bins=20)"
   ]
  },
  {
   "cell_type": "code",
   "execution_count": null,
   "id": "cell-lec16-12",
   "metadata": {},
   "outputs": [],
   "source": [
    "sample_medians = make_array()\n",
    "\n",
    "for i in np.arange(num_simulations):\n",
    "    new_median = sample_median(1000)\n",
    "    sample_medians = np.append(sample_medians, new_median)"
   ]
  },
  {
   "cell_type": "code",
   "execution_count": null,
   "id": "cell-lec16-13",
   "metadata": {},
   "outputs": [],
   "source": [
    "Table().with_column('Sample medians (size=1K)', sample_medians).hist()"
   ]
  },
  {
   "cell_type": "code",
   "execution_count": null,
   "id": "d0917d3d-1bb8-4bb8-a3d1-f468e98ce309",
   "metadata": {},
   "outputs": [],
   "source": [
    "Table().with_column('Sample medians (size=1K)', sample_medians).hist(bins = np.arange(0, 7, 1))"
   ]
  },
  {
   "cell_type": "markdown",
   "id": "cell-lec16-14",
   "metadata": {},
   "source": [
    "#### Empirical Distributions of a Statistic (Overlayed)\n",
    "\n",
    "Below, compare the outcome of running the simulations 2000 time each for a different size sample. \n",
    "\n",
    "What was the true median delay from the population?\n",
    "\n",
    "Which sample size would help us predict the population parameter better if we didn't already know it. \n"
   ]
  },
  {
   "cell_type": "code",
   "execution_count": null,
   "id": "cell-lec16-15",
   "metadata": {},
   "outputs": [],
   "source": [
    "sample_medians_10 = make_array()\n",
    "sample_medians_100 = make_array()\n",
    "sample_medians_1000 = make_array()\n",
    "\n",
    "num_simulations = 2000\n",
    "\n",
    "for i in np.arange(num_simulations):\n",
    "    new_median_10 = sample_median(10)\n",
    "    sample_medians_10 = np.append(sample_medians_10, new_median_10)\n",
    "    new_median_100 = sample_median(100)\n",
    "    sample_medians_100 = np.append(sample_medians_100, new_median_100)\n",
    "    new_median_1000 = sample_median(1000)\n",
    "    sample_medians_1000 = np.append(sample_medians_1000, new_median_1000)"
   ]
  },
  {
   "cell_type": "code",
   "execution_count": null,
   "id": "cell-lec16-16",
   "metadata": {},
   "outputs": [],
   "source": [
    "sample_medians = Table().with_columns('Size 10', sample_medians_10, \n",
    "                                      'Size 100', sample_medians_100,\n",
    "                                      'Size 1000', sample_medians_1000)"
   ]
  },
  {
   "cell_type": "code",
   "execution_count": null,
   "id": "cell-lec16-17",
   "metadata": {},
   "outputs": [],
   "source": [
    "sample_medians.hist(bins = np.arange(-5, 30))"
   ]
  },
  {
   "cell_type": "markdown",
   "id": "cell-lec16-18",
   "metadata": {},
   "source": [
    "# Models #\n",
    "\n",
    "A model is a set of assumptions about the data.\n",
    "\n",
    "In data science, many models involve assumptions about processes that involve randomness </br>\n",
    "“Chance models”\n",
    "\n",
    "Key question: does the model fit the data?\n",
    "\n",
    "## Swain vs. Alabama ##\n",
    "A U.S. Supreme Court case in the 1960s. </br>\n",
    "Robert Swain, a Black man, was convicted in Talladega County, AL. He appealed to the U.S. Supreme Court claiming that the jury was not impartial since there was not equal representation on the jury. </br>\n",
    "According to the U.S. Constitution: Defendants have the “right to a speedy and public trial, by an impartial jury”. </br>\n",
    "This means that the jury distribution of ethnicity should represent the county's distribution of ethnicty.\n",
    "\n",
    "In Talladega County, 26% of the eligible jurors in the county were black and 74% were white at that time. Only 8 out of 100 (or 8%) black jurors were selected for the jury panel, with no black jurors selected for the Jury. The county claimed that 8 black jurors on the panel was a reasonable amount of eligible black jurors based on the distribution of the county at the time. \n",
    "\n"
   ]
  },
  {
   "cell_type": "markdown",
   "id": "9796d3bb",
   "metadata": {},
   "source": [
    "### Was the Alabama jury selection process biased against the black population?\n"
   ]
  },
  {
   "cell_type": "code",
   "execution_count": null,
   "id": "cell-lec16-19",
   "metadata": {},
   "outputs": [],
   "source": [
    "# Alabama's distribution of race 26% black, 74% white is modeled in the array below.\n",
    "\n",
    "population_proportions = make_array(.26, .74)\n",
    "population_proportions"
   ]
  },
  {
   "cell_type": "code",
   "execution_count": null,
   "id": "cell-lec16-20",
   "metadata": {},
   "outputs": [],
   "source": [
    "# If we randomly choose 100 people from that distribution what percentages could we get?\n",
    "\n",
    "sample_proportions(100, population_proportions)"
   ]
  },
  {
   "cell_type": "code",
   "execution_count": null,
   "id": "cell-lec16-21",
   "metadata": {},
   "outputs": [],
   "source": [
    "# What does this function do?\n",
    "\n",
    "def panel_proportion():\n",
    "    return sample_proportions(100, population_proportions).item(0)"
   ]
  },
  {
   "cell_type": "code",
   "execution_count": null,
   "id": "cell-lec16-22",
   "metadata": {},
   "outputs": [],
   "source": [
    "panel_proportion()"
   ]
  },
  {
   "cell_type": "code",
   "execution_count": null,
   "id": "cell-lec16-23",
   "metadata": {},
   "outputs": [],
   "source": [
    "# Create an array that stores the result of running the function as a percent 10000 times. \n",
    "# Complete the code below.\n",
    "panels = make_array()\n",
    "\n",
    "for i in np.arange(10000):\n",
    "    new_panel = \n",
    "    panels = "
   ]
  },
  {
   "cell_type": "code",
   "execution_count": null,
   "id": "cell-lec16-24",
   "metadata": {},
   "outputs": [],
   "source": [
    "#Display the results as a historgram\n",
    "Table().with_column(\n",
    "    'Number of Black Men on Panel of 100', panels\n",
    ").hist(bins=np.arange(5.5,40.))\n",
    "\n",
    "# Plotting details; this will plot Alabama's juror panel result.\n",
    "plots.ylim(-0.002, 0.09)\n",
    "plots.scatter(8, 0, color='red', s=30);"
   ]
  },
  {
   "cell_type": "markdown",
   "id": "68b48d2f",
   "metadata": {},
   "source": [
    "### Was Alabama's claim that their selection process was unbiased true?\n",
    "\n",
    "The red dot represents the number of black men on Alabama's panel of 100. \n",
    "\n",
    "Type your answer here.\n",
    "\n",
    "#### About this curve: ####    \n",
    "This type of curve that is roughly symmetric about a center value, is called a </br>\n",
    "What is the approximate center of this curve?\n",
    "\n",
    "Google the Empirical Rule. It shows the distrubtion of the data under a Normal curve. We can also use those value to represent the probability that a data point would fall in any given range. \n",
    "\n",
    "What is the approximate probability that a data point would fall at the position Alabama claimed was fair, based on the Empirical Rule?</br>\n",
    "Convert the percentage into a decimal or a fraction. \n",
    "\n",
    "A probability below 5% is considered \n",
    "\n",
    "\n",
    "#### What type of statistic was used in this model?\n",
    "    \n"
   ]
  },
  {
   "cell_type": "markdown",
   "id": "cell-lec16-25",
   "metadata": {},
   "source": [
    "## A Genetic Model: Mendel and Pea Flowers ##\n",
    "\n",
    "In the 1800's, Gregor Mendel noted that when he planted pea flowers, the majority of them had purple flowers. Mendel had 929 plants. 709 of those plants had purple flowers. He determined, from his sample, that 75\\% of the flowers were purple and the other 25\\% were white. He hypothesized that this would be a consistent model for pea flowers. \n"
   ]
  },
  {
   "cell_type": "markdown",
   "id": "5c4bf55f",
   "metadata": {},
   "source": [
    "### Does the assumed model of 75% purple and 25% white have basis?\n",
    "\n",
    "We want to know is the distribution close to 75\\%. In this case, we don't need the value to higher or lower to prove our point, it just needs to be different enough. \n",
    "\n",
    "The statistic we will measure is the distance from 75\\%. How do we measure distance mathematically?"
   ]
  },
  {
   "cell_type": "code",
   "execution_count": null,
   "id": "cell-lec16-26",
   "metadata": {},
   "outputs": [],
   "source": [
    "## Mendel had 929 plants, of which 709 had purple flowers\n",
    "\n",
    "observed_purples = 709 / 929\n",
    "observed_purples"
   ]
  },
  {
   "cell_type": "code",
   "execution_count": null,
   "id": "cell-lec16-27",
   "metadata": {},
   "outputs": [],
   "source": [
    "#if the predicted propotions was 75% purple, when we run a random sample what propotions would we get?\n",
    "\n",
    "predicted_proportions = make_array(.75, .25)\n",
    "sample_proportions(929, predicted_proportions)"
   ]
  },
  {
   "cell_type": "code",
   "execution_count": null,
   "id": "cell-lec16-28",
   "metadata": {},
   "outputs": [],
   "source": [
    "# Create a function that finds the percent of purple flowers from a random sample. \n",
    "# Refer to the code in the Swain vs. Alabama section to get some ideas. \n",
    "# Complete the code.\n",
    "\n",
    "def purple_flowers():\n",
    "    return sample_proportions(929, predicted_proportions).item(0) * 100"
   ]
  },
  {
   "cell_type": "code",
   "execution_count": null,
   "id": "cell-lec16-29",
   "metadata": {},
   "outputs": [],
   "source": [
    "purple_flowers()"
   ]
  },
  {
   "cell_type": "code",
   "execution_count": null,
   "id": "cell-lec16-30",
   "metadata": {},
   "outputs": [],
   "source": [
    "# Create a for loop that runs your function 10000 times and enters the result into an array. \n",
    "# Complete the code\n",
    "purples = make_array()\n",
    "\n",
    "for i in np.arange(10000):\n",
    "    new_purple = purple_flowers()\n",
    "    purples = np.append(purples, new_purple)"
   ]
  },
  {
   "cell_type": "code",
   "execution_count": null,
   "id": "cell-lec16-31",
   "metadata": {
    "scrolled": true
   },
   "outputs": [],
   "source": [
    "Table().with_column('Percent of purple flowers in sample of 929', purples).hist()"
   ]
  },
  {
   "cell_type": "markdown",
   "id": "f09282e3-f371-49da-b560-1534956768fb",
   "metadata": {},
   "source": [
    "What does the above histogram reveal? Think about the model we have assumed. What does it tell us about that?"
   ]
  },
  {
   "cell_type": "code",
   "execution_count": null,
   "id": "cell-lec16-32",
   "metadata": {
    "scrolled": true
   },
   "outputs": [],
   "source": [
    "Table().with_column('Discrepancy in sample of 929 if the model is true', abs(purples- 75)).hist()"
   ]
  },
  {
   "cell_type": "markdown",
   "id": "34d2e18b-5f69-4f49-a2de-8001f90bc1c0",
   "metadata": {},
   "source": [
    "What is the difference between the information in this histogram compared to the first histogram? (Notice the code)\n",
    "\n",
    "What does this reveal?"
   ]
  },
  {
   "cell_type": "code",
   "execution_count": null,
   "id": "cell-lec16-33",
   "metadata": {},
   "outputs": [],
   "source": [
    "# In Mendel's original plants, the distribution was not exactly 75/25. \n",
    "# What was the difference between his actual percent of purples compared to his model?\n",
    "\n",
    "abs(observed_purples * 100 - 75)"
   ]
  },
  {
   "cell_type": "markdown",
   "id": "f7470fc0",
   "metadata": {},
   "source": [
    "### Was Mendel's model a good fit?\n",
    "\n",
    "Type your answer here. \n",
    "\n",
    "#### What type of statistic was used to test this model?"
   ]
  },
  {
   "cell_type": "markdown",
   "id": "f59ba9e1",
   "metadata": {},
   "source": []
  },
  {
   "cell_type": "markdown",
   "id": "9d8afa81",
   "metadata": {},
   "source": [
    "# Discussion Questions\n"
   ]
  },
  {
   "cell_type": "markdown",
   "id": "83427ae4",
   "metadata": {},
   "source": [
    "In each of (a) and (b), what statistic will help you decide between the two viewpoints?\n",
    "\n",
    "Data: the results of 400 tosses of a coin."
   ]
  },
  {
   "cell_type": "markdown",
   "id": "672e4b6a",
   "metadata": {},
   "source": [
    "(a)\n",
    "\n",
    " * “This coin is fair.”   \n",
    " * “No, it’s not.”\n",
    "    \n",
    "(b)\n",
    "\n",
    " * “This coin is fair.”    \n",
    " * “No, it’s biased towards heads."
   ]
  },
  {
   "cell_type": "markdown",
   "id": "0943d6e7",
   "metadata": {},
   "source": [
    "What is fair?\n",
    "\n",
    "The percent of heads in the 400 tosses is a good starting point, but might need adjustment\n",
    "\n",
    "A percent of heads around 50% suggests “fair"
   ]
  },
  {
   "cell_type": "markdown",
   "id": "42b4cc2c-c2ab-43a9-a397-657a8c24d35f",
   "metadata": {},
   "source": [
    "a) Very large or very small values of the percent of heads suggest “not fair.”\n",
    "The distance between percent of heads and 50% is the key. </br>\n",
    "○ Statistic: | percent of heads − 50% | </br>\n",
    "○ Large values of the statistic suggest “not fair”\n",
    "\n",
    "(b) Large values of the percent of heads suggest “biased towards heads” </br>\n",
    "○ Statistic: percent of heads"
   ]
  },
  {
   "cell_type": "code",
   "execution_count": null,
   "id": "4d4d1d21-1fcf-4ba9-9ebb-8f913457685c",
   "metadata": {},
   "outputs": [],
   "source": []
  }
 ],
 "metadata": {
  "anaconda-cloud": {},
  "kernelspec": {
   "display_name": "Python 3 (ipykernel)",
   "language": "python",
   "name": "python3"
  },
  "language_info": {
   "codemirror_mode": {
    "name": "ipython",
    "version": 3
   },
   "file_extension": ".py",
   "mimetype": "text/x-python",
   "name": "python",
   "nbconvert_exporter": "python",
   "pygments_lexer": "ipython3",
   "version": "3.11.13"
  }
 },
 "nbformat": 4,
 "nbformat_minor": 5
}
