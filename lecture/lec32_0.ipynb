{
 "cells": [
  {
   "cell_type": "code",
   "execution_count": null,
   "id": "cell-lec32-0",
   "metadata": {},
   "outputs": [],
   "source": [
    "# HIDDEN\n",
    "from datascience import *\n",
    "import numpy as np\n",
    "%matplotlib inline\n",
    "import matplotlib.pyplot as plots\n",
    "plots.style.use('fivethirtyeight')"
   ]
  },
  {
   "cell_type": "markdown",
   "id": "cell-lec32-1",
   "metadata": {},
   "source": [
    "### Regression line vs other lines"
   ]
  },
  {
   "cell_type": "code",
   "execution_count": null,
   "id": "cell-lec32-2",
   "metadata": {},
   "outputs": [],
   "source": [
    "def standard_units(arr):\n",
    "    \"\"\" Converts an array to standard units \"\"\"\n",
    "    return (arr - np.average(arr))/np.std(arr)\n",
    "\n",
    "def correlation(t, x, y):\n",
    "    \"\"\" Computes correlation: t is a table, and x and y are column names \"\"\"\n",
    "    x_standard = standard_units(t.column(x))\n",
    "    y_standard = standard_units(t.column(y))\n",
    "    return np.average(x_standard * y_standard)\n",
    "\n",
    "def slope(t, x, y):\n",
    "    \"\"\" Computes the slope of the regression line, like correlation above \"\"\"\n",
    "    r = correlation(t, x, y)\n",
    "    y_sd = np.std(t.column(y))\n",
    "    x_sd = np.std(t.column(x))\n",
    "    return r * y_sd / x_sd\n",
    "\n",
    "def intercept(t, x, y):\n",
    "    \"\"\" Computes the intercept of the regression line, like slope above \"\"\"\n",
    "    x_mean = np.mean(t.column(x))\n",
    "    y_mean = np.mean(t.column(y))\n",
    "    return y_mean - slope(t, x, y)*x_mean\n",
    "\n",
    "def fitted_values(t, x, y):\n",
    "    \"\"\"Return an array of the regression estimates (predictions) at all the x values\"\"\"\n",
    "    a = slope(t, x, y)\n",
    "    b = intercept(t, x, y)\n",
    "    return a*t.column(x) + b"
   ]
  },
  {
   "cell_type": "markdown",
   "id": "cell-lec32-3",
   "metadata": {},
   "source": [
    "## Residuals\n",
    "\n",
    "Residual is the name for the error in the regression estimate for each point on the regression line.\n",
    "\n",
    "To calculate the residual: </br>\n",
    "= observed y - regression estimate of y</br>\n",
    "= observed y - height of regression line at x</br>\n",
    "= vertical distance between the point and the best line"
   ]
  },
  {
   "cell_type": "code",
   "execution_count": null,
   "id": "cell-lec32-4",
   "metadata": {
    "scrolled": false
   },
   "outputs": [],
   "source": [
    "#2016 data about different voting districts throughout the US. \n",
    "#We will focus on the median income of that district and what percent of voters attended college.  \n",
    "demographics = Table.read_table('district_demographics2016.csv')\n",
    "demographics = demographics.drop(\n",
    "    'State', 'District', 'Percent voting for Clinton')\n",
    "demographics.show(5)"
   ]
  },
  {
   "cell_type": "code",
   "execution_count": null,
   "id": "cell-lec32-5",
   "metadata": {},
   "outputs": [],
   "source": [
    "#Create a function that finds the residual for each data point. \n",
    "def residuals(t, x, y):\n",
    "    predictions = fitted_values(t, x, y)\n",
    "    return t.column(y) - predictions"
   ]
  },
  {
   "cell_type": "code",
   "execution_count": null,
   "id": "cell-lec32-6",
   "metadata": {
    "scrolled": true
   },
   "outputs": [],
   "source": [
    "#Creates a table that addes the fitted value (from the regression line) and the residual created by that value.\n",
    "demographics = demographics.with_columns(\n",
    "    'Fitted Value', fitted_values(demographics, 'College%', 'Median Income'),\n",
    "    'Residual', residuals(demographics, 'College%', 'Median Income')\n",
    ")\n",
    "demographics\n",
    "\n",
    "#Why are some values negative and other positive?\n"
   ]
  },
  {
   "cell_type": "code",
   "execution_count": null,
   "id": "cell-lec32-7",
   "metadata": {
    "scrolled": true
   },
   "outputs": [],
   "source": [
    "#View the residuals as a scatter compared to the data scatter. \n",
    "#Where are the residuals centered around?Why?\n",
    "\n",
    "demographics.scatter('College%')"
   ]
  },
  {
   "cell_type": "code",
   "execution_count": null,
   "id": "cell-lec32-8",
   "metadata": {},
   "outputs": [],
   "source": [
    "def plot_residuals(t, x, y):\n",
    "    tbl = t.with_columns(\n",
    "        'Fitted', fitted_values(t, x, y),\n",
    "        'Residual', residuals(t, x, y)\n",
    "    )\n",
    "    tbl.select(x, y, 'Fitted').scatter(0)\n",
    "    tbl.scatter(x, 'Residual')"
   ]
  },
  {
   "cell_type": "code",
   "execution_count": null,
   "id": "cell-lec32-9",
   "metadata": {},
   "outputs": [],
   "source": [
    "#Plotting the residuals on a separate scatter. \n",
    "#What are some characteristics you notice about the residuals?\n",
    "\n",
    "plot_residuals(demographics, 'College%', 'Median Income')"
   ]
  },
  {
   "cell_type": "code",
   "execution_count": null,
   "id": "cell-lec32-10",
   "metadata": {},
   "outputs": [],
   "source": [
    "#View the data and residuals of a comparison between average parent's height and their child's height. \n",
    "galton = Table.read_table('heights.csv')\n",
    "\n",
    "heights = Table().with_columns(\n",
    "    'MidParent', galton.column('midparentHeight'),\n",
    "    'Child', galton.column('childHeight')\n",
    "    )\n",
    "plot_residuals(heights, 'MidParent', 'Child')"
   ]
  },
  {
   "cell_type": "markdown",
   "id": "cell-lec32-11",
   "metadata": {},
   "source": [
    "## Dugongs ##\n",
    "\n",
    "Dugongs are a marine animal related to the manatee. There are declining in numbers so ecologist are monitoring them. \n",
    "Since they cannot precisely measure how old they are, they want to know if they can predict their age if they  measure how long they are. \n"
   ]
  },
  {
   "cell_type": "code",
   "execution_count": null,
   "id": "cell-lec32-12",
   "metadata": {
    "scrolled": true
   },
   "outputs": [],
   "source": [
    "dugong = Table.read_table('dugong.csv')\n",
    "dugong.show(5)"
   ]
  },
  {
   "cell_type": "code",
   "execution_count": null,
   "id": "cell-lec32-13",
   "metadata": {
    "scrolled": false
   },
   "outputs": [],
   "source": [
    "#Generate a scatter comparing Length and Age\n",
    "\n"
   ]
  },
  {
   "cell_type": "code",
   "execution_count": null,
   "id": "cell-lec32-14",
   "metadata": {},
   "outputs": [],
   "source": [
    "#Find r for the Length and Age.\n",
    "\n"
   ]
  },
  {
   "cell_type": "code",
   "execution_count": null,
   "id": "cell-lec32-15",
   "metadata": {},
   "outputs": [],
   "source": [
    "plot_residuals(dugong, 'Length', 'Age')"
   ]
  },
  {
   "cell_type": "markdown",
   "id": "ed368d8b",
   "metadata": {},
   "source": [
    "What do you notice about the data compared to the Regression Line?\n",
    "\n",
    "What do you notice about the residual plot?\n",
    "\n",
    "What might this indicate?\n",
    "\n"
   ]
  },
  {
   "cell_type": "markdown",
   "id": "cell-lec32-16",
   "metadata": {},
   "source": [
    "# US Women"
   ]
  },
  {
   "cell_type": "code",
   "execution_count": null,
   "id": "cell-lec32-17",
   "metadata": {},
   "outputs": [],
   "source": [
    "#Import the table on US women. This displays the average weight for women in the given height category. \n",
    "us_women = Table.read_table('us_women.csv')\n",
    "us_women.show(5)"
   ]
  },
  {
   "cell_type": "code",
   "execution_count": null,
   "id": "cell-lec32-18",
   "metadata": {},
   "outputs": [],
   "source": [
    "#Why is this so linear? What type of correlation is this?\n",
    "\n",
    "us_women.scatter('height')"
   ]
  },
  {
   "cell_type": "code",
   "execution_count": null,
   "id": "cell-lec32-19",
   "metadata": {},
   "outputs": [],
   "source": [
    "#Find r for height and ave weight.\n",
    "\n"
   ]
  },
  {
   "cell_type": "code",
   "execution_count": null,
   "id": "cell-lec32-20",
   "metadata": {
    "scrolled": true
   },
   "outputs": [],
   "source": [
    "plot_residuals(us_women, 'height', 'ave weight')"
   ]
  },
  {
   "cell_type": "markdown",
   "id": "2865ee33",
   "metadata": {},
   "source": [
    "What do you notice about the data compared to the Regression Line?\n",
    "\n",
    "What do you notice about the residual plot?\n",
    "\n",
    "What might this indicate?"
   ]
  },
  {
   "cell_type": "markdown",
   "id": "cell-lec32-21",
   "metadata": {},
   "source": [
    "## Average of Residuals ##\n",
    "\n",
    "Since the residuals are centered around zero with some above and some below with basically no correlation, we expect the average of all of the residuals to equal to zero. \n",
    "\n",
    "Residuals from a linear regression always have\n",
    " * Zero mean (so rmse = sd of residuals)\n",
    " * Zero correlation with x\n",
    " * Zero correlation with the fitted values\n",
    "\n",
    "\n",
    "These are all true no matter what the data look like\n",
    " * Just like deviations from mean are zero on average\n"
   ]
  },
  {
   "cell_type": "code",
   "execution_count": null,
   "id": "cell-lec32-22",
   "metadata": {},
   "outputs": [],
   "source": [
    "#Check the residual average for the Dugong data\n",
    "\n",
    "round(np.average(residuals(dugong, 'Length', 'Age')), 6)"
   ]
  },
  {
   "cell_type": "code",
   "execution_count": null,
   "id": "cell-lec32-23",
   "metadata": {},
   "outputs": [],
   "source": [
    "#Check the residual average for the Child Height data\n",
    "\n",
    "round(np.average(residuals(heights, 'MidParent', 'Child')), 6)"
   ]
  },
  {
   "cell_type": "code",
   "execution_count": null,
   "id": "cell-lec32-24",
   "metadata": {},
   "outputs": [],
   "source": [
    "#Check the residual average for the Voting District data\n",
    "\n",
    "round(np.average(residuals(demographics, 'College%', 'Median Income')), 6)"
   ]
  },
  {
   "cell_type": "code",
   "execution_count": null,
   "id": "cell-lec32-25",
   "metadata": {},
   "outputs": [],
   "source": [
    "#Recall the parent average height, the child adult height with the fitted value and it's residual. \n",
    "heights = heights.with_columns(\n",
    "    'Residual', residuals(heights, 'MidParent', 'Child'),\n",
    "    'Fitted Value', fitted_values(heights, 'MidParent', 'Child')\n",
    ")\n",
    "heights"
   ]
  },
  {
   "cell_type": "code",
   "execution_count": null,
   "id": "cell-lec32-26",
   "metadata": {},
   "outputs": [],
   "source": [
    "#Check the correlation with the residuals and child height\n",
    "\n",
    "correlation(heights, 'MidParent', 'Residual')\n"
   ]
  },
  {
   "cell_type": "code",
   "execution_count": null,
   "id": "cell-lec32-27",
   "metadata": {},
   "outputs": [],
   "source": [
    "#Check the correlation with the residuals and the fitted value\n",
    "\n",
    "round(correlation(heights, 'Fitted Value', 'Residual'), 6)"
   ]
  },
  {
   "cell_type": "code",
   "execution_count": null,
   "id": "a67dd018",
   "metadata": {},
   "outputs": [],
   "source": [
    "#Recall the correlation of between the Parent avg height and the child's height. \n",
    "r_heights = correlation (heights, 'MidParent', 'Child')\n",
    "r_heights"
   ]
  },
  {
   "cell_type": "code",
   "execution_count": null,
   "id": "afb911b6",
   "metadata": {},
   "outputs": [],
   "source": [
    "#Compare the STD of the Residual to the rmse of the child heights. \n",
    "\n",
    "np.std(heights.column('Residual')), np.sqrt(1 - r_heights**2) * np.std(heights.column('Child'))"
   ]
  },
  {
   "cell_type": "code",
   "execution_count": null,
   "id": "6fc4d0e5",
   "metadata": {},
   "outputs": [],
   "source": [
    "#Recall the Voting District data with the district median income and percent who went to college \n",
    "#with the fitted value of the median income and its residual.\n",
    "demographics"
   ]
  },
  {
   "cell_type": "code",
   "execution_count": null,
   "id": "dd3ef170",
   "metadata": {},
   "outputs": [],
   "source": [
    "#Recall r for College and Median Income\n",
    "r = correlation(demographics, 'College%', 'Median Income')\n",
    "r"
   ]
  },
  {
   "cell_type": "code",
   "execution_count": null,
   "id": "a9c07e46",
   "metadata": {},
   "outputs": [],
   "source": [
    "#Check the correlation between the fitted value and the residual.\n",
    "\n",
    "correlation(demographics, 'Fitted Value', 'Residual')"
   ]
  },
  {
   "cell_type": "code",
   "execution_count": null,
   "id": "db929805",
   "metadata": {},
   "outputs": [],
   "source": [
    "#Compare std of residual to the rmse for demographics Median Income. \n",
    "\n",
    "np.std(demographics.column('Residual')), np.sqrt(1 - r**2) * np.std(demographics.column('Median Income'))"
   ]
  },
  {
   "cell_type": "markdown",
   "id": "056c7a93",
   "metadata": {},
   "source": [
    "### Discussion Question ###\n",
    "\n",
    "How would we adjust our regression line...\n",
    " * if the average residual were 10?\n",
    " * if the residuals were positively correlated with x?\n",
    " * if the residuals were above 0 in the middle and below 0 on the left and right?\n",
    " \n",
    " Residuals of 10:  \n",
    " \n",
    " Positively coorrelated: \n",
    " \n",
    " Above and below 0 at the ends: "
   ]
  },
  {
   "cell_type": "code",
   "execution_count": null,
   "id": "a11fde1f",
   "metadata": {},
   "outputs": [],
   "source": []
  }
 ],
 "metadata": {
  "anaconda-cloud": {},
  "kernelspec": {
   "display_name": "Python 3 (ipykernel)",
   "language": "python",
   "name": "python3"
  },
  "language_info": {
   "codemirror_mode": {
    "name": "ipython",
    "version": 3
   },
   "file_extension": ".py",
   "mimetype": "text/x-python",
   "name": "python",
   "nbconvert_exporter": "python",
   "pygments_lexer": "ipython3",
   "version": "3.10.11"
  }
 },
 "nbformat": 4,
 "nbformat_minor": 5
}
