{
 "cells": [
  {
   "cell_type": "code",
   "execution_count": null,
   "id": "cell-lec20-0",
   "metadata": {},
   "outputs": [],
   "source": [
    "from datascience import *\n",
    "import numpy as np\n",
    "\n",
    "%matplotlib inline\n",
    "import matplotlib.pyplot as plots\n",
    "plots.style.use('fivethirtyeight')"
   ]
  },
  {
   "cell_type": "markdown",
   "id": "cell-lec20-1",
   "metadata": {},
   "source": [
    "## Comparing Two Samples"
   ]
  },
  {
   "cell_type": "markdown",
   "id": "26f50857",
   "metadata": {},
   "source": [
    "Based on our findings can we conclude that smoking caused the difference in birthweight?"
   ]
  },
  {
   "cell_type": "code",
   "execution_count": null,
   "id": "cell-lec20-4",
   "metadata": {},
   "outputs": [],
   "source": [
    "births = Table.read_table('baby.csv')"
   ]
  },
  {
   "cell_type": "code",
   "execution_count": null,
   "id": "cell-lec20-5",
   "metadata": {},
   "outputs": [],
   "source": [
    "births.group('Maternal Smoker', np.average)"
   ]
  },
  {
   "cell_type": "markdown",
   "id": "86cd0650",
   "metadata": {},
   "source": [
    "What are other factors that could contribute to birthweight?"
   ]
  },
  {
   "cell_type": "markdown",
   "id": "09fa39b4",
   "metadata": {},
   "source": [
    "### Functions we will need for the next data set.\n",
    "Comment in each fuction the answer to: What do these do?"
   ]
  },
  {
   "cell_type": "code",
   "execution_count": null,
   "id": "cell-lec20-2",
   "metadata": {},
   "outputs": [],
   "source": [
    "def difference_of_means(table, numeric_label, group_label):\n",
    "    \"\"\"\n",
    "    Takes: name of table, column label of numerical variable,\n",
    "    column label of group-label variable\n",
    "    \n",
    "    Returns: Difference of means of the two groups\n",
    "    \"\"\"\n",
    "    \n",
    "    #table with the two relevant columns\n",
    "    reduced = table.select(numeric_label, group_label)  \n",
    "    \n",
    "    # table containing group means\n",
    "    means_table = reduced.group(group_label, np.average)\n",
    "    \n",
    "    # array of group means\n",
    "    means = means_table.column(1)\n",
    "    \n",
    "    return means.item(1) - means.item(0)"
   ]
  },
  {
   "cell_type": "code",
   "execution_count": null,
   "id": "cell-lec20-3",
   "metadata": {},
   "outputs": [],
   "source": [
    "def one_simulated_difference(table, numeric_label, group_label):\n",
    "    \"\"\"\n",
    "    Takes: name of table, column label of numerical variable,\n",
    "    column label of group-label variable\n",
    "    \n",
    "    Returns: Difference of means of the two groups after shuffling labels\n",
    "    \"\"\"\n",
    "    \n",
    "    # array of shuffled labels\n",
    "    shuffled_labels = table.sample(\n",
    "        with_replacement = False).column(group_label)\n",
    "    \n",
    "    # table of numerical variable and shuffled labels\n",
    "    shuffled_table = table.select(numeric_label).with_column(\n",
    "        'Shuffled Label', shuffled_labels)\n",
    "    \n",
    "    return difference_of_means(\n",
    "        shuffled_table, numeric_label, 'Shuffled Label')   "
   ]
  },
  {
   "cell_type": "markdown",
   "id": "cell-lec20-6",
   "metadata": {},
   "source": [
    "# Randomized Control Experiment"
   ]
  },
  {
   "cell_type": "markdown",
   "id": "c72f6eab",
   "metadata": {},
   "source": [
    "Establishing causality after a relationship (correlation) has been observerd, requires a randomized control experiment.\n",
    "</br> Would it be ethical to run a study to establish if smoking was the cause of lower birthweight? Why or Why not?"
   ]
  },
  {
   "cell_type": "markdown",
   "id": "dcb6edfd",
   "metadata": {},
   "source": [
    "### Botox Study\n",
    "After years of hearing the botox helped relieve other pains, statisticians found a relationship and ran an experiement to determine if it was true. "
   ]
  },
  {
   "cell_type": "code",
   "execution_count": null,
   "id": "cell-lec20-7",
   "metadata": {},
   "outputs": [],
   "source": [
    "botox = Table.read_table('bta.csv')\n",
    "botox.show()"
   ]
  },
  {
   "cell_type": "code",
   "execution_count": null,
   "id": "cell-lec20-8",
   "metadata": {},
   "outputs": [],
   "source": [
    "# Create a pivot table that shows the groups and how many had each result. \n",
    "# Do not assign it \n",
    "\n"
   ]
  },
  {
   "cell_type": "code",
   "execution_count": null,
   "id": "cell-lec20-9",
   "metadata": {},
   "outputs": [],
   "source": [
    "# Create a table that shows the average for each group.  \n",
    "# Do not assign it \n",
    "\n"
   ]
  },
  {
   "cell_type": "markdown",
   "id": "2cc22ac3",
   "metadata": {},
   "source": [
    "What are our hypotheses?"
   ]
  },
  {
   "cell_type": "markdown",
   "id": "c0b34642",
   "metadata": {},
   "source": [
    "What statistic should we use to test our hypotheses?"
   ]
  },
  {
   "cell_type": "markdown",
   "id": "124eead6",
   "metadata": {},
   "source": [
    "What values of our statistic will support the alternative hypothesis?"
   ]
  },
  {
   "cell_type": "markdown",
   "id": "cell-lec20-10",
   "metadata": {},
   "source": [
    "# Testing the Hypothesis"
   ]
  },
  {
   "cell_type": "code",
   "execution_count": null,
   "id": "cell-lec20-11",
   "metadata": {},
   "outputs": [],
   "source": [
    "observed_diff = difference_of_means(botox, 'Result', 'Group')\n",
    "observed_diff"
   ]
  },
  {
   "cell_type": "code",
   "execution_count": null,
   "id": "cell-lec20-12",
   "metadata": {},
   "outputs": [],
   "source": [
    "one_simulated_difference(botox, 'Result', 'Group')\n"
   ]
  },
  {
   "cell_type": "code",
   "execution_count": null,
   "id": "cell-lec20-13",
   "metadata": {},
   "outputs": [],
   "source": [
    "#Run 10000 simulations. \n",
    "\n",
    "simulated_diffs = make_array()\n",
    "\n",
    "for i in np.arange(10000):\n",
    "    sim_diff = one_simulated_difference(botox, 'Result', 'Group')\n",
    "    simulated_diffs = np.append(simulated_diffs, sim_diff)"
   ]
  },
  {
   "cell_type": "code",
   "execution_count": null,
   "id": "cell-lec20-14",
   "metadata": {},
   "outputs": [],
   "source": [
    "col_name = 'Distances between groups'\n",
    "\n",
    "#Create a table with the given column name that stores the simulations.\n",
    "\n",
    "\n",
    "\n",
    "#Display a histogram with the default number of bins.\n",
    "\n",
    "\n",
    "\n",
    "#The following code plots the observed difference.\n",
    "#It is difficult to see for some reason.\n",
    "plots.scatter(observed_diff, 0, c = 'red')"
   ]
  },
  {
   "cell_type": "code",
   "execution_count": null,
   "id": "cell-lec20-15",
   "metadata": {},
   "outputs": [],
   "source": [
    "# p-value\n",
    "sum(simulated_diffs >= observed_diff)/len(simulated_diffs)"
   ]
  },
  {
   "cell_type": "markdown",
   "id": "635364bb",
   "metadata": {},
   "source": [
    "If our p-value cutoff was 1% would this data support the null or alternative hypothesis?"
   ]
  },
  {
   "cell_type": "markdown",
   "id": "cee6d42c",
   "metadata": {},
   "source": [
    "Can we say the botox causes reduction in pain? Why or Why not?"
   ]
  },
  {
   "cell_type": "code",
   "execution_count": null,
   "id": "f7d4e346",
   "metadata": {},
   "outputs": [],
   "source": []
  }
 ],
 "metadata": {
  "kernelspec": {
   "display_name": "Python 3 (ipykernel)",
   "language": "python",
   "name": "python3"
  },
  "language_info": {
   "codemirror_mode": {
    "name": "ipython",
    "version": 3
   },
   "file_extension": ".py",
   "mimetype": "text/x-python",
   "name": "python",
   "nbconvert_exporter": "python",
   "pygments_lexer": "ipython3",
   "version": "3.10.11"
  }
 },
 "nbformat": 4,
 "nbformat_minor": 5
}
