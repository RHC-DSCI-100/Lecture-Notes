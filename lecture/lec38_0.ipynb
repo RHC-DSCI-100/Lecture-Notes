{
 "cells": [
  {
   "cell_type": "code",
   "execution_count": 9,
   "id": "cell-lec38-0",
   "metadata": {},
   "outputs": [],
   "source": [
    "from datascience import *\n",
    "import numpy as np\n",
    "\n",
    "import matplotlib.pyplot as plots\n",
    "plots.style.use('fivethirtyeight')\n",
    "%matplotlib inline"
   ]
  },
  {
   "cell_type": "markdown",
   "id": "cell-lec38-1",
   "metadata": {},
   "source": [
    "## The Broste Thesis\n",
    "\n",
    "Steven Broste, and others, believed that they could prove that reducing cholesterol through dietary changes would decrease Chronic Heart Disease. \n",
    "\n",
    "Hypothesis: \n",
    "Replacing saturated fat (e.g. dairy) with polyunsaturated fat (e.g. plant-based oil) reduces risk of heart disease.\n",
    "\n",
    "Justification:\n",
    "* This replacement reduces serum cholesterol.\n",
    "* Serum cholesterol is associated with heart disease.\n",
    "* Clinical trials that used polyunsaturated fat to replace saturated fat reduced the incidence of CVD.\" (AHA, 2017). http://circ.ahajournals.org/content/early/2017/06/15/CIR.0000000000000510\n",
    "\n",
    "The data recovered from the Minnesota Coronary Experiment, including Steven Broste's analysis in his master's thesis, strongly challenges the traditional diet-heart hypothesis by demonstrating that reducing cholesterol through dietary changes may not be associated with a reduction in mortality and may even be associated with increased mortality in certain populations.\n",
    "\n",
    "Unique Opportunity: The data recovered from the Minnesota Coronary Experiment was based on changing the diet of 9423 people who institutionalized in state mental hospitals or nursing homes. This was a controlled population. \n",
    "* Control group: food was cooked in butter and served with butter, as usual.\n",
    "* Treatment group: food was cooked in vegetable oil and served with margarine (corn-based substitute)\n",
    "\n",
    "It was a double-blind study: neither the subjects nor the people delivering the treatment (food servers) knew which group the participants were in. \n"
   ]
  },
  {
   "cell_type": "code",
   "execution_count": 10,
   "id": "cell-lec38-2",
   "metadata": {},
   "outputs": [
    {
     "data": {
      "text/html": [
       "<table border=\"1\" class=\"dataframe\">\n",
       "    <thead>\n",
       "        <tr>\n",
       "            <th>Age</th> <th>Condition</th> <th>Total</th> <th>Deaths</th> <th>CHD Deaths</th>\n",
       "        </tr>\n",
       "    </thead>\n",
       "    <tbody>\n",
       "        <tr>\n",
       "            <td>0-34 </td> <td>Diet     </td> <td>1367 </td> <td>3     </td> <td>0         </td>\n",
       "        </tr>\n",
       "        <tr>\n",
       "            <td>35-44</td> <td>Diet     </td> <td>728  </td> <td>3     </td> <td>0         </td>\n",
       "        </tr>\n",
       "        <tr>\n",
       "            <td>45-54</td> <td>Diet     </td> <td>767  </td> <td>14    </td> <td>4         </td>\n",
       "        </tr>\n",
       "        <tr>\n",
       "            <td>55-64</td> <td>Diet     </td> <td>870  </td> <td>35    </td> <td>7         </td>\n",
       "        </tr>\n",
       "        <tr>\n",
       "            <td>65+  </td> <td>Diet     </td> <td>953  </td> <td>190   </td> <td>42        </td>\n",
       "        </tr>\n",
       "        <tr>\n",
       "            <td>0-34 </td> <td>Control  </td> <td>1337 </td> <td>7     </td> <td>1         </td>\n",
       "        </tr>\n",
       "        <tr>\n",
       "            <td>35-44</td> <td>Control  </td> <td>731  </td> <td>4     </td> <td>1         </td>\n",
       "        </tr>\n",
       "        <tr>\n",
       "            <td>45-54</td> <td>Control  </td> <td>816  </td> <td>16    </td> <td>4         </td>\n",
       "        </tr>\n",
       "        <tr>\n",
       "            <td>55-64</td> <td>Control  </td> <td>896  </td> <td>33    </td> <td>12        </td>\n",
       "        </tr>\n",
       "        <tr>\n",
       "            <td>65+  </td> <td>Control  </td> <td>958  </td> <td>162   </td> <td>34        </td>\n",
       "        </tr>\n",
       "    </tbody>\n",
       "</table>"
      ],
      "text/plain": [
       "Age   | Condition | Total | Deaths | CHD Deaths\n",
       "0-34  | Diet      | 1367  | 3      | 0\n",
       "35-44 | Diet      | 728   | 3      | 0\n",
       "45-54 | Diet      | 767   | 14     | 4\n",
       "55-64 | Diet      | 870   | 35     | 7\n",
       "65+   | Diet      | 953   | 190    | 42\n",
       "0-34  | Control   | 1337  | 7      | 1\n",
       "35-44 | Control   | 731   | 4      | 1\n",
       "45-54 | Control   | 816   | 16     | 4\n",
       "55-64 | Control   | 896   | 33     | 12\n",
       "65+   | Control   | 958   | 162    | 34"
      ]
     },
     "execution_count": 10,
     "metadata": {},
     "output_type": "execute_result"
    }
   ],
   "source": [
    "summary = Table(['Age', 'Condition', 'Total', 'Deaths', 'CHD Deaths']).with_rows([\n",
    "    ['0-34',  'Diet',    1367, 3, 0],\n",
    "    ['35-44', 'Diet',    728, 3, 0],\n",
    "    ['45-54', 'Diet',    767, 14, 4],\n",
    "    ['55-64', 'Diet',    870, 35, 7],\n",
    "    ['65+',   'Diet',    953, 190, 42],\n",
    "    ['0-34',  'Control', 1337, 7, 1],\n",
    "    ['35-44', 'Control', 731, 4, 1],\n",
    "    ['45-54', 'Control', 816, 16, 4],\n",
    "    ['55-64', 'Control', 896, 33, 12],\n",
    "    ['65+',   'Control', 958, 162, 34],   \n",
    "])\n",
    "summary"
   ]
  },
  {
   "cell_type": "code",
   "execution_count": 11,
   "id": "148f9667",
   "metadata": {},
   "outputs": [
    {
     "data": {
      "text/plain": [
       "9423"
      ]
     },
     "execution_count": 11,
     "metadata": {},
     "output_type": "execute_result"
    }
   ],
   "source": [
    "sum(summary.column('Total'))\n",
    "\n",
    "#Problem: We can't do a permutation test with a summary. We need one row for each individual. "
   ]
  },
  {
   "cell_type": "code",
   "execution_count": 12,
   "id": "cell-lec38-3",
   "metadata": {},
   "outputs": [
    {
     "data": {
      "text/plain": [
       "array([ True,  True,  True, False, False, False, False, False, False,\n",
       "       False, False, False], dtype=bool)"
      ]
     },
     "execution_count": 12,
     "metadata": {},
     "output_type": "execute_result"
    }
   ],
   "source": [
    "#We need to assign a death value based on the known proportion of deaths in a group. \n",
    "#We can use arange to create an array of true, false values. \n",
    "\n",
    "np.arange(12) < 3"
   ]
  },
  {
   "cell_type": "code",
   "execution_count": 13,
   "id": "cell-lec38-4",
   "metadata": {},
   "outputs": [
    {
     "data": {
      "text/html": [
       "<table border=\"1\" class=\"dataframe\">\n",
       "    <thead>\n",
       "        <tr>\n",
       "            <th>Age</th> <th>Condition</th> <th>Participated</th> <th>Died</th>\n",
       "        </tr>\n",
       "    </thead>\n",
       "    <tbody>\n",
       "        <tr>\n",
       "            <td>0-34</td> <td>Diet     </td> <td>True        </td> <td>True </td>\n",
       "        </tr>\n",
       "        <tr>\n",
       "            <td>0-34</td> <td>Diet     </td> <td>True        </td> <td>True </td>\n",
       "        </tr>\n",
       "        <tr>\n",
       "            <td>0-34</td> <td>Diet     </td> <td>True        </td> <td>True </td>\n",
       "        </tr>\n",
       "        <tr>\n",
       "            <td>0-34</td> <td>Diet     </td> <td>True        </td> <td>False</td>\n",
       "        </tr>\n",
       "        <tr>\n",
       "            <td>0-34</td> <td>Diet     </td> <td>True        </td> <td>False</td>\n",
       "        </tr>\n",
       "        <tr>\n",
       "            <td>0-34</td> <td>Diet     </td> <td>True        </td> <td>False</td>\n",
       "        </tr>\n",
       "        <tr>\n",
       "            <td>0-34</td> <td>Diet     </td> <td>True        </td> <td>False</td>\n",
       "        </tr>\n",
       "        <tr>\n",
       "            <td>0-34</td> <td>Diet     </td> <td>True        </td> <td>False</td>\n",
       "        </tr>\n",
       "        <tr>\n",
       "            <td>0-34</td> <td>Diet     </td> <td>True        </td> <td>False</td>\n",
       "        </tr>\n",
       "        <tr>\n",
       "            <td>0-34</td> <td>Diet     </td> <td>True        </td> <td>False</td>\n",
       "        </tr>\n",
       "    </tbody>\n",
       "</table>\n",
       "<p>... (9413 rows omitted)</p>"
      ],
      "text/plain": [
       "Age  | Condition | Participated | Died\n",
       "0-34 | Diet      | True         | True\n",
       "0-34 | Diet      | True         | True\n",
       "0-34 | Diet      | True         | True\n",
       "0-34 | Diet      | True         | False\n",
       "0-34 | Diet      | True         | False\n",
       "0-34 | Diet      | True         | False\n",
       "0-34 | Diet      | True         | False\n",
       "0-34 | Diet      | True         | False\n",
       "0-34 | Diet      | True         | False\n",
       "0-34 | Diet      | True         | False\n",
       "... (9413 rows omitted)"
      ]
     },
     "execution_count": 13,
     "metadata": {},
     "output_type": "execute_result"
    }
   ],
   "source": [
    "#We use that arange command to create an array of deaths (True) based on the number who died in that age group. \n",
    "#Can you find the use of the array and how it assigns the correct value for True's in the code belows?\n",
    "\n",
    "subjects = Table(['Age', 'Condition', 'Participated', 'Died'])\n",
    "for row in summary.rows:\n",
    "    i = np.arange(0, row.item('Total'))\n",
    "    t = Table().with_columns('Died', i < row.item('Deaths'))\n",
    "    t.append_column('Age', row.item('Age'))\n",
    "    t.append_column('Condition', row.item('Condition'))\n",
    "    t.append_column('Participated', True) #Since everyone participated. \n",
    "    subjects.append(t)\n",
    "subjects"
   ]
  },
  {
   "cell_type": "code",
   "execution_count": 14,
   "id": "cell-lec38-5",
   "metadata": {},
   "outputs": [
    {
     "data": {
      "text/html": [
       "<table border=\"1\" class=\"dataframe\">\n",
       "    <thead>\n",
       "        <tr>\n",
       "            <th>Age</th> <th>Condition</th> <th>Participated sum</th> <th>Died sum</th>\n",
       "        </tr>\n",
       "    </thead>\n",
       "    <tbody>\n",
       "        <tr>\n",
       "            <td>0-34 </td> <td>Control  </td> <td>1337            </td> <td>7       </td>\n",
       "        </tr>\n",
       "        <tr>\n",
       "            <td>0-34 </td> <td>Diet     </td> <td>1367            </td> <td>3       </td>\n",
       "        </tr>\n",
       "        <tr>\n",
       "            <td>35-44</td> <td>Control  </td> <td>731             </td> <td>4       </td>\n",
       "        </tr>\n",
       "        <tr>\n",
       "            <td>35-44</td> <td>Diet     </td> <td>728             </td> <td>3       </td>\n",
       "        </tr>\n",
       "        <tr>\n",
       "            <td>45-54</td> <td>Control  </td> <td>816             </td> <td>16      </td>\n",
       "        </tr>\n",
       "        <tr>\n",
       "            <td>45-54</td> <td>Diet     </td> <td>767             </td> <td>14      </td>\n",
       "        </tr>\n",
       "        <tr>\n",
       "            <td>55-64</td> <td>Control  </td> <td>896             </td> <td>33      </td>\n",
       "        </tr>\n",
       "        <tr>\n",
       "            <td>55-64</td> <td>Diet     </td> <td>870             </td> <td>35      </td>\n",
       "        </tr>\n",
       "        <tr>\n",
       "            <td>65+  </td> <td>Control  </td> <td>958             </td> <td>162     </td>\n",
       "        </tr>\n",
       "        <tr>\n",
       "            <td>65+  </td> <td>Diet     </td> <td>953             </td> <td>190     </td>\n",
       "        </tr>\n",
       "    </tbody>\n",
       "</table>"
      ],
      "text/plain": [
       "Age   | Condition | Participated sum | Died sum\n",
       "0-34  | Control   | 1337             | 7\n",
       "0-34  | Diet      | 1367             | 3\n",
       "35-44 | Control   | 731              | 4\n",
       "35-44 | Diet      | 728              | 3\n",
       "45-54 | Control   | 816              | 16\n",
       "45-54 | Diet      | 767              | 14\n",
       "55-64 | Control   | 896              | 33\n",
       "55-64 | Diet      | 870              | 35\n",
       "65+   | Control   | 958              | 162\n",
       "65+   | Diet      | 953              | 190"
      ]
     },
     "execution_count": 14,
     "metadata": {},
     "output_type": "execute_result"
    }
   ],
   "source": [
    "#Does the summary of the newly created table match the original information. \n",
    "\n",
    "subjects.group(['Age', 'Condition'], sum)"
   ]
  },
  {
   "cell_type": "markdown",
   "id": "02060860",
   "metadata": {},
   "source": [
    "Now we can conduct an A/B Test.\n",
    "\n",
    "First check the difference between the death rates of people on the dieat and control group. </br>\n",
    "Next radomize the Condition assignment then check that difference again. "
   ]
  },
  {
   "cell_type": "code",
   "execution_count": 15,
   "id": "cell-lec38-6",
   "metadata": {},
   "outputs": [
    {
     "data": {
      "text/plain": [
       "0.0054393439270044933"
      ]
     },
     "execution_count": 15,
     "metadata": {},
     "output_type": "execute_result"
    }
   ],
   "source": [
    "#Choose your statistic.\n",
    "#We want the difference between those who died in each group. \n",
    "\n",
    "def hazard_rate(counts):\n",
    "    return counts.item('Died sum') / counts.item('Participated sum')\n",
    "\n",
    "def rate_difference(t):\n",
    "    counts = t.drop('Age').group('Condition', sum)\n",
    "    return abs(hazard_rate(counts.row(1)) - hazard_rate(counts.row(0)))\n",
    "\n",
    "rate_difference(subjects)"
   ]
  },
  {
   "cell_type": "code",
   "execution_count": 16,
   "id": "cell-lec38-7",
   "metadata": {},
   "outputs": [
    {
     "data": {
      "text/plain": [
       "0.0030410154080667343"
      ]
     },
     "execution_count": 16,
     "metadata": {},
     "output_type": "execute_result"
    }
   ],
   "source": [
    "#Check difference for the youngest subjects.\n",
    "\n",
    "rate_difference(subjects.where('Age', '0-34'))"
   ]
  },
  {
   "cell_type": "code",
   "execution_count": 17,
   "id": "cell-lec38-8",
   "metadata": {},
   "outputs": [
    {
     "data": {
      "text/plain": [
       "0.030268112783058437"
      ]
     },
     "execution_count": 17,
     "metadata": {},
     "output_type": "execute_result"
    }
   ],
   "source": [
    "#Check difference for the oldest subjects. \n",
    "\n",
    "rate_difference(subjects.where('Age', '65+'))"
   ]
  },
  {
   "cell_type": "markdown",
   "id": "b7741a80",
   "metadata": {},
   "source": [
    "### Run a Hypothesis Test\n",
    "\n",
    "Compute the observed absolute difference in hazard rates, for each age group, between the Control and Diet groups. \n",
    "\n",
    "Then compute the p-value to determine if that difference is by chance or not. \n"
   ]
  },
  {
   "cell_type": "code",
   "execution_count": 18,
   "id": "cell-lec38-9",
   "metadata": {},
   "outputs": [],
   "source": [
    "def test(t):\n",
    "    observed = rate_difference(t)\n",
    "    repetitions = 200\n",
    "\n",
    "    stats = make_array()\n",
    "    for i in np.arange(repetitions):\n",
    "        simulated_results = t.select('Died').sample().column('Died')\n",
    "        simulated_outcomes = t.with_column('Died', simulated_results)\n",
    "        simulated_stat = rate_difference(simulated_outcomes)\n",
    "        stats = np.append(stats, simulated_stat)\n",
    "\n",
    "    # Find the empirical P-value:\n",
    "    p = np.count_nonzero(stats >= observed) / repetitions\n",
    "    \n",
    "    print('Observed absolute difference in hazard rates:', observed)\n",
    "    print('P-value:', p)\n",
    "\n",
    "#test(subjects)"
   ]
  },
  {
   "cell_type": "code",
   "execution_count": 19,
   "id": "cell-lec38-10",
   "metadata": {},
   "outputs": [
    {
     "name": "stdout",
     "output_type": "stream",
     "text": [
      "Ages 0-34\n",
      "Observed absolute difference in hazard rates: 0.00304101540807\n",
      "P-value: 0.19\n",
      "Ages 35-44\n",
      "Observed absolute difference in hazard rates: 0.00135107710347\n",
      "P-value: 0.78\n",
      "Ages 45-54\n",
      "Observed absolute difference in hazard rates: 0.00135490963008\n",
      "P-value: 0.83\n",
      "Ages 55-64\n",
      "Observed absolute difference in hazard rates: 0.00339952791461\n",
      "P-value: 0.765\n",
      "Ages 65+\n",
      "Observed absolute difference in hazard rates: 0.0302681127831\n",
      "P-value: 0.145\n"
     ]
    }
   ],
   "source": [
    "for age in subjects.group('Age').column('Age'):\n",
    "    print('Ages', age)\n",
    "    test(subjects.where('Age', age))"
   ]
  },
  {
   "cell_type": "markdown",
   "id": "8baf0086",
   "metadata": {},
   "source": [
    "Only the oldest group has a p-value that may make us want to do the experiment again to see if we could get a smaller p-value. All the other groups have values clearly in excess of any p-value cutoff. \n",
    "\n",
    "### Conclusion\n",
    "Replacement of saturated fat in the diet with linoleic acid effectively lowers serum cholesterol but does not support the hypothesis that this translates to a lower risk of death from coronary heart disease or all causes. Findings from the Minnesota Coronary Experiment add to growing evidence that incomplete publication has contributed to overestimation of the benefits of replacing saturated fat with vegetable oils rich in linoleic acid."
   ]
  },
  {
   "cell_type": "code",
   "execution_count": null,
   "id": "b2b748d1",
   "metadata": {},
   "outputs": [],
   "source": []
  }
 ],
 "metadata": {
  "kernelspec": {
   "display_name": "Python 3 (ipykernel)",
   "language": "python",
   "name": "python3"
  },
  "language_info": {
   "codemirror_mode": {
    "name": "ipython",
    "version": 3
   },
   "file_extension": ".py",
   "mimetype": "text/x-python",
   "name": "python",
   "nbconvert_exporter": "python",
   "pygments_lexer": "ipython3",
   "version": "3.10.11"
  }
 },
 "nbformat": 4,
 "nbformat_minor": 5
}
