{
 "cells": [
  {
   "cell_type": "code",
   "execution_count": null,
   "id": "cell-lec12-0",
   "metadata": {},
   "outputs": [],
   "source": [
    "from datascience import *\n",
    "%matplotlib inline\n",
    "path_data = '../../../assets/data/'\n",
    "import matplotlib.pyplot as plt\n",
    "plt.style.use('fivethirtyeight')\n",
    "import numpy as np\n",
    "import warnings\n",
    "warnings.simplefilter(action='ignore', category=DeprecationWarning)\n"
   ]
  },
  {
   "cell_type": "markdown",
   "id": "cell-lec12-1",
   "metadata": {},
   "source": [
    "## Lecture 12 ##"
   ]
  },
  {
   "cell_type": "markdown",
   "id": "cell-lec12-3",
   "metadata": {},
   "source": [
    "## A Join Example ##"
   ]
  },
  {
   "cell_type": "code",
   "execution_count": null,
   "id": "cell-lec12-4",
   "metadata": {},
   "outputs": [],
   "source": [
    "full = Table.read_table('nc-est2019-agesex-res.csv')\n",
    "census = full.select('SEX', 'AGE', 'POPESTIMATE2019')\n",
    "census.show(3)"
   ]
  },
  {
   "cell_type": "code",
   "execution_count": null,
   "id": "cell-lec12-5",
   "metadata": {},
   "outputs": [],
   "source": [
    "sex_codes = Table().with_columns(\n",
    "    'SEX CODE', make_array(0, 1, 2),\n",
    "    'CODE DEFINITION', make_array('All', 'Selected Male', 'Selected Female')\n",
    ")\n",
    "sex_codes"
   ]
  },
  {
   "cell_type": "code",
   "execution_count": null,
   "id": "cell-lec12-6",
   "metadata": {},
   "outputs": [],
   "source": [
    "sex_codes.join('SEX CODE', census, 'SEX').sort('AGE').show(3)"
   ]
  },
  {
   "cell_type": "markdown",
   "id": "cell-lec12-7",
   "metadata": {},
   "source": [
    "## Bike Sharing ##\n",
    "Describe the incoming data set\n",
    "\n",
    "Note: Duration is in seconds. "
   ]
  },
  {
   "cell_type": "code",
   "execution_count": null,
   "id": "cell-lec12-8",
   "metadata": {},
   "outputs": [],
   "source": [
    "trip = Table.read_table('trip.csv')\n",
    "trip.show(15)"
   ]
  },
  {
   "cell_type": "markdown",
   "id": "cell-lec12-9",
   "metadata": {},
   "source": [
    "## Distribution of Durations ##"
   ]
  },
  {
   "cell_type": "code",
   "execution_count": null,
   "id": "cell-lec12-10",
   "metadata": {},
   "outputs": [],
   "source": [
    "trip.hist('Duration')"
   ]
  },
  {
   "cell_type": "markdown",
   "id": "a2160a69-3b93-4098-add3-61125ff0af7e",
   "metadata": {},
   "source": [
    "Review the horizontal axis. Any guesses as to why the values are so high?\n",
    "\n",
    "Let's check the data..."
   ]
  },
  {
   "cell_type": "code",
   "execution_count": null,
   "id": "cell-lec12-11",
   "metadata": {},
   "outputs": [],
   "source": [
    "trip.sort('Duration', descending=True)"
   ]
  },
  {
   "cell_type": "markdown",
   "id": "b71e00f1-ab83-45ff-8b98-9572ed11da6f",
   "metadata": {},
   "source": [
    "What could have caused those high duration values? (Remember, duration is in seconds.)\n",
    "\n",
    "\n",
    "Let's limit the duration to a realistic value. \n",
    "Check the limit below, what is that in minutes?"
   ]
  },
  {
   "cell_type": "code",
   "execution_count": null,
   "id": "cell-lec12-12",
   "metadata": {},
   "outputs": [],
   "source": [
    "commute = trip.where('Duration', are.below(1800))\n",
    "commute.hist('Duration')"
   ]
  },
  {
   "cell_type": "markdown",
   "id": "99fd4454-32c4-449e-9a1a-ee22b253ed2e",
   "metadata": {},
   "source": [
    "Describe the shape of the histogram.\n",
    "\n",
    "What does that tell us about the data?"
   ]
  },
  {
   "cell_type": "code",
   "execution_count": null,
   "id": "cell-lec12-13",
   "metadata": {},
   "outputs": [],
   "source": [
    "commute.hist('Duration', bins=np.arange(0, 1800, 250), unit='Second')"
   ]
  },
  {
   "cell_type": "markdown",
   "id": "b1d39fe2-013e-49d2-8893-1e444572fed2",
   "metadata": {},
   "source": [
    "The histogram above is the same data as the previous histogram but displayed differently.\n",
    "What was changed and how was it changed?\n",
    "\n",
    "Which view do you prefer and why?"
   ]
  },
  {
   "cell_type": "code",
   "execution_count": null,
   "id": "cell-lec12-14",
   "metadata": {},
   "outputs": [],
   "source": [
    "# Approx percent of people who have # a ride duration between 250 and 500 seconds\n",
    "# \"between\" = [250, 500) \n",
    "# Recall: The area of the histogram bar gives on the percent of people. \n",
    "# (since the vertical axis is the percent per second)\n",
    "\n",
    "(500-250) * 0.15 "
   ]
  },
  {
   "cell_type": "code",
   "execution_count": null,
   "id": "cell-lec12-15",
   "metadata": {},
   "outputs": [],
   "source": [
    "# Determine how many commutes were in the 250 to 500 category.\n",
    "\n",
    "count_250 = commute.where('Duration', are.between(250, 500)).num_rows\n",
    "count_250"
   ]
  },
  {
   "cell_type": "code",
   "execution_count": null,
   "id": "cell-lec12-16",
   "metadata": {},
   "outputs": [],
   "source": [
    "# Determine the total number of commutes recorded in this sample.\n",
    "\n",
    "total_commutes = commute.num_rows\n",
    "total_commutes"
   ]
  },
  {
   "cell_type": "code",
   "execution_count": null,
   "id": "cell-lec12-17",
   "metadata": {},
   "outputs": [],
   "source": [
    "# Determine the decimal value of that ratio. \n",
    "# How close is it to the histograms display?\n",
    "count_250 / total_commutes"
   ]
  },
  {
   "cell_type": "code",
   "execution_count": null,
   "id": "cell-lec12-18",
   "metadata": {},
   "outputs": [],
   "source": [
    "commute.hist('Duration', bins=np.arange(0, 1800, 250), unit='Second')"
   ]
  },
  {
   "cell_type": "code",
   "execution_count": null,
   "id": "cell-lec12-19",
   "metadata": {},
   "outputs": [],
   "source": [
    "commute.hist('Duration', bins=60, unit='Second')"
   ]
  },
  {
   "cell_type": "markdown",
   "id": "b0c1704e-eb19-4427-af75-20646e837f8e",
   "metadata": {},
   "source": [
    "Describe the new histogram.\n",
    "\n",
    "What changed?\n",
    "\n",
    "Which display of the three would you prefer to view to interpret this data set? Why?"
   ]
  },
  {
   "cell_type": "markdown",
   "id": "cell-lec12-20",
   "metadata": {},
   "source": [
    "## Start and End Stations ##"
   ]
  },
  {
   "cell_type": "code",
   "execution_count": null,
   "id": "cell-lec12-21",
   "metadata": {},
   "outputs": [],
   "source": [
    "# Most common start station\n",
    "\n",
    "starts = commute.group('Start Station').sort('count', descending=True)\n",
    "starts"
   ]
  },
  {
   "cell_type": "code",
   "execution_count": null,
   "id": "cell-lec12-22",
   "metadata": {},
   "outputs": [],
   "source": [
    "# Numbers of trips between stations\n",
    "\n",
    "commute.pivot('Start Station', 'End Station')"
   ]
  },
  {
   "cell_type": "markdown",
   "id": "f867a376-fb09-4e1f-ac3c-6260e9c704aa",
   "metadata": {},
   "source": [
    "How do you read the above table?\n",
    "\n"
   ]
  },
  {
   "cell_type": "code",
   "execution_count": null,
   "id": "cell-lec12-23",
   "metadata": {},
   "outputs": [],
   "source": [
    "# Average durations of trips between stations\n",
    "\n",
    "commute.pivot('Start Station', 'End Station', values='Duration', collect=np.average)"
   ]
  },
  {
   "cell_type": "markdown",
   "id": "ce6e56f4-ea78-4cb4-a906-98439f6101f2",
   "metadata": {},
   "source": [
    "Decribe the difference between the two tables above.\n",
    "\n",
    "What observations can be made from the different tables. \n"
   ]
  },
  {
   "cell_type": "markdown",
   "id": "cell-lec12-24",
   "metadata": {},
   "source": [
    "## Fastest Trips between Stations ##"
   ]
  },
  {
   "cell_type": "markdown",
   "id": "cell-lec12-25",
   "metadata": {},
   "source": [
    "How can we find the fastest trip ever between each pair of stations?\n",
    "\n",
    "Start by creating a new table to display the information we need to answer this question."
   ]
  },
  {
   "cell_type": "code",
   "execution_count": null,
   "id": "cell-lec12-26",
   "metadata": {},
   "outputs": [],
   "source": [
    "duration = trip.select('Start Station', 'End Station', 'Duration')\n",
    "duration"
   ]
  },
  {
   "cell_type": "code",
   "execution_count": null,
   "id": "cell-lec12-27",
   "metadata": {},
   "outputs": [],
   "source": [
    "shortest = duration.group(['Start Station', 'End Station'], min)\n",
    "shortest.show(5)"
   ]
  },
  {
   "cell_type": "markdown",
   "id": "4bc99c35-4f8d-43a5-b5a0-a880f20840a4",
   "metadata": {},
   "source": [
    "What do you notice about the fastest (or shortest) duration stations?)"
   ]
  },
  {
   "cell_type": "markdown",
   "id": "cell-lec12-28",
   "metadata": {},
   "source": [
    "## Discussion question"
   ]
  },
  {
   "cell_type": "markdown",
   "id": "cell-lec12-29",
   "metadata": {},
   "source": [
    "Find the 5 stations closest to Civic Center BART by minimum trip time."
   ]
  },
  {
   "cell_type": "code",
   "execution_count": null,
   "id": "cell-lec12-30",
   "metadata": {},
   "outputs": [],
   "source": [
    "# Complete the code\n",
    "from_cc = \n",
    "\n",
    "from_cc.take(np.arange(5))"
   ]
  },
  {
   "cell_type": "markdown",
   "id": "cell-lec12-31",
   "metadata": {},
   "source": [
    "## Maps ##\n",
    "\n",
    "We can also create map displays if we have enough location data."
   ]
  },
  {
   "cell_type": "code",
   "execution_count": null,
   "id": "cell-lec12-32",
   "metadata": {},
   "outputs": [],
   "source": [
    "# Geographical data on the stations\n",
    "stations = Table.read_table('station.csv').drop(4, 6)\n",
    "stations"
   ]
  },
  {
   "cell_type": "code",
   "execution_count": null,
   "id": "cell-lec12-33",
   "metadata": {},
   "outputs": [],
   "source": [
    "# Create a new table that does what?\n",
    "\n",
    "sf_stations = stations.where('landmark', are.equal_to('San Francisco'))\n",
    "sf_stations_map_data = (sf_stations\n",
    " .select('lat', 'long', 'name')\n",
    " .relabeled('name', 'labels'))\n",
    "sf_stations_map_data.show(3)"
   ]
  },
  {
   "cell_type": "code",
   "execution_count": null,
   "id": "cell-lec12-34",
   "metadata": {},
   "outputs": [],
   "source": [
    "# Display the data as markers on a map.\n",
    "\n",
    "Marker.map_table(sf_stations_map_data)"
   ]
  },
  {
   "cell_type": "code",
   "execution_count": null,
   "id": "cell-lec12-35",
   "metadata": {},
   "outputs": [],
   "source": [
    "# Display the data as circles on the map. \n",
    "Circle.map_table(sf_stations_map_data)"
   ]
  },
  {
   "cell_type": "markdown",
   "id": "cell-lec12-36",
   "metadata": {},
   "source": [
    "### Discussion question"
   ]
  },
  {
   "cell_type": "markdown",
   "id": "cell-lec12-37",
   "metadata": {},
   "source": [
    "Map all stations within 4 minutes (minimum ride time) of Civic Center."
   ]
  },
  {
   "cell_type": "code",
   "execution_count": null,
   "id": "cell-lec12-38",
   "metadata": {},
   "outputs": [],
   "source": [
    "from_cc.show(3)"
   ]
  },
  {
   "cell_type": "code",
   "execution_count": null,
   "id": "cell-lec12-39",
   "metadata": {},
   "outputs": [],
   "source": [
    "sf_stations_map_data.show(3)"
   ]
  },
  {
   "cell_type": "code",
   "execution_count": null,
   "id": "cell-lec12-40",
   "metadata": {},
   "outputs": [],
   "source": [
    "#Complete the code\n",
    "close_cc = from_cc.where('Duration min', are.below(4 * 60))\n",
    "close_markers = (\n",
    "    sf_stations_map_data\n",
    "        .join('labels',close_cc, 'End Station')\n",
    "        .select('lat','long','labels'))\n",
    "#close_markers\n",
    "\n",
    "Marker.map_table(close_markers)"
   ]
  },
  {
   "cell_type": "markdown",
   "id": "a823ad56-2d1d-4adb-9b36-7af02bbfdaba",
   "metadata": {},
   "source": [
    "What does the map above display?\n"
   ]
  },
  {
   "cell_type": "markdown",
   "id": "cell-lec12-41",
   "metadata": {},
   "source": [
    "Choose marker colors by the minimum time from Civic Center"
   ]
  },
  {
   "cell_type": "code",
   "execution_count": null,
   "id": "cell-lec12-42",
   "metadata": {},
   "outputs": [],
   "source": [
    "minutes = np.round(from_cc.column(\"Duration min\") / 60)\n",
    "print(min(minutes), max(minutes))"
   ]
  },
  {
   "cell_type": "code",
   "execution_count": null,
   "id": "cell-lec12-43",
   "metadata": {},
   "outputs": [],
   "source": [
    "colors = Table().with_columns(\n",
    "    \"minutes\", np.arange(15),\n",
    "    \"colors\",  [\"darkblue\", \"blue\", \"lightblue\", \n",
    "                \"darkgreen\", \"green\", \"lightgreen\",\n",
    "                \"orange\", \"darkred\", \"red\",\n",
    "                \"gray\", \"gray\", \"gray\", \n",
    "                \"gray\", \"gray\", \"gray\"])\n",
    "colors_cc = (from_cc\n",
    " .with_column(\"Minutes\", minutes)\n",
    " .join(\"Minutes\", colors, \"minutes\"))\n",
    "\n",
    "colored_markers = (sf_stations_map_data\n",
    "      .join('labels', colors_cc, 'End Station')\n",
    "      .select('lat', 'long', 'labels', 'colors'))\n",
    "Marker.map_table(colored_markers)"
   ]
  },
  {
   "cell_type": "markdown",
   "id": "7a8e172f-059e-42c3-95b5-58fb6246460e",
   "metadata": {},
   "source": [
    "There is a lot of code in the last block. What is happening in the code?\n",
    "\n",
    "What is the output final display showing?\n",
    "\n",
    "Use join to create a new table below. What is being joined?\n",
    "\n",
    "What does the \"count\" column represent?\n"
   ]
  },
  {
   "cell_type": "code",
   "execution_count": null,
   "id": "cell-lec12-44",
   "metadata": {},
   "outputs": [],
   "source": [
    "station_starts = stations.join('name', starts, 'Start Station')\n",
    "station_starts.show(3)"
   ]
  },
  {
   "cell_type": "code",
   "execution_count": null,
   "id": "cell-lec12-45",
   "metadata": {},
   "outputs": [],
   "source": [
    "sf_starts = station_starts.relabeled(\n",
    "    'name', 'labels').where('landmark', 'San Francisco')\n",
    "sf_starts"
   ]
  },
  {
   "cell_type": "code",
   "execution_count": null,
   "id": "cell-lec12-46",
   "metadata": {},
   "outputs": [],
   "source": [
    "sf_starts_map_data = sf_starts.select('lat', 'long', 'labels').with_columns(\n",
    "    'colors', 'blue',\n",
    "    'areas', sf_starts.column('count') / 10\n",
    ")\n",
    "sf_starts_map_data.show(5)"
   ]
  },
  {
   "cell_type": "code",
   "execution_count": null,
   "id": "cell-lec12-47",
   "metadata": {},
   "outputs": [],
   "source": [
    "Circle.map_table(sf_starts_map_data)"
   ]
  },
  {
   "cell_type": "markdown",
   "id": "3bb424c6-d4f8-4883-a554-5ad6fb38ea3a",
   "metadata": {},
   "source": [
    "Why are the circles different sizes?\n",
    "\n",
    "Can you find the smallest circle? Display the table data differently to identify which station that is. \n",
    "Why does that location have the smallest circle?\n"
   ]
  },
  {
   "cell_type": "code",
   "execution_count": null,
   "id": "f66e5031-7edb-486d-bf2d-14ed498ac6fd",
   "metadata": {},
   "outputs": [],
   "source": []
  }
 ],
 "metadata": {
  "kernelspec": {
   "display_name": "Python 3 (ipykernel)",
   "language": "python",
   "name": "python3"
  },
  "language_info": {
   "codemirror_mode": {
    "name": "ipython",
    "version": 3
   },
   "file_extension": ".py",
   "mimetype": "text/x-python",
   "name": "python",
   "nbconvert_exporter": "python",
   "pygments_lexer": "ipython3",
   "version": "3.11.13"
  }
 },
 "nbformat": 4,
 "nbformat_minor": 5
}
