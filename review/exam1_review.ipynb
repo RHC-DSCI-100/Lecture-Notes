{
 "cells": [
  {
   "cell_type": "code",
   "execution_count": null,
   "id": "c16b14d4",
   "metadata": {},
   "outputs": [],
   "source": [
    "from datascience import *\n",
    "import numpy as np\n",
    "\n",
    "%matplotlib inline\n",
    "import matplotlib.pyplot as plots\n",
    "plots.style.use('fivethirtyeight')"
   ]
  },
  {
   "cell_type": "code",
   "execution_count": null,
   "id": "2e95f0e5",
   "metadata": {},
   "outputs": [],
   "source": [
    "rhc = Table.read_table('RHC-Baseball-2023-2024.csv')\n",
    "rhc"
   ]
  },
  {
   "cell_type": "code",
   "execution_count": null,
   "id": "bba9d0a0",
   "metadata": {},
   "outputs": [],
   "source": [
    "# Who has the most games played?\n"
   ]
  },
  {
   "cell_type": "code",
   "execution_count": null,
   "id": "4bf7ff76",
   "metadata": {},
   "outputs": [],
   "source": [
    "# Who has played the fewest games?\n"
   ]
  },
  {
   "cell_type": "code",
   "execution_count": null,
   "id": "f4b08ecd",
   "metadata": {},
   "outputs": [],
   "source": [
    "# What is the batting average for each player? Hint, create a function and apply it.\n"
   ]
  },
  {
   "cell_type": "code",
   "execution_count": null,
   "id": "51981a7d",
   "metadata": {},
   "outputs": [],
   "source": [
    "# What is the on base percentage for each player?\n"
   ]
  },
  {
   "cell_type": "code",
   "execution_count": null,
   "id": "a7ad0e85",
   "metadata": {},
   "outputs": [],
   "source": [
    "# Write a scatter plot to show the number of At Bats vs Hit\n",
    "\n"
   ]
  },
  {
   "cell_type": "code",
   "execution_count": null,
   "id": "d44ba70c",
   "metadata": {},
   "outputs": [],
   "source": [
    "# Using the At Bat column, create a histogram of the column data\n"
   ]
  },
  {
   "cell_type": "code",
   "execution_count": null,
   "id": "09e1ba87",
   "metadata": {},
   "outputs": [],
   "source": []
  }
 ],
 "metadata": {
  "kernelspec": {
   "display_name": "Python 3 (ipykernel)",
   "language": "python",
   "name": "python3"
  },
  "language_info": {
   "codemirror_mode": {
    "name": "ipython",
    "version": 3
   },
   "file_extension": ".py",
   "mimetype": "text/x-python",
   "name": "python",
   "nbconvert_exporter": "python",
   "pygments_lexer": "ipython3",
   "version": "3.10.11"
  }
 },
 "nbformat": 4,
 "nbformat_minor": 5
}
