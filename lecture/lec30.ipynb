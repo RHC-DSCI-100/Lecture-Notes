{
 "cells": [
  {
   "cell_type": "code",
   "execution_count": null,
   "id": "cell-lec30-0",
   "metadata": {},
   "outputs": [],
   "source": [
    "import matplotlib\n",
    "from datascience import *\n",
    "%matplotlib inline\n",
    "import matplotlib.pyplot as plots\n",
    "import numpy as np\n",
    "plots.style.use('fivethirtyeight')"
   ]
  },
  {
   "cell_type": "code",
   "execution_count": null,
   "id": "cell-lec30-1",
   "metadata": {},
   "outputs": [],
   "source": [
    "# Some functions for plotting. You don't have to understand how any\n",
    "# of the functions in this cell work, since they use things we \n",
    "# haven't learned about in DSCI 100.\n",
    "\n",
    "\n",
    "def resize_window(lim=3.5):\n",
    "    plots.xlim(-lim, lim)\n",
    "    plots.ylim(-lim, lim)\n",
    "    \n",
    "def draw_line(slope=0, intercept=0, x=make_array(-4, 4), color='#1e90ff'):\n",
    "    y = x*slope + intercept\n",
    "    plots.plot(x, y, color=color, lw=3)\n",
    "    \n",
    "def draw_vertical_line(x_position, color='black'):\n",
    "    x = make_array(x_position, x_position)\n",
    "    y = make_array(-4, 4)\n",
    "    plots.plot(x, y, color=color, lw=3)\n",
    "    \n",
    "def make_correlated_data(r):\n",
    "    \"Make up data for analysis\"\n",
    "    x = np.random.normal(0, 1, 1000)\n",
    "    z = np.random.normal(0, 1, 1000)\n",
    "    y = r*x + (np.sqrt(1-r**2))*z\n",
    "    return x, y\n",
    "\n",
    "def r_scatter(r):\n",
    "    \"\"\"Generate a scatter plot with a correlation approximately r\"\"\"\n",
    "    plots.figure(figsize=(5,5))\n",
    "    x, y = make_correlated_data(r)\n",
    "    plots.scatter(x, y, color='darkblue', s=20)\n",
    "    plots.xlim(-4, 4)\n",
    "    plots.ylim(-4, 4)\n",
    "    \n",
    "def r_table(r):\n",
    "    \"\"\"\n",
    "    Generate a table of 1000 data points with a correlation approximately r\n",
    "    \"\"\"\n",
    "    np.random.seed(8)\n",
    "    x, y = make_correlated_data(r)\n",
    "    return Table().with_columns('x', x, 'y', y)"
   ]
  },
  {
   "cell_type": "markdown",
   "id": "cell-lec30-2",
   "metadata": {},
   "source": [
    "# Lecture 30 Linear Regression"
   ]
  },
  {
   "cell_type": "markdown",
   "id": "395f9b3a",
   "metadata": {},
   "source": [
    "### Interpreting Relationships\n",
    "Functions from lecture 29."
   ]
  },
  {
   "cell_type": "code",
   "execution_count": null,
   "id": "cell-lec30-3",
   "metadata": {},
   "outputs": [],
   "source": [
    "def standard_units(x):\n",
    "    \"Convert any array of numbers to standard units.\"\n",
    "    return (x - np.average(x)) / np.std(x)"
   ]
  },
  {
   "cell_type": "code",
   "execution_count": null,
   "id": "cell-lec30-4",
   "metadata": {},
   "outputs": [],
   "source": [
    "def correlation(t, x, y):\n",
    "    \"\"\"t is a table; x and y are column labels\"\"\"\n",
    "    x_in_standard_units = standard_units(t.column(x))\n",
    "    y_in_standard_units = standard_units(t.column(y))\n",
    "    return np.average(x_in_standard_units * y_in_standard_units)"
   ]
  },
  {
   "cell_type": "markdown",
   "id": "cell-lec30-11",
   "metadata": {},
   "source": [
    "### Nonlinearity\n",
    "\n",
    "Some relationships are not linear so r is not a helpful measurement in establishing the strength of that relationship. "
   ]
  },
  {
   "cell_type": "code",
   "execution_count": null,
   "id": "cell-lec30-12",
   "metadata": {},
   "outputs": [],
   "source": [
    "new_x = np.arange(-4, 4.1, 0.5)\n",
    "nonlinear = Table().with_columns(\n",
    "        'x', new_x,\n",
    "        'y', new_x**2\n",
    "    )\n",
    "nonlinear.scatter('x', 'y', s=30, color='r')"
   ]
  },
  {
   "cell_type": "code",
   "execution_count": null,
   "id": "cell-lec30-13",
   "metadata": {},
   "outputs": [],
   "source": [
    "#Since the relationship is not linear, r makes it appear as if there is no relationship. \n",
    "#There is obviously a pattern so r is not helpful.\n",
    "\n",
    "correlation(nonlinear, 'x', 'y')"
   ]
  },
  {
   "cell_type": "markdown",
   "id": "cell-lec30-14",
   "metadata": {},
   "source": [
    "### Outliers\n",
    "\n",
    "Outliers are individual data points that lie way outside reasonable values. </br>\n",
    "These can cause r to show no relationship when there is one or a strong relationship when it's weak. \n"
   ]
  },
  {
   "cell_type": "code",
   "execution_count": null,
   "id": "cell-lec30-15",
   "metadata": {},
   "outputs": [],
   "source": [
    "#Example scatter with a very linear relationship. \n",
    "line = Table().with_columns(\n",
    "        'x', make_array(1, 2, 3, 4),\n",
    "        'y', make_array(1, 2, 3, 4)\n",
    "    )\n",
    "line.scatter('x', 'y', s=30, color='r')"
   ]
  },
  {
   "cell_type": "code",
   "execution_count": null,
   "id": "cell-lec30-16",
   "metadata": {},
   "outputs": [],
   "source": [
    "correlation(line, 'x', 'y')"
   ]
  },
  {
   "cell_type": "code",
   "execution_count": null,
   "id": "cell-lec30-17",
   "metadata": {},
   "outputs": [],
   "source": [
    "#How is r affected when we insert an outlier far off the trend of the graph.\n",
    "outlier = Table().with_columns(\n",
    "        'x', make_array(1, 2, 3, 4, 5),\n",
    "        'y', make_array(1, 2, 3, 4, 0)\n",
    "    )\n",
    "outlier.scatter('x', 'y', s=30, color='r')"
   ]
  },
  {
   "cell_type": "code",
   "execution_count": null,
   "id": "cell-lec30-18",
   "metadata": {},
   "outputs": [],
   "source": [
    "#Only one outlier can greatly affect r\n",
    "\n",
    "correlation(outlier, 'x', 'y')"
   ]
  },
  {
   "cell_type": "markdown",
   "id": "cell-lec30-19",
   "metadata": {},
   "source": [
    "### Ecological Correlations\n",
    "\n",
    "Load in the data for 2014 SAT Data for 51 regions\": The 50 States and DC. \n",
    "                                   \n",
    "Describe the table.\n",
    "                                   \n",
    "Note:The scores are the averages across the state."
   ]
  },
  {
   "cell_type": "code",
   "execution_count": null,
   "id": "cell-lec30-20",
   "metadata": {},
   "outputs": [],
   "source": [
    "sat2014 = Table.read_table('sat2014.csv').sort('State')\n",
    "sat2014"
   ]
  },
  {
   "cell_type": "code",
   "execution_count": null,
   "id": "cell-lec30-21",
   "metadata": {},
   "outputs": [],
   "source": [
    "#Plot the scatter for Reading and Math correlation.\n",
    "#What would you estimate the correlation coefficient, r, to be?\n",
    "\n"
   ]
  },
  {
   "cell_type": "code",
   "execution_count": null,
   "id": "cell-lec30-22",
   "metadata": {},
   "outputs": [],
   "source": [
    "#Use the correlation(t, x, y) function to quantify the relationship between Critical Reading and Math. \n",
    "\n"
   ]
  },
  {
   "cell_type": "markdown",
   "id": "8b394355",
   "metadata": {},
   "source": [
    "### Be Careful\n",
    "What does each point on the scatter plot represent?\n",
    "\n",
    "Is this helpful in predicting an individuals expected score on the SAT? Why or Why Not?\n",
    "\n",
    "Would r be the same if we used individuals?"
   ]
  },
  {
   "cell_type": "code",
   "execution_count": null,
   "id": "cell-lec30-23",
   "metadata": {},
   "outputs": [],
   "source": [
    "#Each region has a different participation because of the requirements of that state regarding the SATs\n",
    "#If we input the participation rate of the region, what will this function return?\n",
    "\n",
    "def rate_code(x):\n",
    "    if x <= 25:\n",
    "        return 'low'\n",
    "    elif x <= 75:\n",
    "        return 'medium'\n",
    "    else:\n",
    "        return 'high'"
   ]
  },
  {
   "cell_type": "code",
   "execution_count": null,
   "id": "cell-lec30-24",
   "metadata": {},
   "outputs": [],
   "source": [
    "#Run this function on the Particpation Rate column. \n",
    "\n",
    "rate_codes = "
   ]
  },
  {
   "cell_type": "code",
   "execution_count": null,
   "id": "cell-lec30-25",
   "metadata": {},
   "outputs": [],
   "source": [
    "#Create a new table adding the Rate Code column with those values. \n",
    "\n",
    "sat2014_rate = \n",
    "sat2014_rate"
   ]
  },
  {
   "cell_type": "code",
   "execution_count": null,
   "id": "cell-lec30-26",
   "metadata": {},
   "outputs": [],
   "source": [
    "#View the scatter with the rate code grouping. Show the scatter command specs to see how to group. \n",
    "\n"
   ]
  },
  {
   "cell_type": "markdown",
   "id": "a338baa3",
   "metadata": {},
   "source": [
    "What is happening with the grouping?\n",
    "\n",
    "Low Participation: \n",
    "\n",
    "Medium Particpation: \n",
    "\n",
    "High Participation: \n"
   ]
  },
  {
   "cell_type": "code",
   "execution_count": null,
   "id": "cell-lec30-27",
   "metadata": {},
   "outputs": [],
   "source": [
    "#Display a table of only the regions with low rate code. Do not reassign. \n",
    "\n"
   ]
  },
  {
   "cell_type": "code",
   "execution_count": null,
   "id": "161f5168",
   "metadata": {},
   "outputs": [],
   "source": [
    "#How many regions had a low rate code?\n",
    "\n"
   ]
  },
  {
   "cell_type": "markdown",
   "id": "196de5e3",
   "metadata": {},
   "source": [
    "Ecological Correlation is when you compare the averages of a measurement for a group, instead of the measurements of each individual in those groups.\n",
    "Not a true correlation. "
   ]
  },
  {
   "cell_type": "markdown",
   "id": "cell-lec30-28",
   "metadata": {},
   "source": [
    "## Prediction Lines\n",
    "\n",
    "R can also help us identify the straight line that the points are clustered around. \n",
    "Using the nearest neighbors can help us predict an average value for each y-value given a particular x-value. "
   ]
  },
  {
   "cell_type": "markdown",
   "id": "cell-lec30-29",
   "metadata": {},
   "source": [
    "### When r = 0.99.\n",
    "\n",
    "We will create a table of ficticious data that has a correlation of a particular r.\n"
   ]
  },
  {
   "cell_type": "code",
   "execution_count": null,
   "id": "cell-lec30-30",
   "metadata": {},
   "outputs": [],
   "source": [
    "\n",
    "example = r_table(0.99)\n",
    "example.show(3)"
   ]
  },
  {
   "cell_type": "code",
   "execution_count": null,
   "id": "cell-lec30-31",
   "metadata": {},
   "outputs": [],
   "source": [
    "example.scatter('x', 'y')\n",
    "resize_window()"
   ]
  },
  {
   "cell_type": "code",
   "execution_count": null,
   "id": "cell-lec30-32",
   "metadata": {},
   "outputs": [],
   "source": [
    "#Nearest neighbor prediction.\n",
    "\n",
    "def nn_prediction_example(x_val):\n",
    "    \"\"\" Predicts y-value for x based on the example table. Nearest Neighbor \"\"\"\n",
    "    neighbors = example.where('x', are.between(x_val - .25, x_val + .25))\n",
    "    return np.mean(neighbors.column('y'))   "
   ]
  },
  {
   "cell_type": "code",
   "execution_count": null,
   "id": "cell-lec30-33",
   "metadata": {},
   "outputs": [],
   "source": [
    "#Use the function to predict the y-value from an x-value of -2.25.\n",
    "\n"
   ]
  },
  {
   "cell_type": "code",
   "execution_count": null,
   "id": "cell-lec30-34",
   "metadata": {},
   "outputs": [],
   "source": [
    "#Add the column of the predicted y-values to the example table. \n",
    "example = "
   ]
  },
  {
   "cell_type": "code",
   "execution_count": null,
   "id": "cell-lec30-35",
   "metadata": {},
   "outputs": [],
   "source": [
    "#Show the plotted line of predicted values.\n",
    "\n",
    "example.scatter('x')\n",
    "resize_window()"
   ]
  },
  {
   "cell_type": "code",
   "execution_count": null,
   "id": "cell-lec30-36",
   "metadata": {},
   "outputs": [],
   "source": [
    "#Same graph overlayed with a line of slope=1.\n",
    "example.scatter('x')\n",
    "draw_line(slope=1)\n",
    "resize_window()"
   ]
  },
  {
   "cell_type": "markdown",
   "id": "a9a1061f",
   "metadata": {},
   "source": [
    "### Let's run through the same process with different r values. "
   ]
  },
  {
   "cell_type": "markdown",
   "id": "cell-lec30-37",
   "metadata": {},
   "source": [
    "### When r = 0."
   ]
  },
  {
   "cell_type": "code",
   "execution_count": null,
   "id": "cell-lec30-38",
   "metadata": {},
   "outputs": [],
   "source": [
    "example = r_table(0)\n",
    "example.scatter('x', 'y')\n",
    "resize_window()"
   ]
  },
  {
   "cell_type": "code",
   "execution_count": null,
   "id": "cell-lec30-39",
   "metadata": {},
   "outputs": [],
   "source": [
    "example = example.with_columns(\n",
    "    'Predicted y', \n",
    "    example.apply(nn_prediction_example, 'x'))"
   ]
  },
  {
   "cell_type": "code",
   "execution_count": null,
   "id": "cell-lec30-40",
   "metadata": {},
   "outputs": [],
   "source": [
    "example.scatter('x')\n",
    "draw_line(slope = 0)\n",
    "resize_window()"
   ]
  },
  {
   "cell_type": "markdown",
   "id": "cell-lec30-41",
   "metadata": {},
   "source": [
    "### When r = 0.5."
   ]
  },
  {
   "cell_type": "code",
   "execution_count": null,
   "id": "cell-lec30-42",
   "metadata": {},
   "outputs": [],
   "source": [
    "example = r_table(0.5)\n",
    "example.scatter('x', 'y')\n",
    "resize_window()"
   ]
  },
  {
   "cell_type": "code",
   "execution_count": null,
   "id": "cell-lec30-43",
   "metadata": {},
   "outputs": [],
   "source": [
    "example = r_table(0.5)\n",
    "example.scatter('x', 'y')\n",
    "resize_window()\n",
    "draw_vertical_line(1.5)\n",
    "draw_line(slope=1, intercept=0, color='red')"
   ]
  },
  {
   "cell_type": "code",
   "execution_count": null,
   "id": "cell-lec30-44",
   "metadata": {},
   "outputs": [],
   "source": [
    "example = example.with_column('Predicted y', example.apply(nn_prediction_example, 'x'))\n",
    "example.scatter('x')\n",
    "draw_line(slope=1, color='red')\n",
    "draw_vertical_line(1.5)\n",
    "resize_window()"
   ]
  },
  {
   "cell_type": "code",
   "execution_count": null,
   "id": "cell-lec30-45",
   "metadata": {},
   "outputs": [],
   "source": [
    "example.scatter('x')\n",
    "draw_line(slope=1, intercept=0, color='red')\n",
    "draw_line(slope=0.5, intercept=0)\n",
    "resize_window()"
   ]
  },
  {
   "cell_type": "markdown",
   "id": "cell-lec30-46",
   "metadata": {},
   "source": [
    "### When r = 0.7."
   ]
  },
  {
   "cell_type": "code",
   "execution_count": null,
   "id": "cell-lec30-47",
   "metadata": {},
   "outputs": [],
   "source": [
    "example = r_table(0.7)\n",
    "example = example.with_column('Predicted y', example.apply(nn_prediction_example, 'x'))\n",
    "example.scatter('x')\n",
    "draw_line(slope=1, intercept=0, color='red')\n",
    "draw_line(slope=0.7, intercept=0, color='dodgerblue')\n",
    "resize_window()"
   ]
  },
  {
   "cell_type": "markdown",
   "id": "cell-lec30-48",
   "metadata": {},
   "source": [
    "## Linear regression: defining the line\n",
    "\n",
    "Linear regression creates a model that defines the relationship between two variables. \n",
    "\n",
    "When r is in standard units, the line that defines the model is $y=mx$</br>\n",
    "Where $m$, the slope, is equal to $r$ and the y-intercept, $b$, is equal to zero."
   ]
  },
  {
   "cell_type": "code",
   "execution_count": null,
   "id": "cell-lec30-49",
   "metadata": {},
   "outputs": [],
   "source": [
    "# Copy-pasted from above\n",
    "def standard_units(x):\n",
    "    \"\"\" Converts an array x to standard units \"\"\"\n",
    "    return (x - np.mean(x)) / np.std(x)\n",
    "\n",
    "def correlation(t, x, y):\n",
    "    \"\"\" Computes correlation: t is a table, and x and y are column names \"\"\"\n",
    "    x_su = standard_units(t.column(x))\n",
    "    y_su = standard_units(t.column(y))\n",
    "    return np.mean(x_su * y_su)\n"
   ]
  },
  {
   "cell_type": "code",
   "execution_count": null,
   "id": "cell-lec30-50",
   "metadata": {},
   "outputs": [],
   "source": [
    "#Slope of data. \n",
    "#What is the standard deviation of normalized data?\n",
    "def slope(t, x, y):\n",
    "    \"\"\" Computes the slope of the regression line, like correlation above \"\"\"\n",
    "    r = correlation(t, x, y)\n",
    "    y_sd = np.std(t.column(y))\n",
    "    x_sd = np.std(t.column(x))\n",
    "    return r * y_sd / x_sd\n"
   ]
  },
  {
   "cell_type": "code",
   "execution_count": null,
   "id": "cell-lec30-51",
   "metadata": {},
   "outputs": [],
   "source": [
    "#Slope of data\n",
    "#what is the mean of normalized data?\n",
    "\n",
    "def intercept(t, x, y):\n",
    "    \"\"\" Computes the intercept of the regression line, like slope above \"\"\"\n",
    "    x_mean = np.mean(t.column(x))\n",
    "    y_mean = np.mean(t.column(y))\n",
    "    return y_mean - slope(t, x, y)*x_mean"
   ]
  },
  {
   "cell_type": "code",
   "execution_count": null,
   "id": "cell-lec30-52",
   "metadata": {},
   "outputs": [],
   "source": [
    "example = r_table(0.5)\n",
    "slope(example, 'x', 'y')"
   ]
  },
  {
   "cell_type": "markdown",
   "id": "cell-lec30-53",
   "metadata": {},
   "source": [
    "## Heights Data and Regression Line\n",
    "\n",
    "When the data is not standardized, the model will follow the defintion of a line $y=mx+b$.</br>\n",
    "Where $m$, the slope is equal to $\\dfrac{r*y_{SD}}{x_{SD}}$</br>\n",
    "and $b$, the y-intercept is equal to $y_{mean} - slope*x_{mean}$"
   ]
  },
  {
   "cell_type": "code",
   "execution_count": null,
   "id": "cell-lec30-54",
   "metadata": {},
   "outputs": [],
   "source": [
    "# Note: Child heights are the **adult** heights of children in a family\n",
    "families = Table.read_table('family_heights.csv')\n",
    "parent_avgs = (families.column('father') + families.column('mother'))/2\n",
    "heights = Table().with_columns(\n",
    "    'Parent Average', parent_avgs,\n",
    "    'Child', families.column('child'),\n",
    ")\n",
    "heights.show(5)"
   ]
  },
  {
   "cell_type": "code",
   "execution_count": null,
   "id": "cell-lec30-55",
   "metadata": {},
   "outputs": [],
   "source": [
    "def nn_prediction_height(p_avg):\n",
    "    \"\"\"Predict the height of a child whose parents have a parent average height of p_avg.\n",
    "    \n",
    "    The prediction is the average height of the children whose parent average height is\n",
    "    in the range p_avg plus or minus 0.5.\n",
    "    \"\"\"\n",
    "    \n",
    "    close_points = heights.where('Parent Average', are.between(p_avg-0.5, p_avg + 0.5))\n",
    "    return np.average(close_points.column('Child')) "
   ]
  },
  {
   "cell_type": "code",
   "execution_count": null,
   "id": "cell-lec30-56",
   "metadata": {},
   "outputs": [],
   "source": [
    "heights_with_predictions = heights.with_column(\n",
    "    'Nearest neighbor prediction', \n",
    "    heights.apply(nn_prediction_height, 'Parent Average'))\n",
    "heights_with_predictions.show(5)"
   ]
  },
  {
   "cell_type": "code",
   "execution_count": null,
   "id": "cell-lec30-57",
   "metadata": {},
   "outputs": [],
   "source": [
    "# Show a scatter of the Parent Averages.\n",
    "\n"
   ]
  },
  {
   "cell_type": "code",
   "execution_count": null,
   "id": "cell-lec30-58",
   "metadata": {},
   "outputs": [],
   "source": [
    "predicted_heights_slope = slope(heights, 'Parent Average', 'Child')\n",
    "predicted_heights_intercept = intercept(heights, 'Parent Average', 'Child')\n",
    "[predicted_heights_slope, predicted_heights_intercept]"
   ]
  },
  {
   "cell_type": "markdown",
   "id": "4d3b9313",
   "metadata": {},
   "source": [
    "Write the information found in the format of a linear regression model.\n",
    "\n"
   ]
  },
  {
   "cell_type": "code",
   "execution_count": null,
   "id": "cell-lec30-59",
   "metadata": {},
   "outputs": [],
   "source": [
    "# Use the model to create a Regression Prediction column. \n",
    "heights_with_predictions = heights_with_predictions.with_column(\n",
    "    'Regression Prediction', \n",
    "    \n",
    ")\n",
    "heights_with_predictions"
   ]
  },
  {
   "cell_type": "code",
   "execution_count": null,
   "id": "cell-lec30-60",
   "metadata": {},
   "outputs": [],
   "source": [
    "heights_with_predictions.scatter('Parent Average')\n"
   ]
  },
  {
   "cell_type": "code",
   "execution_count": null,
   "id": "4da34de2",
   "metadata": {},
   "outputs": [],
   "source": [
    "# Create a table that shows the\n",
    "Standard_Heights = Table().with_columns(\n",
    "    'Parent Average',  standard_units(heights.column('Parent Average')), \n",
    "    'Child', standard_units(heights.column('Child'))\n",
    "    )\n",
    "Standard_Heights"
   ]
  },
  {
   "cell_type": "code",
   "execution_count": null,
   "id": "253cc46e",
   "metadata": {},
   "outputs": [],
   "source": [
    "Standard_Heights.scatter(0, 1)\n",
    "plots.xlim(-3, 3)\n",
    "plots.ylim(-3, 3);"
   ]
  },
  {
   "cell_type": "code",
   "execution_count": null,
   "id": "d221fc1b",
   "metadata": {},
   "outputs": [],
   "source": [
    "predicted_Sheights_slope = slope(Standard_Heights, 'Parent Average', 'Child')\n",
    "predicted_Sheights_intercept = intercept(Standard_Heights, 'Parent Average', 'Child')\n",
    "[predicted_Sheights_slope, predicted_Sheights_intercept]"
   ]
  },
  {
   "cell_type": "markdown",
   "id": "3e19ae27",
   "metadata": {},
   "source": [
    "Write the information found in the format of a linear regression model.\n",
    "\n"
   ]
  },
  {
   "cell_type": "code",
   "execution_count": null,
   "id": "4b3aa975",
   "metadata": {},
   "outputs": [],
   "source": [
    "correlation(Standard_Heights, 'Parent Average', 'Child')"
   ]
  },
  {
   "cell_type": "code",
   "execution_count": null,
   "id": "37b7a13f",
   "metadata": {},
   "outputs": [],
   "source": [
    "Standard_Heights.scatter(0, 1)\n",
    "draw_line(slope=predicted_Sheights_slope, intercept=predicted_Sheights_intercept, color='red')\n",
    "plots.xlim(-3, 3)\n",
    "plots.ylim(-3, 3);"
   ]
  },
  {
   "cell_type": "code",
   "execution_count": null,
   "id": "89a8e87f",
   "metadata": {},
   "outputs": [],
   "source": []
  }
 ],
 "metadata": {
  "kernelspec": {
   "display_name": "Python 3 (ipykernel)",
   "language": "python",
   "name": "python3"
  },
  "language_info": {
   "codemirror_mode": {
    "name": "ipython",
    "version": 3
   },
   "file_extension": ".py",
   "mimetype": "text/x-python",
   "name": "python",
   "nbconvert_exporter": "python",
   "pygments_lexer": "ipython3",
   "version": "3.11.13"
  }
 },
 "nbformat": 4,
 "nbformat_minor": 5
}
