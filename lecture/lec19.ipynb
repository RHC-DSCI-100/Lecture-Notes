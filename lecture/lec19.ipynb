{
 "cells": [
  {
   "cell_type": "code",
   "execution_count": null,
   "id": "cell-lec19-0",
   "metadata": {},
   "outputs": [],
   "source": [
    "from datascience import *\n",
    "import numpy as np\n",
    "\n",
    "%matplotlib inline\n",
    "import matplotlib.pyplot as plots\n",
    "plots.style.use('fivethirtyeight')"
   ]
  },
  {
   "cell_type": "markdown",
   "id": "cell-lec19-1",
   "metadata": {},
   "source": [
    "# A/B Testing #\n",
    "## Comparing Two Samples"
   ]
  },
  {
   "cell_type": "markdown",
   "id": "48e1987e",
   "metadata": {},
   "source": [
    "Question: Do the two sets of values come from the\n",
    "same underlying distribution?\n"
   ]
  },
  {
   "cell_type": "code",
   "execution_count": null,
   "id": "cell-lec19-2",
   "metadata": {},
   "outputs": [],
   "source": [
    "births = Table.read_table('baby.csv')"
   ]
  },
  {
   "cell_type": "code",
   "execution_count": null,
   "id": "cell-lec19-3",
   "metadata": {},
   "outputs": [],
   "source": [
    "# This data was collected at a time when smoking was not known to cause problems during pregnancy.\n",
    "births"
   ]
  },
  {
   "cell_type": "code",
   "execution_count": null,
   "id": "cell-lec19-4",
   "metadata": {},
   "outputs": [],
   "source": [
    "# Create a table that only shows whether the mother smoked or not and the weight of the newborn. \n",
    "\n",
    "smoking_and_birthweight = \n",
    "\n",
    "smoking_and_birthweight"
   ]
  },
  {
   "cell_type": "code",
   "execution_count": null,
   "id": "cell-lec19-5",
   "metadata": {},
   "outputs": [],
   "source": [
    "#Display a table that counts how many are smokers and how many are not.\n",
    "#Do not create a new table.\n",
    "\n",
    "\n"
   ]
  },
  {
   "cell_type": "code",
   "execution_count": null,
   "id": "cell-lec19-6",
   "metadata": {},
   "outputs": [],
   "source": [
    "#Display a histogram that displays the birthweight distribution of both groups. \n",
    "#Hint: Use the ? to see how to identify the group. \n",
    "\n"
   ]
  },
  {
   "cell_type": "markdown",
   "id": "93592f73",
   "metadata": {},
   "source": [
    "***What question should we be asking?"
   ]
  },
  {
   "cell_type": "markdown",
   "id": "a9508747",
   "metadata": {},
   "source": [
    "Give a null and alternative hypothesis for this study.\n"
   ]
  },
  {
   "cell_type": "markdown",
   "id": "cell-lec19-7",
   "metadata": {},
   "source": [
    "# Test Statistic\n",
    "\n",
    "***What are our two groups?</br>\n",
    "***What statistic should we use to test our hypothesis?</br>\n",
    "***What values of our statistic are in favor of the alternative: positive or negative?"
   ]
  },
  {
   "cell_type": "code",
   "execution_count": null,
   "id": "89ef4e57",
   "metadata": {},
   "outputs": [],
   "source": []
  },
  {
   "cell_type": "code",
   "execution_count": null,
   "id": "cell-lec19-8",
   "metadata": {},
   "outputs": [],
   "source": [
    "#Create a table that will show the average birth weight for each group. \n",
    "\n",
    "means_table = \n",
    "\n",
    "means_table"
   ]
  },
  {
   "cell_type": "code",
   "execution_count": null,
   "id": "cell-lec19-9",
   "metadata": {},
   "outputs": [],
   "source": [
    "#Calculate the difference between averages. \n",
    "means = means_table.column(1)\n",
    "observed_difference = means.item(1) - means.item(0)\n",
    "observed_difference"
   ]
  },
  {
   "cell_type": "code",
   "execution_count": null,
   "id": "cell-lec19-10",
   "metadata": {},
   "outputs": [],
   "source": [
    "def difference_of_means(table, label, group_label):\n",
    "    \"\"\"Takes: name of table, column label of numerical variable,\n",
    "    column label of group-label variable\n",
    "    Returns: Difference of means of the two groups\"\"\"\n",
    "    \n",
    "    #table with the two relevant columns\n",
    "    reduced = table.select(label, group_label)  \n",
    "    \n",
    "    # table containing group means\n",
    "    means_table = reduced.group(group_label, np.average)\n",
    "    # array of group means\n",
    "    means = means_table.column(1)\n",
    "    \n",
    "    return means.item(1) - means.item(0)\n"
   ]
  },
  {
   "cell_type": "code",
   "execution_count": null,
   "id": "cell-lec19-11",
   "metadata": {},
   "outputs": [],
   "source": [
    "#Check to make sure our function works. What are the correct inputs?\n",
    "\n"
   ]
  },
  {
   "cell_type": "markdown",
   "id": "cell-lec19-12",
   "metadata": {},
   "source": [
    "# Random Permutation (Shuffling)"
   ]
  },
  {
   "cell_type": "markdown",
   "id": "b69d8564",
   "metadata": {},
   "source": [
    "Thought Process: If the null is true, all random rearrangements of the labels are equally likely.\n",
    "</br></br>\n",
    "How do we randomly rearrange the rows?\n"
   ]
  },
  {
   "cell_type": "markdown",
   "id": "b11b5e34",
   "metadata": {},
   "source": [
    "### Example"
   ]
  },
  {
   "cell_type": "code",
   "execution_count": null,
   "id": "cell-lec19-13",
   "metadata": {},
   "outputs": [],
   "source": [
    "letters = Table().with_column('Letter', make_array('a', 'b', 'c', 'd', 'e'))\n",
    "letters"
   ]
  },
  {
   "cell_type": "code",
   "execution_count": null,
   "id": "cell-lec19-14",
   "metadata": {},
   "outputs": [],
   "source": [
    "letters.sample()"
   ]
  },
  {
   "cell_type": "code",
   "execution_count": null,
   "id": "cell-lec19-15",
   "metadata": {},
   "outputs": [],
   "source": [
    "#We do not want to increase the number of any of the labels. \n",
    "#So replacement is false. \n",
    "letters.sample(with_replacement = False)"
   ]
  },
  {
   "cell_type": "code",
   "execution_count": null,
   "id": "cell-lec19-16",
   "metadata": {},
   "outputs": [],
   "source": [
    "letters.with_column('Shuffled', letters.sample(with_replacement = False).column(0))"
   ]
  },
  {
   "cell_type": "markdown",
   "id": "cell-lec19-17",
   "metadata": {},
   "source": [
    "# Simulation Under Null Hypothesis"
   ]
  },
  {
   "cell_type": "markdown",
   "id": "89d2a9bc",
   "metadata": {},
   "source": [
    "If the null is true, when we rearrange whether the mothers smoked or not it should not greatly affect the average weights.\n"
   ]
  },
  {
   "cell_type": "code",
   "execution_count": null,
   "id": "cell-lec19-18",
   "metadata": {},
   "outputs": [],
   "source": [
    "smoking_and_birthweight"
   ]
  },
  {
   "cell_type": "code",
   "execution_count": null,
   "id": "cell-lec19-19",
   "metadata": {},
   "outputs": [],
   "source": [
    "shuffled_labels = smoking_and_birthweight.sample(with_replacement=False).column('Maternal Smoker')"
   ]
  },
  {
   "cell_type": "code",
   "execution_count": null,
   "id": "cell-lec19-20",
   "metadata": {},
   "outputs": [],
   "source": [
    "original_and_shuffled = smoking_and_birthweight.with_column(\n",
    "    'Shuffled Label', shuffled_labels\n",
    ")"
   ]
  },
  {
   "cell_type": "code",
   "execution_count": null,
   "id": "cell-lec19-21",
   "metadata": {},
   "outputs": [],
   "source": [
    "original_and_shuffled"
   ]
  },
  {
   "cell_type": "code",
   "execution_count": null,
   "id": "eb6a9538",
   "metadata": {},
   "outputs": [],
   "source": [
    "# Original Table Group\n",
    "smoking_and_birthweight.group('Maternal Smoker')"
   ]
  },
  {
   "cell_type": "code",
   "execution_count": null,
   "id": "084621ae",
   "metadata": {},
   "outputs": [],
   "source": [
    "# Shuffled Table Group, what do you notice?\n",
    "original_and_shuffled.group('Shuffled Label')"
   ]
  },
  {
   "cell_type": "code",
   "execution_count": null,
   "id": "cell-lec19-22",
   "metadata": {},
   "outputs": [],
   "source": [
    "#If the null is true, what do we expect this number to be near?\n",
    "difference_of_means(original_and_shuffled, 'Birth Weight', 'Shuffled Label')"
   ]
  },
  {
   "cell_type": "code",
   "execution_count": null,
   "id": "cell-lec19-23",
   "metadata": {},
   "outputs": [],
   "source": [
    "#The original difference when labels were accurately assigned.\n",
    "difference_of_means(original_and_shuffled, 'Birth Weight', 'Maternal Smoker')"
   ]
  },
  {
   "cell_type": "markdown",
   "id": "7b97b0e8",
   "metadata": {},
   "source": [
    "Do we have reason to continue our testing? Why or Why not?"
   ]
  },
  {
   "cell_type": "markdown",
   "id": "cell-lec19-24",
   "metadata": {},
   "source": [
    "# Permutation Test"
   ]
  },
  {
   "cell_type": "code",
   "execution_count": null,
   "id": "cell-lec19-25",
   "metadata": {},
   "outputs": [],
   "source": [
    "def one_simulated_difference(table, label, group_label):\n",
    "    \"\"\"Takes: name of table, column label of numerical variable,\n",
    "    column label of group-label variable\n",
    "    Returns: Difference of means of the two groups after shuffling labels\"\"\"\n",
    "    \n",
    "    # array of shuffled labels\n",
    "    shuffled_labels = table.sample(with_replacement = False).column(group_label)\n",
    "    \n",
    "    # table of numerical variable and shuffled labels\n",
    "    shuffled_table = table.select(label).with_column('Shuffled Label', shuffled_labels)\n",
    "    \n",
    "    # Uncomment to return the shuffled table\n",
    "    # return shuffled_table\n",
    "    \n",
    "    return difference_of_means(shuffled_table, label, 'Shuffled Label')   "
   ]
  },
  {
   "cell_type": "code",
   "execution_count": null,
   "id": "cell-lec19-26",
   "metadata": {},
   "outputs": [],
   "source": [
    "#Run this several times. What do you observe?\n",
    "smoking_and_shuffled = one_simulated_difference(births, 'Birth Weight', 'Maternal Smoker')\n",
    "smoking_and_shuffled"
   ]
  },
  {
   "cell_type": "code",
   "execution_count": null,
   "id": "cell-lec19-27",
   "metadata": {},
   "outputs": [],
   "source": [
    "#Store the differences of many simualations in an array.\n",
    "differences = make_array()\n",
    "\n",
    "for i in np.arange(2500):\n",
    "    new_difference = one_simulated_difference(births, 'Birth Weight', 'Maternal Smoker')\n",
    "    differences = np.append(differences, new_difference)"
   ]
  },
  {
   "cell_type": "code",
   "execution_count": null,
   "id": "b241332a",
   "metadata": {},
   "outputs": [],
   "source": [
    "#How are we calculating the p-value?\n",
    "\n",
    "p_value = np.count_nonzero(differences <= observed_difference) / 2500"
   ]
  },
  {
   "cell_type": "code",
   "execution_count": null,
   "id": "cell-lec19-28",
   "metadata": {},
   "outputs": [],
   "source": [
    "#Create a table that stores the differences. Do not reuse any variable names used above. \n",
    "\n",
    "\n",
    "\n",
    "#Display a histogram with the default number of bins that shows the range of the differences.\n",
    "\n",
    "\n",
    "#This code will display the found p-value, observered difference, and title the histogram.\n",
    "print('P-Value:', p_value)\n",
    "print('Observed Difference:', observed_difference)\n",
    "plots.title('Prediction Under the Null Hypothesis');"
   ]
  },
  {
   "cell_type": "markdown",
   "id": "b9699cac",
   "metadata": {},
   "source": [
    "Does our data support the null hypothesis or the alternative hypothesis? Why?"
   ]
  },
  {
   "cell_type": "code",
   "execution_count": null,
   "id": "d8fecdbc",
   "metadata": {},
   "outputs": [],
   "source": []
  }
 ],
 "metadata": {
  "kernelspec": {
   "display_name": "Python 3 (ipykernel)",
   "language": "python",
   "name": "python3"
  },
  "language_info": {
   "codemirror_mode": {
    "name": "ipython",
    "version": 3
   },
   "file_extension": ".py",
   "mimetype": "text/x-python",
   "name": "python",
   "nbconvert_exporter": "python",
   "pygments_lexer": "ipython3",
   "version": "3.11.13"
  }
 },
 "nbformat": 4,
 "nbformat_minor": 5
}
