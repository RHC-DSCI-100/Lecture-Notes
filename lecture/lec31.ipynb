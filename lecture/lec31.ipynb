{
 "cells": [
  {
   "cell_type": "code",
   "execution_count": null,
   "id": "cell-lec31-0",
   "metadata": {},
   "outputs": [],
   "source": [
    "# HIDDEN\n",
    "from datascience import *\n",
    "import numpy as np\n",
    "%matplotlib inline\n",
    "import matplotlib.pyplot as plots\n",
    "plots.style.use('fivethirtyeight')"
   ]
  },
  {
   "cell_type": "code",
   "execution_count": null,
   "id": "cell-lec31-1",
   "metadata": {},
   "outputs": [],
   "source": [
    "# Some functions for plotting. You don't have to understand how any\n",
    "# of the functions in this cell work, since they use things we \n",
    "# haven't learned about in Data 8.\n",
    "\n",
    "def resize_window(lim=3.5):\n",
    "    plots.xlim(-lim, lim)\n",
    "    plots.ylim(-lim, lim)\n",
    "    \n",
    "def draw_line(slope=0, intercept=0, x=make_array(-4, 4), color='r'):\n",
    "    y = x*slope + intercept\n",
    "    plots.plot(x, y, color=color)\n",
    "    \n",
    "def draw_vertical_line(x_position, color='black'):\n",
    "    x = make_array(x_position, x_position)\n",
    "    y = make_array(-4, 4)\n",
    "    plots.plot(x, y, color=color)\n",
    "    \n",
    "def make_correlated_data(r):\n",
    "    x = np.random.normal(0, 1, 1000)\n",
    "    z = np.random.normal(0, 1, 1000)\n",
    "    y = r*x + (np.sqrt(1-r**2))*z\n",
    "    return x, y\n",
    "\n",
    "def r_table(r):\n",
    "    \"\"\"\n",
    "    Generate a table of 1000 x,y data points in standard units\n",
    "    whose correlation is approximately equal to r\n",
    "    \"\"\"\n",
    "    np.random.seed(8)\n",
    "    x, y = make_correlated_data(r)\n",
    "    return Table().with_columns('x', x, 'y', y)"
   ]
  },
  {
   "cell_type": "code",
   "execution_count": null,
   "id": "cell-lec31-2",
   "metadata": {},
   "outputs": [],
   "source": [
    "def demographics_errors(slope, intercept):\n",
    "    # Use four convenient points from the original data\n",
    "    sample = [[14.7, 33995], [19.1, 61454], [50.7, 71183], [59.5, 105918]]\n",
    "    demographics.scatter('College%', 'Median Income', alpha=0.5)\n",
    "    xlims = make_array(5, 75)\n",
    "    # Plot a line with the slope and intercept you specified:\n",
    "    plots.plot(xlims, slope * xlims + intercept, lw=4)\n",
    "    # Plot red lines from each of the four points to the line\n",
    "    for x, y in sample:\n",
    "        plots.plot([x, x], [y, slope * x + intercept], color='r', lw=4)"
   ]
  },
  {
   "cell_type": "code",
   "execution_count": null,
   "id": "cell-lec31-3",
   "metadata": {},
   "outputs": [],
   "source": [
    "def show_demographics_rmse(slope, intercept):\n",
    "    demographics_errors(slope, intercept)\n",
    "    x = demographics.column('College%')\n",
    "    y = demographics.column('Median Income')\n",
    "    prediction = slope * x + intercept\n",
    "    mse = np.mean((y - prediction) ** 2)\n",
    "    print(\"Root mean squared error:\", round(mse ** 0.5, 2))"
   ]
  },
  {
   "cell_type": "code",
   "execution_count": null,
   "id": "cell-lec31-4",
   "metadata": {},
   "outputs": [],
   "source": [
    "def fitted_values(t, x, y):\n",
    "    \"\"\"Return an array of the regressions estimates at all the x values\"\"\"\n",
    "    a = slope(t, x, y)\n",
    "    b = intercept(t, x, y)\n",
    "    return a*t.column(x) + b"
   ]
  },
  {
   "cell_type": "markdown",
   "id": "cell-lec31-5",
   "metadata": {},
   "source": [
    "## Slope & Intercept"
   ]
  },
  {
   "cell_type": "code",
   "execution_count": null,
   "id": "cell-lec31-6",
   "metadata": {},
   "outputs": [],
   "source": [
    "def standard_units(x):\n",
    "    #\"\"\"Converts an array x to standard units\"\"\"\n",
    "    return (x - np.mean(x)) / np.std(x)\n",
    "\n",
    "def correlation(t, x, y):\n",
    "    x_su = standard_units(t.column(x))\n",
    "    y_su = standard_units(t.column(y))\n",
    "    return np.mean(x_su * y_su)\n"
   ]
  },
  {
   "cell_type": "code",
   "execution_count": null,
   "id": "cell-lec31-7",
   "metadata": {},
   "outputs": [],
   "source": [
    "def slope(t, x, y):\n",
    "    #\"\"\" Computes the slope of the regression line, like correlation above \"\"\"\n",
    "    r = correlation(t, x, y)\n",
    "    y_sd = np.std(t.column(y))\n",
    "    x_sd = np.std(t.column(x))\n",
    "    return r * y_sd / x_sd\n",
    "\n",
    "    \n",
    "def intercept(t, x, y):\n",
    "    \"\"\" Computes the intercept of the regression line, like slope above \"\"\"\n",
    "    x_mean = np.mean(t.column(x))\n",
    "    y_mean = np.mean(t.column(y))\n",
    "    return y_mean - slope(t, x, y)*x_mean"
   ]
  },
  {
   "cell_type": "code",
   "execution_count": null,
   "id": "cell-lec31-8",
   "metadata": {},
   "outputs": [],
   "source": [
    "example = r_table(0.5)\n",
    "slope(example, 'x', 'y')"
   ]
  },
  {
   "cell_type": "markdown",
   "id": "cell-lec31-9",
   "metadata": {},
   "source": [
    "## Heights data"
   ]
  },
  {
   "cell_type": "code",
   "execution_count": null,
   "id": "cell-lec31-10",
   "metadata": {},
   "outputs": [],
   "source": [
    "families = Table.read_table('heights.csv')\n",
    "\n",
    "heights = Table().with_columns(\n",
    "    'MidParent', families.column('midparentHeight'),\n",
    "    'Child', families.column('childHeight'))\n",
    "heights"
   ]
  },
  {
   "cell_type": "code",
   "execution_count": null,
   "id": "cell-lec31-11",
   "metadata": {},
   "outputs": [],
   "source": [
    "def nn_prediction_heights(h):\n",
    "    \"\"\"\n",
    "    Return a prediction of the height of a child \n",
    "    whose parents have a midparent height of h.\n",
    "    \n",
    "    The prediction is the average height of the children \n",
    "    whose midparent height is in the range h plus or minus 0.5 inches.\n",
    "    \"\"\"\n",
    "    neighbors = heights.where(\n",
    "        'MidParent', are.between(h - 0.5, h + 0.5))\n",
    "    return np.mean(neighbors.column('Child'))"
   ]
  },
  {
   "cell_type": "code",
   "execution_count": null,
   "id": "cell-lec31-12",
   "metadata": {},
   "outputs": [],
   "source": [
    "heights_with_predictions = heights.with_column(\n",
    "    'Average neighbor prediction', \n",
    "    heights.apply(nn_prediction_heights, 'MidParent'))"
   ]
  },
  {
   "cell_type": "code",
   "execution_count": null,
   "id": "cell-lec31-13",
   "metadata": {},
   "outputs": [],
   "source": [
    "heights_slope = slope(heights, 'MidParent', 'Child')\n",
    "heights_intercept = intercept(heights, 'MidParent', 'Child')\n",
    "heights_slope, heights_intercept"
   ]
  },
  {
   "cell_type": "markdown",
   "id": "08ed98ba",
   "metadata": {},
   "source": [
    "Write these values as a linear regression model. \n",
    "\n",
    "y=\n",
    "\n",
    "Interpret the slope and intercept in the context of the data. \n"
   ]
  },
  {
   "cell_type": "code",
   "execution_count": null,
   "id": "cell-lec31-14",
   "metadata": {},
   "outputs": [],
   "source": [
    "heights_with_predictions = heights_with_predictions.with_column(\n",
    "    'Regression Prediction', \n",
    "    heights_slope*heights.column('MidParent') + heights_intercept\n",
    ")\n",
    "heights_with_predictions"
   ]
  },
  {
   "cell_type": "code",
   "execution_count": null,
   "id": "cell-lec31-15",
   "metadata": {
    "scrolled": true
   },
   "outputs": [],
   "source": [
    "heights_with_predictions.scatter('MidParent')"
   ]
  },
  {
   "cell_type": "markdown",
   "id": "937f53d0",
   "metadata": {},
   "source": [
    "### Discussion Question\n",
    "\n",
    "A course has a midterm (average 70; standard deviation 10)</br>\n",
    "and a really hard final (average 50; standard deviation 12).</br>\n",
    "\n",
    "If the scatter diagram comparing midterm & final scores for \n",
    "students has an oval shape with correlation 0.75, then... </br>\n",
    "\n",
    "What do you expect the average final score would be for </br>\n",
    "students who scored 90 on the midterm?</br>\n",
    "\n",
    "How about 60 on the midterm?\n"
   ]
  },
  {
   "cell_type": "code",
   "execution_count": null,
   "id": "5d886d3c",
   "metadata": {},
   "outputs": [],
   "source": [
    "mean_x = 70 \n",
    "sd_x = 10\n",
    "mean_y = 50\n",
    "sd_y = 12\n",
    "\n",
    "r = 0.75\n",
    "\n",
    "#Question 1\n",
    "x = 90\n",
    "\n",
    "num_sds_x = (x - mean_x)/sd_x\n",
    "num_sds_y_estimate = r * num_sds_x\n",
    "\n",
    "y_pred = num_sds_y_estimate * sd_y + mean_y\n",
    "\n",
    "y_pred"
   ]
  },
  {
   "cell_type": "code",
   "execution_count": null,
   "id": "5d6fc79b",
   "metadata": {},
   "outputs": [],
   "source": [
    "#Using linear regression, find  the slope and the intercept to predict y\n",
    "\n",
    "slope2 = r * sd_y/sd_x\n",
    "\n",
    "#y = mx + b\n",
    "\n",
    "slope2 * 90 + (mean_y - slope2 * mean_x)\n"
   ]
  },
  {
   "cell_type": "code",
   "execution_count": null,
   "id": "6768ec1d",
   "metadata": {},
   "outputs": [],
   "source": [
    "#Predict the answer for 60 on the midterm. \n",
    "x = 60\n",
    "\n",
    "num_sds_x = (x - mean_x)/sd_x\n",
    "num_sds_y_estimate = r * num_sds_x\n",
    "\n",
    "y_pred = num_sds_y_estimate * sd_y + mean_y\n",
    "\n",
    "y_pred"
   ]
  },
  {
   "cell_type": "markdown",
   "id": "cell-lec31-16",
   "metadata": {},
   "source": [
    "### Error in Estimation\n",
    "\n",
    "Prediction has an inherrent error - the difference from the actual observed value at any given x.\n",
    "\n",
    "The Regressions Lines is the one line that minimizes the mean squared error of estimation. "
   ]
  },
  {
   "cell_type": "code",
   "execution_count": null,
   "id": "cell-lec31-17",
   "metadata": {
    "scrolled": false
   },
   "outputs": [],
   "source": [
    "demographics = Table.read_table('district_demographics2016.csv')\n",
    "demographics.show(5)"
   ]
  },
  {
   "cell_type": "code",
   "execution_count": null,
   "id": "cell-lec31-18",
   "metadata": {
    "scrolled": true
   },
   "outputs": [],
   "source": [
    "demographics = demographics.drop(\n",
    "    'State', 'District', 'Percent voting for Clinton')\n",
    "demographics.show(5)"
   ]
  },
  {
   "cell_type": "code",
   "execution_count": null,
   "id": "cell-lec31-19",
   "metadata": {},
   "outputs": [],
   "source": [
    "#Compare College% and Median Income in a scatter. \n",
    "\n"
   ]
  },
  {
   "cell_type": "code",
   "execution_count": null,
   "id": "cell-lec31-20",
   "metadata": {},
   "outputs": [],
   "source": [
    "#Find the correlation coefficient, r, of the data in the scatter. \n",
    "correlation(demographics, 'College%', 'Median Income')"
   ]
  },
  {
   "cell_type": "code",
   "execution_count": null,
   "id": "cell-lec31-21",
   "metadata": {},
   "outputs": [],
   "source": [
    "regression_slope = slope(demographics, 'College%', 'Median Income')\n",
    "regression_intercept = intercept(demographics, 'College%', 'Median Income')\n",
    "regression_slope, regression_intercept"
   ]
  },
  {
   "cell_type": "markdown",
   "id": "67afd221",
   "metadata": {},
   "source": [
    "Write these as a linear regression model.\n",
    "\n",
    "y= \n",
    "\n",
    "Interpret the slope and intercept in the context of the data. \n"
   ]
  },
  {
   "cell_type": "code",
   "execution_count": null,
   "id": "cell-lec31-22",
   "metadata": {},
   "outputs": [],
   "source": [
    "predicted = fitted_values(demographics, 'College%', 'Median Income')"
   ]
  },
  {
   "cell_type": "code",
   "execution_count": null,
   "id": "cell-lec31-23",
   "metadata": {},
   "outputs": [],
   "source": [
    "demographics = demographics.with_column(\n",
    "    'Linear Prediction', predicted)\n",
    "demographics.scatter('College%')"
   ]
  },
  {
   "cell_type": "code",
   "execution_count": null,
   "id": "cell-lec31-24",
   "metadata": {},
   "outputs": [],
   "source": [
    "#Measuring the errors. \n",
    "\n",
    "actual = demographics.column('Median Income')\n",
    "errors = actual - predicted"
   ]
  },
  {
   "cell_type": "markdown",
   "id": "05f663de",
   "metadata": {},
   "source": [
    "#### Measuring the Errors\n",
    "\n",
    "Since some of the predictions are above the observed values and some are below, we will take the mean of the quared errors to avoid cancellation. \n",
    "Then take the square root of the mean of the squared errors to get the root mean squared error. \n",
    "\n",
    "This is the value we want to minimize. "
   ]
  },
  {
   "cell_type": "code",
   "execution_count": null,
   "id": "cell-lec31-25",
   "metadata": {},
   "outputs": [],
   "source": [
    "#Add the errors column to the demographics table. Do not reassign.\n",
    "\n"
   ]
  },
  {
   "cell_type": "code",
   "execution_count": null,
   "id": "cell-lec31-26",
   "metadata": {},
   "outputs": [],
   "source": [
    "#Find the mean of the erros\n",
    "np.mean(errors)"
   ]
  },
  {
   "cell_type": "code",
   "execution_count": null,
   "id": "cell-lec31-27",
   "metadata": {},
   "outputs": [],
   "source": [
    "#Take the square root of the mean of the errors squared. \n",
    "np.sqrt(np.mean(errors ** 2))"
   ]
  },
  {
   "cell_type": "code",
   "execution_count": null,
   "id": "cell-lec31-28",
   "metadata": {
    "scrolled": true
   },
   "outputs": [],
   "source": [
    "#Visualizing the errors. Using the linear regression line. \n",
    "\n",
    "demographics_errors(regression_slope, regression_intercept)"
   ]
  },
  {
   "cell_type": "code",
   "execution_count": null,
   "id": "cell-lec31-29",
   "metadata": {},
   "outputs": [],
   "source": [
    "# Takes any slope, any intercept. Using a different slope and y-intercept.\n",
    "\n",
    "demographics_errors(1500, 20000)"
   ]
  },
  {
   "cell_type": "code",
   "execution_count": null,
   "id": "cell-lec31-30",
   "metadata": {},
   "outputs": [],
   "source": [
    "# Another slope and y intercept. \n",
    "\n",
    "demographics_errors(-1000, 75000)"
   ]
  },
  {
   "cell_type": "markdown",
   "id": "cell-lec31-31",
   "metadata": {},
   "source": [
    "### Root Mean Square Error ###"
   ]
  },
  {
   "cell_type": "code",
   "execution_count": null,
   "id": "cell-lec31-32",
   "metadata": {},
   "outputs": [],
   "source": [
    "#Measure the error from the given line. Function defined above. \n",
    "\n",
    "show_demographics_rmse(-1000, 75000)"
   ]
  },
  {
   "cell_type": "code",
   "execution_count": null,
   "id": "cell-lec31-33",
   "metadata": {},
   "outputs": [],
   "source": [
    "show_demographics_rmse(1500, 20000)"
   ]
  },
  {
   "cell_type": "code",
   "execution_count": null,
   "id": "cell-lec31-34",
   "metadata": {},
   "outputs": [],
   "source": [
    "#Using the slope and intercept of the regression line gives the least error. \n",
    "show_demographics_rmse(regression_slope, regression_intercept)"
   ]
  },
  {
   "cell_type": "markdown",
   "id": "cell-lec31-35",
   "metadata": {},
   "source": [
    "### Numerical Optimization ###\n",
    "\n",
    "Optimization, typically learned in PreCalculus and Calculus, allows us to find the maximum or minimum value of a function. </br>\n",
    "We want to minimize the error or the root mean squared error (RMSE)."
   ]
  },
  {
   "cell_type": "code",
   "execution_count": null,
   "id": "cell-lec31-36",
   "metadata": {},
   "outputs": [],
   "source": [
    "x = np.arange(1, 3, 0.1)\n",
    "y = (x-2)**2 + 3\n",
    "Table().with_columns('x', x, 'y', y).plot('x')"
   ]
  },
  {
   "cell_type": "code",
   "execution_count": null,
   "id": "cell-lec31-37",
   "metadata": {},
   "outputs": [],
   "source": [
    "def f(x):\n",
    "    return ((x-2)**2) + 3"
   ]
  },
  {
   "cell_type": "code",
   "execution_count": null,
   "id": "cell-lec31-38",
   "metadata": {},
   "outputs": [],
   "source": [
    "minimize(f)"
   ]
  },
  {
   "cell_type": "code",
   "execution_count": null,
   "id": "cell-lec31-39",
   "metadata": {},
   "outputs": [],
   "source": [
    "x = np.arange(-1.5, 1.5, 0.05)\n",
    "y2 = 2 * np.sin(x*np.pi) + x ** 3 + x ** 4 \n",
    "Table().with_columns('x', x, 'y', y2).plot('x')"
   ]
  },
  {
   "cell_type": "code",
   "execution_count": null,
   "id": "cell-lec31-40",
   "metadata": {},
   "outputs": [],
   "source": [
    "def complicated_function(x):\n",
    "    return 2 * np.sin(x*np.pi) + x ** 3 + x ** 4 "
   ]
  },
  {
   "cell_type": "code",
   "execution_count": null,
   "id": "cell-lec31-41",
   "metadata": {},
   "outputs": [],
   "source": [
    "minimize(complicated_function)"
   ]
  },
  {
   "cell_type": "markdown",
   "id": "cell-lec31-42",
   "metadata": {},
   "source": [
    "### Minimizing RMSE ###"
   ]
  },
  {
   "cell_type": "code",
   "execution_count": null,
   "id": "cell-lec31-43",
   "metadata": {},
   "outputs": [],
   "source": [
    "# Creating a function that will take in any slope and intercept and five the minimum error based on that estimate. \n",
    "def demographics_rmse(any_slope, any_intercept):\n",
    "    x = demographics.column('College%')\n",
    "    y = demographics.column('Median Income')\n",
    "    estimate = any_slope*x + any_intercept\n",
    "    return np.sqrt(np.mean((y - estimate) ** 2))"
   ]
  },
  {
   "cell_type": "code",
   "execution_count": null,
   "id": "cell-lec31-44",
   "metadata": {},
   "outputs": [],
   "source": [
    "demographics_rmse(1500, 20000)"
   ]
  },
  {
   "cell_type": "code",
   "execution_count": null,
   "id": "cell-lec31-45",
   "metadata": {},
   "outputs": [],
   "source": [
    "demographics_rmse(-1000, 75000)"
   ]
  },
  {
   "cell_type": "code",
   "execution_count": null,
   "id": "cell-lec31-46",
   "metadata": {},
   "outputs": [],
   "source": [
    "# Minimizing all possible values\n",
    "\n",
    "minimize(demographics_rmse)"
   ]
  },
  {
   "cell_type": "code",
   "execution_count": null,
   "id": "cell-lec31-47",
   "metadata": {},
   "outputs": [],
   "source": [
    "#Compare to the regression line slope and intercept.\n",
    "make_array(regression_slope, regression_intercept)"
   ]
  },
  {
   "cell_type": "markdown",
   "id": "43f78d11",
   "metadata": {},
   "source": [
    "Write this as a linear regression model. \n",
    "\n",
    "y= ...\n",
    "\n",
    "Interpret the slope and intercept in the context of the data. \n"
   ]
  },
  {
   "cell_type": "markdown",
   "id": "cell-lec31-48",
   "metadata": {},
   "source": [
    "### Nonlinear Regression ###\n",
    "\n",
    "We can find a best fit line for non linear data, it may not be in the form $y=mx+b$. </br>\n",
    "Some typical forms could be:</br>\n",
    "quadratic: $y=ax^2 + bx+ c$</br>\n",
    "Cubic: $y=ax^3 + bx^2+ cx$+d$"
   ]
  },
  {
   "cell_type": "code",
   "execution_count": null,
   "id": "cell-lec31-49",
   "metadata": {},
   "outputs": [],
   "source": [
    "shotput = Table.read_table('shotput.csv')\n",
    "shotput"
   ]
  },
  {
   "cell_type": "code",
   "execution_count": null,
   "id": "cell-lec31-50",
   "metadata": {},
   "outputs": [],
   "source": [
    "shotput.scatter('Weight Lifted')"
   ]
  },
  {
   "cell_type": "code",
   "execution_count": null,
   "id": "cell-lec31-51",
   "metadata": {},
   "outputs": [],
   "source": [
    "def shotput_linear_rmse(any_slope, any_intercept):\n",
    "    x = shotput.column('Weight Lifted')\n",
    "    y = shotput.column('Shot Put Distance')\n",
    "    estimate = any_slope*x + any_intercept\n",
    "    return np.sqrt(np.mean((y - estimate) ** 2))"
   ]
  },
  {
   "cell_type": "code",
   "execution_count": null,
   "id": "cell-lec31-52",
   "metadata": {},
   "outputs": [],
   "source": [
    "best_line = minimize(shotput_linear_rmse)\n",
    "best_line"
   ]
  },
  {
   "cell_type": "code",
   "execution_count": null,
   "id": "cell-lec31-53",
   "metadata": {},
   "outputs": [],
   "source": [
    "weights = shotput.column(0)"
   ]
  },
  {
   "cell_type": "code",
   "execution_count": null,
   "id": "cell-lec31-54",
   "metadata": {},
   "outputs": [],
   "source": [
    "linear_fit = best_line.item(0)*weights + best_line.item(1)\n",
    "\n",
    "shotput.with_column(\n",
    "    'Best Line', linear_fit\n",
    ").scatter(0)"
   ]
  },
  {
   "cell_type": "markdown",
   "id": "cell-lec31-55",
   "metadata": {},
   "source": [
    "**Quadratic Function**\n",
    "\n",
    "$$\n",
    "f(x) ~=~ ax^2 + bx + c\n",
    "$$\n",
    "for constants $a$, $b$, and $c$.\n",
    "\n"
   ]
  },
  {
   "cell_type": "code",
   "execution_count": null,
   "id": "cell-lec31-56",
   "metadata": {},
   "outputs": [],
   "source": [
    "def shotput_quadratic_rmse(a, b, c):\n",
    "    x = shotput.column('Weight Lifted')\n",
    "    y = shotput.column('Shot Put Distance')\n",
    "    estimate = a*(x**2) + b*x + c\n",
    "    return np.sqrt(np.mean((y - estimate) ** 2))"
   ]
  },
  {
   "cell_type": "code",
   "execution_count": null,
   "id": "cell-lec31-57",
   "metadata": {},
   "outputs": [],
   "source": [
    "best_quad = minimize(shotput_quadratic_rmse)\n",
    "best_quad"
   ]
  },
  {
   "cell_type": "code",
   "execution_count": null,
   "id": "cell-lec31-58",
   "metadata": {},
   "outputs": [],
   "source": [
    "# x = weight lifted = 100 kg\n",
    "# Then predicted shot put distance:\n",
    "\n",
    "(-0.00104)*(100**2) + 0.2827*100 - 1.5318"
   ]
  },
  {
   "cell_type": "code",
   "execution_count": null,
   "id": "cell-lec31-59",
   "metadata": {},
   "outputs": [],
   "source": [
    "quad_fit = best_quad.item(0)*(weights**2) + best_quad.item(1)*weights + best_quad.item(2)"
   ]
  },
  {
   "cell_type": "code",
   "execution_count": null,
   "id": "cell-lec31-60",
   "metadata": {},
   "outputs": [],
   "source": [
    "shotput.with_column('Best Quadratic Curve', quad_fit).scatter(0)"
   ]
  },
  {
   "cell_type": "code",
   "execution_count": null,
   "id": "cell-lec31-61",
   "metadata": {},
   "outputs": [],
   "source": []
  }
 ],
 "metadata": {
  "kernelspec": {
   "display_name": "Python 3 (ipykernel)",
   "language": "python",
   "name": "python3"
  },
  "language_info": {
   "codemirror_mode": {
    "name": "ipython",
    "version": 3
   },
   "file_extension": ".py",
   "mimetype": "text/x-python",
   "name": "python",
   "nbconvert_exporter": "python",
   "pygments_lexer": "ipython3",
   "version": "3.10.11"
  }
 },
 "nbformat": 4,
 "nbformat_minor": 5
}
