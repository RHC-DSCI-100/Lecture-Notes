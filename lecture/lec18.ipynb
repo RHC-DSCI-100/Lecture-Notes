{
 "cells": [
  {
   "cell_type": "code",
   "execution_count": 2,
   "id": "cell-lec18-0",
   "metadata": {},
   "outputs": [],
   "source": [
    "from datascience import *\n",
    "import numpy as np\n",
    "\n",
    "%matplotlib inline\n",
    "import matplotlib.pyplot as plots\n",
    "plots.style.use('fivethirtyeight')"
   ]
  },
  {
   "cell_type": "markdown",
   "id": "f5fdd688-ab99-4de0-a275-93bf9a9f4f41",
   "metadata": {},
   "source": [
    "# Hypothesis Testing #\n",
    "\n",
    "A test that chooses between two views of how data were generated.\n",
    "\n",
    "Review the models we've seen so far: </br>\n",
    "* Talledega County Jury: What were the hypotheses?\n",
    "* Mendel's flowers: What were the hypotheses?\n",
    "* Alameda Jury: What were the hypotheses?\n",
    "\n",
    "Each model has two hypotheses:</br>\n",
    "Null Hypothesis:\n",
    "\n",
    "Alternative Hypothesis: \n",
    "\n",
    "The statitician chooses a statistic to test the hypotheses: </br>\n",
    "Test Statistic: \n",
    "* Talledega County Jury: What was the test statistic?\n",
    "* Mendel's flowers: What was the test statistic?\n",
    "* Alameda Jury: What was the test statistic?\n",
    "\n",
    "The model is run as a simulation many times assuming the null is true. \n",
    "\n",
    "Language of Hypothesis Tests:</br>\n",
    "If data is not consistent with the null:\n",
    "\n",
    "If data is consistent with the null:\n",
    "\n",
    "We will not say"
   ]
  },
  {
   "cell_type": "markdown",
   "id": "cell-lec18-1",
   "metadata": {},
   "source": [
    "## The GSI's Defense ##"
   ]
  },
  {
   "cell_type": "markdown",
   "id": "5710309f",
   "metadata": {},
   "source": [
    "The students of one of the TA's at Berkeley  averaged a lower score than the the cohorts of the other TA's.\n",
    "The TA said it was by chance. We can run statistical anaysis to see if that's true. \n",
    "\n",
    "What are the two hypotheses?\n",
    "\n",
    "What might be a good test statistic for this test?"
   ]
  },
  {
   "cell_type": "code",
   "execution_count": 3,
   "id": "cell-lec18-2",
   "metadata": {
    "scrolled": true
   },
   "outputs": [
    {
     "data": {
      "text/html": [
       "<table border=\"1\" class=\"dataframe\">\n",
       "    <thead>\n",
       "        <tr>\n",
       "            <th>Section</th> <th>Midterm</th>\n",
       "        </tr>\n",
       "    </thead>\n",
       "    <tbody>\n",
       "        <tr>\n",
       "            <td>1      </td> <td>22     </td>\n",
       "        </tr>\n",
       "        <tr>\n",
       "            <td>2      </td> <td>12     </td>\n",
       "        </tr>\n",
       "        <tr>\n",
       "            <td>2      </td> <td>23     </td>\n",
       "        </tr>\n",
       "        <tr>\n",
       "            <td>2      </td> <td>14     </td>\n",
       "        </tr>\n",
       "        <tr>\n",
       "            <td>1      </td> <td>20     </td>\n",
       "        </tr>\n",
       "        <tr>\n",
       "            <td>3      </td> <td>25     </td>\n",
       "        </tr>\n",
       "        <tr>\n",
       "            <td>4      </td> <td>19     </td>\n",
       "        </tr>\n",
       "        <tr>\n",
       "            <td>1      </td> <td>24     </td>\n",
       "        </tr>\n",
       "        <tr>\n",
       "            <td>5      </td> <td>8      </td>\n",
       "        </tr>\n",
       "        <tr>\n",
       "            <td>6      </td> <td>14     </td>\n",
       "        </tr>\n",
       "    </tbody>\n",
       "</table>\n",
       "<p>... (349 rows omitted)</p>"
      ],
      "text/plain": [
       "Section | Midterm\n",
       "1       | 22\n",
       "2       | 12\n",
       "2       | 23\n",
       "2       | 14\n",
       "1       | 20\n",
       "3       | 25\n",
       "4       | 19\n",
       "1       | 24\n",
       "5       | 8\n",
       "6       | 14\n",
       "... (349 rows omitted)"
      ]
     },
     "execution_count": 3,
     "metadata": {},
     "output_type": "execute_result"
    }
   ],
   "source": [
    "#The scores of all the students on the midterm \n",
    "#and which GSI they were assigned to.\n",
    "scores = Table.read_table('scores_by_section.csv')\n",
    "scores"
   ]
  },
  {
   "cell_type": "code",
   "execution_count": 4,
   "id": "cell-lec18-3",
   "metadata": {},
   "outputs": [
    {
     "data": {
      "text/html": [
       "<table border=\"1\" class=\"dataframe\">\n",
       "    <thead>\n",
       "        <tr>\n",
       "            <th>Section</th> <th>count</th>\n",
       "        </tr>\n",
       "    </thead>\n",
       "    <tbody>\n",
       "        <tr>\n",
       "            <td>1      </td> <td>32   </td>\n",
       "        </tr>\n",
       "        <tr>\n",
       "            <td>2      </td> <td>32   </td>\n",
       "        </tr>\n",
       "        <tr>\n",
       "            <td>3      </td> <td>27   </td>\n",
       "        </tr>\n",
       "        <tr>\n",
       "            <td>4      </td> <td>30   </td>\n",
       "        </tr>\n",
       "        <tr>\n",
       "            <td>5      </td> <td>33   </td>\n",
       "        </tr>\n",
       "        <tr>\n",
       "            <td>6      </td> <td>32   </td>\n",
       "        </tr>\n",
       "        <tr>\n",
       "            <td>7      </td> <td>24   </td>\n",
       "        </tr>\n",
       "        <tr>\n",
       "            <td>8      </td> <td>29   </td>\n",
       "        </tr>\n",
       "        <tr>\n",
       "            <td>9      </td> <td>30   </td>\n",
       "        </tr>\n",
       "        <tr>\n",
       "            <td>10     </td> <td>34   </td>\n",
       "        </tr>\n",
       "    </tbody>\n",
       "</table>\n",
       "<p>... (2 rows omitted)</p>"
      ],
      "text/plain": [
       "Section | count\n",
       "1       | 32\n",
       "2       | 32\n",
       "3       | 27\n",
       "4       | 30\n",
       "5       | 33\n",
       "6       | 32\n",
       "7       | 24\n",
       "8       | 29\n",
       "9       | 30\n",
       "10      | 34\n",
       "... (2 rows omitted)"
      ]
     },
     "execution_count": 4,
     "metadata": {},
     "output_type": "execute_result"
    }
   ],
   "source": [
    "scores.group('Section')"
   ]
  },
  {
   "cell_type": "code",
   "execution_count": 5,
   "id": "cell-lec18-4",
   "metadata": {},
   "outputs": [
    {
     "data": {
      "text/html": [
       "<table border=\"1\" class=\"dataframe\">\n",
       "    <thead>\n",
       "        <tr>\n",
       "            <th>Section</th> <th>Midterm average</th>\n",
       "        </tr>\n",
       "    </thead>\n",
       "    <tbody>\n",
       "        <tr>\n",
       "            <td>1      </td> <td>15.5938        </td>\n",
       "        </tr>\n",
       "        <tr>\n",
       "            <td>2      </td> <td>15.125         </td>\n",
       "        </tr>\n",
       "        <tr>\n",
       "            <td>3      </td> <td>13.6667        </td>\n",
       "        </tr>\n",
       "        <tr>\n",
       "            <td>4      </td> <td>14.7667        </td>\n",
       "        </tr>\n",
       "        <tr>\n",
       "            <td>5      </td> <td>17.4545        </td>\n",
       "        </tr>\n",
       "        <tr>\n",
       "            <td>6      </td> <td>15.0312        </td>\n",
       "        </tr>\n",
       "        <tr>\n",
       "            <td>7      </td> <td>16.625         </td>\n",
       "        </tr>\n",
       "        <tr>\n",
       "            <td>8      </td> <td>16.3103        </td>\n",
       "        </tr>\n",
       "        <tr>\n",
       "            <td>9      </td> <td>14.5667        </td>\n",
       "        </tr>\n",
       "        <tr>\n",
       "            <td>10     </td> <td>15.2353        </td>\n",
       "        </tr>\n",
       "        <tr>\n",
       "            <td>11     </td> <td>15.8077        </td>\n",
       "        </tr>\n",
       "        <tr>\n",
       "            <td>12     </td> <td>15.7333        </td>\n",
       "        </tr>\n",
       "    </tbody>\n",
       "</table>"
      ],
      "text/plain": [
       "<IPython.core.display.HTML object>"
      ]
     },
     "metadata": {},
     "output_type": "display_data"
    }
   ],
   "source": [
    "# Which group seems to be significantly different?\n",
    "\n",
    "scores.group('Section', np.average).show()"
   ]
  },
  {
   "cell_type": "code",
   "execution_count": 14,
   "id": "cell-lec18-5",
   "metadata": {},
   "outputs": [
    {
     "data": {
      "text/plain": [
       "13.6667"
      ]
     },
     "execution_count": 14,
     "metadata": {},
     "output_type": "execute_result"
    }
   ],
   "source": [
    "# assign the lowest average to this variable.\n",
    "# Complete the code\n",
    "observed_average = 13.6667\n",
    "observed_average"
   ]
  },
  {
   "cell_type": "code",
   "execution_count": 6,
   "id": "cell-lec18-6",
   "metadata": {},
   "outputs": [
    {
     "data": {
      "text/html": [
       "<table border=\"1\" class=\"dataframe\">\n",
       "    <thead>\n",
       "        <tr>\n",
       "            <th>Section</th> <th>Midterm</th>\n",
       "        </tr>\n",
       "    </thead>\n",
       "    <tbody>\n",
       "        <tr>\n",
       "            <td>5      </td> <td>25     </td>\n",
       "        </tr>\n",
       "        <tr>\n",
       "            <td>3      </td> <td>9      </td>\n",
       "        </tr>\n",
       "        <tr>\n",
       "            <td>5      </td> <td>10     </td>\n",
       "        </tr>\n",
       "        <tr>\n",
       "            <td>2      </td> <td>16     </td>\n",
       "        </tr>\n",
       "        <tr>\n",
       "            <td>3      </td> <td>22     </td>\n",
       "        </tr>\n",
       "        <tr>\n",
       "            <td>11     </td> <td>24     </td>\n",
       "        </tr>\n",
       "        <tr>\n",
       "            <td>5      </td> <td>7      </td>\n",
       "        </tr>\n",
       "        <tr>\n",
       "            <td>1      </td> <td>20     </td>\n",
       "        </tr>\n",
       "        <tr>\n",
       "            <td>9      </td> <td>17     </td>\n",
       "        </tr>\n",
       "        <tr>\n",
       "            <td>4      </td> <td>21     </td>\n",
       "        </tr>\n",
       "    </tbody>\n",
       "</table>\n",
       "<p>... (17 rows omitted)</p>"
      ],
      "text/plain": [
       "Section | Midterm\n",
       "5       | 25\n",
       "3       | 9\n",
       "5       | 10\n",
       "2       | 16\n",
       "3       | 22\n",
       "11      | 24\n",
       "5       | 7\n",
       "1       | 20\n",
       "9       | 17\n",
       "4       | 21\n",
       "... (17 rows omitted)"
      ]
     },
     "execution_count": 6,
     "metadata": {},
     "output_type": "execute_result"
    }
   ],
   "source": [
    "random_sample = scores.sample(27, with_replacement=False)\n",
    "random_sample"
   ]
  },
  {
   "cell_type": "code",
   "execution_count": 7,
   "id": "cell-lec18-7",
   "metadata": {},
   "outputs": [
    {
     "data": {
      "text/plain": [
       "16.0"
      ]
     },
     "execution_count": 7,
     "metadata": {},
     "output_type": "execute_result"
    }
   ],
   "source": [
    "np.average(random_sample.column('Midterm'))"
   ]
  },
  {
   "cell_type": "code",
   "execution_count": 15,
   "id": "cell-lec18-8",
   "metadata": {},
   "outputs": [],
   "source": [
    "# Simulate one value of the test statistic \n",
    "# under the hypothesis that the section is like a random sample from the class\n",
    "\n",
    "def random_sample_midterm_avg():\n",
    "    random_sample = scores.sample(27, with_replacement = False)\n",
    "    return np.average(random_sample.column('Midterm'))"
   ]
  },
  {
   "cell_type": "code",
   "execution_count": 16,
   "id": "cell-lec18-9",
   "metadata": {},
   "outputs": [],
   "source": [
    "# Simulate 50,000 copies of the test statistic\n",
    "# Complete the code.\n",
    "sample_averages = make_array()\n",
    "\n",
    "for i in np.arange(50000):\n",
    "    sample_averages = np.append(sample_averages, random_sample_midterm_avg())    "
   ]
  },
  {
   "cell_type": "markdown",
   "id": "cell-lec18-10",
   "metadata": {},
   "source": [
    "## Our Decision\n",
    "\n",
    "Simulate the test statistic under the null hypothesis; draw the histogram of the simulated values.</br>\n",
    "This displays the empirical distribution of the statistic under the null hypothesis and shows the likely values.\n",
    "\n",
    "Is the data consistent or not? What is inconsistent?\n",
    "\n",
    "Inconsistent with the null: The observed statistic is located ...\n"
   ]
  },
  {
   "cell_type": "code",
   "execution_count": 17,
   "id": "cell-lec18-11",
   "metadata": {
    "scrolled": true
   },
   "outputs": [
    {
     "data": {
      "image/png": "[encoded data removed]",
      "text/plain": [
       "<Figure size 600x400 with 1 Axes>"
      ]
     },
     "metadata": {},
     "output_type": "display_data"
    }
   ],
   "source": [
    "# Compare the simulated distribution of the statistic\n",
    "# and the actual observed statistic\n",
    "averages_tbl = Table().with_column('Random Sample Average', sample_averages)\n",
    "averages_tbl.hist(bins = 20)\n",
    "plots.scatter(observed_average, -0.01, color='red', s=120);"
   ]
  },
  {
   "cell_type": "markdown",
   "id": "4567c7cf",
   "metadata": {},
   "source": [
    "### P-Value\n",
    "Formal name: observed significance level</br>\n",
    "The P-value is the chance under the null hypothesis that the test statistic is equal to the value that was observed in the data or is even further in the direction of the alternative. (P-value: probability value)\n",
    "\n",
    "The observed statistic being \"In the Tail\" as an area. (Probability of a continuous variable is given as the area under the curve from the value on.)\n",
    "\n",
    "Statistically Significant:\n",
    "\n",
    "Highly Statistically Significant:\n"
   ]
  },
  {
   "cell_type": "markdown",
   "id": "cell-lec18-12",
   "metadata": {},
   "source": [
    "#### Approach 1"
   ]
  },
  {
   "cell_type": "code",
   "execution_count": 18,
   "id": "cell-lec18-13",
   "metadata": {},
   "outputs": [
    {
     "data": {
      "text/plain": [
       "0.057639999999999997"
      ]
     },
     "execution_count": 18,
     "metadata": {},
     "output_type": "execute_result"
    }
   ],
   "source": [
    "# (1) Calculate the p-value: simulation area beyond observed value.\n",
    "# How many times ? divided by the number of trials.\n",
    "np.count_nonzero(sample_averages <= observed_average) / 50000\n",
    "# (2) See if this is less than 5%"
   ]
  },
  {
   "cell_type": "markdown",
   "id": "cell-lec18-14",
   "metadata": {},
   "source": [
    "#### Approach 2"
   ]
  },
  {
   "cell_type": "code",
   "execution_count": 19,
   "id": "cell-lec18-15",
   "metadata": {},
   "outputs": [
    {
     "data": {
      "text/plain": [
       "13.592592592592593"
      ]
     },
     "execution_count": 19,
     "metadata": {},
     "output_type": "execute_result"
    }
   ],
   "source": [
    "# (1) Find simulated value corresponding to 5% of 50,000 = 2500\n",
    "five_percent_point = averages_tbl.sort(0).column(0).item(2500)\n",
    "five_percent_point"
   ]
  },
  {
   "cell_type": "code",
   "execution_count": 20,
   "id": "cell-lec18-16",
   "metadata": {},
   "outputs": [
    {
     "data": {
      "text/plain": [
       "13.6667"
      ]
     },
     "execution_count": 20,
     "metadata": {},
     "output_type": "execute_result"
    }
   ],
   "source": [
    "# (2) See if this value is greater than observed value\n",
    "observed_average"
   ]
  },
  {
   "cell_type": "markdown",
   "id": "cell-lec18-17",
   "metadata": {},
   "source": [
    "### Visual Representation"
   ]
  },
  {
   "cell_type": "code",
   "execution_count": 21,
   "id": "cell-lec18-18",
   "metadata": {},
   "outputs": [
    {
     "data": {
      "image/png": "[encoded data removed]",
      "text/plain": [
       "<Figure size 600x400 with 1 Axes>"
      ]
     },
     "metadata": {},
     "output_type": "display_data"
    }
   ],
   "source": [
    "#Create a histogram with 20 bins from the data.\n",
    "\n",
    "averages_tbl.hist(bins = 20)\n",
    "\n",
    "#This code will plot the observed avereage and a cutoff line for 5%.\n",
    "plots.plot([five_percent_point, five_percent_point], [0, 0.35], color='gold', lw=2)\n",
    "plots.title('Area to the left of the gold line: 5%');\n",
    "plots.scatter(observed_average, -0.01, color='red', s=120);"
   ]
  },
  {
   "cell_type": "markdown",
   "id": "0dca787e",
   "metadata": {},
   "source": [
    "### Is the GSI's claim that the average being low was by chance statistically true?\n",
    "Insert a markdown cell below to answer the question. \n"
   ]
  },
  {
   "cell_type": "code",
   "execution_count": null,
   "id": "ea32cd20",
   "metadata": {},
   "outputs": [],
   "source": []
  }
 ],
 "metadata": {
  "anaconda-cloud": {},
  "kernelspec": {
   "display_name": "Python 3 (ipykernel)",
   "language": "python",
   "name": "python3"
  },
  "language_info": {
   "codemirror_mode": {
    "name": "ipython",
    "version": 3
   },
   "file_extension": ".py",
   "mimetype": "text/x-python",
   "name": "python",
   "nbconvert_exporter": "python",
   "pygments_lexer": "ipython3",
   "version": "3.11.13"
  }
 },
 "nbformat": 4,
 "nbformat_minor": 5
}
