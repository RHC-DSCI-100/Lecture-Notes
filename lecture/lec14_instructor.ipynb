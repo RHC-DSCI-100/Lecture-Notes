{
 "cells": [
  {
   "cell_type": "code",
   "execution_count": null,
   "id": "cell-lec14-0",
   "metadata": {},
   "outputs": [],
   "source": [
    "from datascience import *\n",
    "%matplotlib inline\n",
    "path_data = '../../../assets/data/'\n",
    "import matplotlib.pyplot as plt\n",
    "plt.style.use('fivethirtyeight')\n",
    "import numpy as np\n",
    "import warnings\n",
    "warnings.simplefilter(action='ignore', category=DeprecationWarning)"
   ]
  },
  {
   "cell_type": "markdown",
   "id": "c537714d-764a-4580-8deb-8bf91876f994",
   "metadata": {},
   "source": [
    "## Probabilty Rules\n",
    "\n",
    "Your Notes Here\n",
    "\n",
    "$\\$LaTeX\\$$\n",
    "\n",
    "### P(event) reads as Probability of Event\n",
    "\n",
    "$P(A)=\\dfrac{\\text{number of ways A can happen}}{\\text{number of all possible outcomes}}$\n",
    "\n",
    "$P(A)=\\dfrac{\\text{how many times A happened}}{\\text{number of all trials}}$\n",
    "\n",
    "### Not Event: Probability of Event Not Happening\n",
    "\n",
    "$P(notEvent)=1-P(event)$\n",
    "\n",
    "### And Event: Multiplication Rule\n",
    "\n",
    "**Independent**\n",
    "\n",
    "$P(AandB)=P(A)*P(B)$\n",
    "\n",
    "**Dependent**\n",
    "\n",
    "$P(AandB)=P(A)*P(B|A)$\n",
    "\n",
    "### Or Event: Addition Rule\n",
    "\n",
    "**Mutually Exclusive**\n",
    "\n",
    "$P(AorB)=P(A)+P(B)$\n",
    "\n",
    "**Not Mutually Exclusive**\n",
    "\n",
    "$P(AorB)=P(A)+P(B)-P(AandB)$\n",
    "\n",
    "### At Least One\n",
    "\n",
    "$P(atLeastOne)=1-P(none)$\n",
    "\n",
    "$P(none)=P(notA)^n$"
   ]
  },
  {
   "cell_type": "markdown",
   "id": "40ffa9f2",
   "metadata": {},
   "source": [
    "## Simulations\n",
    "\n",
    "### Simulating the roll of a die"
   ]
  },
  {
   "cell_type": "code",
   "execution_count": null,
   "id": "ac61f020",
   "metadata": {},
   "outputs": [],
   "source": [
    "die_faces = np.arange(1, 7)"
   ]
  },
  {
   "cell_type": "code",
   "execution_count": null,
   "id": "92c81a10",
   "metadata": {},
   "outputs": [],
   "source": [
    "np.random.choice(die_faces)"
   ]
  },
  {
   "cell_type": "markdown",
   "id": "cell-lec14-1",
   "metadata": {},
   "source": [
    "## Playing the Dice Game\n",
    "\n",
    "**What are the rules of this game based on the code?**\n",
    "\n",
    "Your Rules Here"
   ]
  },
  {
   "cell_type": "code",
   "execution_count": null,
   "id": "57040e19",
   "metadata": {},
   "outputs": [],
   "source": [
    "def one_round(my_roll, your_roll):\n",
    "    if my_roll > your_roll:\n",
    "        return 1\n",
    "    elif your_roll > my_roll:\n",
    "        return -1\n",
    "    elif your_roll == my_roll:\n",
    "        return 0\n",
    "\n",
    "def simulate_one_round():\n",
    "    my_roll = np.random.choice(die_faces)\n",
    "    your_roll = np.random.choice(die_faces)\n",
    "    return one_round(my_roll, your_roll)"
   ]
  },
  {
   "cell_type": "code",
   "execution_count": null,
   "id": "50761f00",
   "metadata": {},
   "outputs": [],
   "source": [
    "simulate_one_round()"
   ]
  },
  {
   "cell_type": "markdown",
   "id": "cell-lec14-10",
   "metadata": {
    "collapsed": true,
    "jupyter": {
     "outputs_hidden": true
    }
   },
   "source": [
    "## Simulating heads in 1000 coin tosses"
   ]
  },
  {
   "cell_type": "code",
   "execution_count": null,
   "id": "cell-lec14-11",
   "metadata": {},
   "outputs": [],
   "source": [
    "coin = make_array('heads', 'tails')"
   ]
  },
  {
   "cell_type": "code",
   "execution_count": null,
   "id": "cell-lec14-12",
   "metadata": {},
   "outputs": [],
   "source": [
    "coin_choices = np.random.choice(coin, 1000)\n",
    "coin_heads = sum(coin_choices == 'heads')\n",
    "coin_tails = sum(coin_choices == 'tails')\n",
    "\n",
    "print(f\"Heads: {coin_heads}\")\n",
    "print(f\"Tails: {coin_tails}\")\n",
    "print(coin_choices)"
   ]
  },
  {
   "cell_type": "code",
   "execution_count": null,
   "id": "cell-lec14-13",
   "metadata": {},
   "outputs": [],
   "source": [
    "# Simulate one outcome\n",
    "\n",
    "def num_heads(n):\n",
    "    return sum(np.random.choice(coin, n) == 'heads')"
   ]
  },
  {
   "cell_type": "code",
   "execution_count": null,
   "id": "cell-lec14-14",
   "metadata": {},
   "outputs": [],
   "source": [
    "# Decide how many times you want to repeat the experiment\n",
    "\n",
    "repetitions = 10000"
   ]
  },
  {
   "cell_type": "code",
   "execution_count": null,
   "id": "cell-lec14-15",
   "metadata": {},
   "outputs": [],
   "source": [
    "# Simulate that many outcomes\n",
    "\n",
    "outcomes = make_array()\n",
    "\n",
    "for i in np.arange(repetitions):\n",
    "    outcomes = np.append(outcomes, num_heads(100))"
   ]
  },
  {
   "cell_type": "code",
   "execution_count": null,
   "id": "cell-lec14-16",
   "metadata": {},
   "outputs": [],
   "source": [
    "heads = Table().with_column('Heads', outcomes)\n",
    "heads.hist(bins = np.arange(29.5, 70.6))"
   ]
  },
  {
   "cell_type": "markdown",
   "id": "6039a051-1a82-415e-bd98-98941b45186b",
   "metadata": {},
   "source": [
    "### What is the experiment you just did? What does the histogram display?\n",
    "\n",
    "Your notes here."
   ]
  },
  {
   "cell_type": "markdown",
   "id": "cell-lec14-17",
   "metadata": {},
   "source": [
    "# Lecture 14 #"
   ]
  },
  {
   "cell_type": "markdown",
   "id": "cell-lec14-18",
   "metadata": {},
   "source": [
    "Box contains cards labeled R, B, and G. I **draw two cards at random without replacement**."
   ]
  },
  {
   "cell_type": "code",
   "execution_count": null,
   "id": "cell-lec14-20",
   "metadata": {},
   "outputs": [],
   "source": [
    "#Create an array that contains the given cards\n",
    "items = make_array('R', 'B', 'G')\n",
    "items"
   ]
  },
  {
   "cell_type": "markdown",
   "id": "cell-lec14-19",
   "metadata": {},
   "source": [
    "### Chance of two events both occurring ###\n",
    "What is the chance that I get G followed by B?\n",
    "\n",
    "(both \"get G first\" and \"get B second\")"
   ]
  },
  {
   "cell_type": "code",
   "execution_count": null,
   "id": "cell-lec14-21",
   "metadata": {},
   "outputs": [],
   "source": [
    "#Define a function that will calculate an and probability\n",
    "def probability_of_selection(arr_1, item_1, item_2):\n",
    "     # Validate not an impossible event\n",
    "    if item_1 not in arr_1 or item_2 not in arr_1 or item_1 == item_2:\n",
    "        return 0\n",
    "    \n",
    "    # Compute Probability 1\n",
    "    prob_1 =  np.count_nonzero(arr_1 == item_1) / len(arr_1)\n",
    "    \n",
    "    # Compute Probability 2\n",
    "    arr_2 = make_array() # new array without item_1\n",
    "    for item in arr_1:\n",
    "        if item != item_1:\n",
    "            arr_2 = np.append(arr_2, item)\n",
    "    prob_2 = np.count_nonzero(arr_2 == item_2) / len(arr_2)\n",
    "    \n",
    "    #Compute Total Probability\n",
    "    return prob_1 * prob_2\n",
    "    "
   ]
  },
  {
   "cell_type": "code",
   "execution_count": null,
   "id": "3950f0f4",
   "metadata": {},
   "outputs": [],
   "source": [
    "#Use your function to answer the question\n",
    "result = probability_of_selection(items, 'G', 'B')\n",
    "result"
   ]
  },
  {
   "cell_type": "code",
   "execution_count": null,
   "id": "858e8ed1",
   "metadata": {},
   "outputs": [],
   "source": [
    "#Probabilities are often stated as fractions. Limiting the denominator helps with fraction display.\n",
    "from fractions import Fraction\n",
    "f = Fraction(*result.as_integer_ratio())\n",
    "f = f.limit_denominator(100)\n",
    "print(f)"
   ]
  },
  {
   "cell_type": "markdown",
   "id": "c85d6f61",
   "metadata": {},
   "source": [
    "What is the chance that I get R followed by G?\n",
    "\n",
    "(both \"get R first\" and \"get G second\")"
   ]
  },
  {
   "cell_type": "code",
   "execution_count": null,
   "id": "65f52133",
   "metadata": {},
   "outputs": [],
   "source": [
    "result_rg = probability_of_selection(items, 'R', 'G')\n",
    "result_rg"
   ]
  },
  {
   "cell_type": "markdown",
   "id": "cell-lec14-22",
   "metadata": {},
   "source": [
    "### Chance of an event that can happen in multiple ways ###\n",
    "What is the chance that one of the ticket is G and the other is B? Meaning, the **order does not matter**. "
   ]
  },
  {
   "cell_type": "code",
   "execution_count": null,
   "id": "cell-lec14-23",
   "metadata": {},
   "outputs": [],
   "source": [
    "g_or_b = probability_of_selection(items, 'B', 'G') + probability_of_selection(items, 'G', 'B')\n",
    "g_or_b"
   ]
  },
  {
   "cell_type": "code",
   "execution_count": null,
   "id": "cell-lec14-24",
   "metadata": {},
   "outputs": [],
   "source": [
    "f = Fraction(*g_or_b.as_integer_ratio())\n",
    "f = f.limit_denominator(100)\n",
    "print (f)"
   ]
  },
  {
   "cell_type": "code",
   "execution_count": null,
   "id": "cell-lec14-25",
   "metadata": {},
   "outputs": [],
   "source": [
    "def create_deck():\n",
    "    \"Function: Create a Deck of 52 Cards\"\n",
    "\n",
    "    # Declare your deck (empty), array of suits and array of card face values\n",
    "    deck = make_array()\n",
    "    suit = make_array('H','D','S','C')\n",
    "    face = make_array('A', '2', '3', '4', '5', '6', '7', '8', '9', '10', 'J', 'Q', 'K')\n",
    "\n",
    "    # Loop over the suit\n",
    "    for s in suit:\n",
    "        # Create a temporary list the same length as the face cards\n",
    "        temp = [s] * len(face)\n",
    "\n",
    "        # Convert the temporary list to an array and merge with the face cards\n",
    "        suit_deck = make_array(*temp) + face\n",
    "\n",
    "        # Append the suit to the deck\n",
    "        deck = np.append(deck, suit_deck)\n",
    "\n",
    "    return deck\n",
    "\n",
    "example = []\n",
    "\n",
    "# Create a Deck of Cards\n",
    "deck = create_deck()\n",
    "example.append(len(deck))\n",
    "\n",
    "# How many hearts are in the deck?\n",
    "count_h = sum(np.char.count(deck, 'H'))\n",
    "example.append(count_h)\n",
    "\n",
    "# How many 10's are in the deck?\n",
    "count_10 = sum(np.char.count(deck, '10'))\n",
    "example.append(count_10)\n",
    "\n",
    "# Remove 10 of Hearts\n",
    "indices_to_remove = np.where(deck == 'H10')[0]\n",
    "deck = np.delete(deck, indices_to_remove)\n",
    "\n",
    "# How many cards are in the deck?\n",
    "example.append(len(deck))\n",
    "\n",
    "# How many 10's are in the deck?\n",
    "count_10 = sum(np.char.count(deck, '10'))\n",
    "example.append(count_10)\n",
    "\n",
    "print(f\"Deck: {deck}\")\n",
    "print(f\"Counts: {example}\")"
   ]
  },
  {
   "cell_type": "markdown",
   "id": "cell-lec14-26",
   "metadata": {},
   "source": [
    "### Challenge Question 1 ###\n",
    "\n",
    "**Without calculation:** What is the chance that the second card drawn is B?"
   ]
  },
  {
   "cell_type": "code",
   "execution_count": null,
   "id": "46932c1a",
   "metadata": {},
   "outputs": [],
   "source": []
  },
  {
   "cell_type": "markdown",
   "id": "cell-lec14-29",
   "metadata": {},
   "source": [
    "### Challenge Question 2 ###\n",
    "\n",
    "I have a deck of 52 cards. It contains four aces, one of which is the ace of hearts.\n",
    "\n",
    "I shuffle the deck and deal 13 cards. \n",
    "\n",
    "**Without calculation:** What is the chance that the 12th card is the ace of hearts?"
   ]
  },
  {
   "cell_type": "code",
   "execution_count": null,
   "id": "27dfe9ec",
   "metadata": {},
   "outputs": [],
   "source": []
  },
  {
   "cell_type": "markdown",
   "id": "cell-lec14-30",
   "metadata": {},
   "source": [
    "### Chance of At Least One Success in Independently Repeated Success/Failure Trials ###"
   ]
  },
  {
   "cell_type": "code",
   "execution_count": null,
   "id": "cell-lec14-31",
   "metadata": {},
   "outputs": [],
   "source": [
    "# Chance of no sixes in 4 rolls of a die\n",
    "\n",
    "prob_no_sixes_in_four_rolls = (5/6) ** 4\n",
    "prob_no_sixes_in_four_rolls"
   ]
  },
  {
   "cell_type": "code",
   "execution_count": null,
   "id": "cell-lec14-32",
   "metadata": {},
   "outputs": [],
   "source": [
    "# Chance of at least one six in 4 rolls of a die\n",
    "\n",
    "prob_one_six_in_four_rolls = 1 - prob_no_sixes_in_four_rolls\n",
    "prob_one_six_in_four_rolls"
   ]
  },
  {
   "cell_type": "code",
   "execution_count": null,
   "id": "cell-lec14-33",
   "metadata": {},
   "outputs": [],
   "source": [
    "# Chance of at least one six in n rolls of a die\n",
    "\n",
    "rolls = np.arange(1, 51, 1)\n",
    "results = Table().with_columns(\n",
    "    'Rolls', rolls,\n",
    "    'Chance of at least one 6', 1 - (5/6)**rolls\n",
    ")\n",
    "results"
   ]
  },
  {
   "cell_type": "code",
   "execution_count": null,
   "id": "cell-lec14-34",
   "metadata": {},
   "outputs": [],
   "source": [
    "results.scatter('Rolls')"
   ]
  },
  {
   "cell_type": "markdown",
   "id": "cell-lec14-35",
   "metadata": {},
   "source": [
    "### The Monty Hall Problem ###"
   ]
  },
  {
   "cell_type": "code",
   "execution_count": null,
   "id": "cell-lec14-36",
   "metadata": {},
   "outputs": [],
   "source": [
    "goats = make_array('first goat', 'second goat')"
   ]
  },
  {
   "cell_type": "code",
   "execution_count": null,
   "id": "cell-lec14-37",
   "metadata": {},
   "outputs": [],
   "source": [
    "def other_goat(x):\n",
    "    if x == 'first goat':\n",
    "        return 'second goat'\n",
    "    elif x == 'second goat':\n",
    "        return 'first goat'"
   ]
  },
  {
   "cell_type": "code",
   "execution_count": null,
   "id": "cell-lec14-38",
   "metadata": {},
   "outputs": [],
   "source": [
    "[other_goat('first goat'), other_goat('second goat')]"
   ]
  },
  {
   "cell_type": "code",
   "execution_count": null,
   "id": "cell-lec14-39",
   "metadata": {},
   "outputs": [],
   "source": [
    "hidden_behind_doors = np.append(goats, 'car')\n",
    "hidden_behind_doors"
   ]
  },
  {
   "cell_type": "code",
   "execution_count": null,
   "id": "cell-lec14-40",
   "metadata": {},
   "outputs": [],
   "source": [
    "def monty_hall_game():\n",
    "    \"\"\"Return \n",
    "    [contestant's guess, what Monty reveals, what remains behind the other door]\"\"\"\n",
    "    \n",
    "    contestant_guess = np.random.choice(hidden_behind_doors)\n",
    "    \n",
    "    if contestant_guess == 'first goat':\n",
    "        return [contestant_guess, 'second goat', 'car']\n",
    "    \n",
    "    if contestant_guess == 'second goat':\n",
    "        return [contestant_guess, 'first goat', 'car']\n",
    "    \n",
    "    if contestant_guess == 'car':\n",
    "        revealed = np.random.choice(goats)\n",
    "        return [contestant_guess, revealed, other_goat(revealed)]"
   ]
  },
  {
   "cell_type": "code",
   "execution_count": null,
   "id": "cell-lec14-41",
   "metadata": {},
   "outputs": [],
   "source": [
    "monty_hall_game()"
   ]
  },
  {
   "cell_type": "code",
   "execution_count": null,
   "id": "cell-lec14-42",
   "metadata": {},
   "outputs": [],
   "source": [
    "games = Table(['Guess', 'Revealed', 'Remaining'])\n",
    "\n",
    "for i in np.arange(10000):\n",
    "    games.append(monty_hall_game())\n"
   ]
  },
  {
   "cell_type": "code",
   "execution_count": null,
   "id": "cell-lec14-43",
   "metadata": {},
   "outputs": [],
   "source": [
    "games.show(3)"
   ]
  },
  {
   "cell_type": "code",
   "execution_count": null,
   "id": "cell-lec14-44",
   "metadata": {},
   "outputs": [],
   "source": [
    "original_choice = games.group('Guess')\n",
    "original_choice"
   ]
  },
  {
   "cell_type": "code",
   "execution_count": null,
   "id": "cell-lec14-45",
   "metadata": {},
   "outputs": [],
   "source": [
    "remaining_door = games.group('Remaining')\n",
    "remaining_door"
   ]
  },
  {
   "cell_type": "code",
   "execution_count": null,
   "id": "cell-lec14-46",
   "metadata": {},
   "outputs": [],
   "source": [
    "joined = original_choice.join('Guess', remaining_door, 'Remaining')\n",
    "combined = joined.relabeled(0, 'Item').relabeled(1, 'Original Door').relabeled(2, 'Remaining Door')\n",
    "combined"
   ]
  },
  {
   "cell_type": "code",
   "execution_count": null,
   "id": "cell-lec14-47",
   "metadata": {},
   "outputs": [],
   "source": [
    "combined.barh(0)"
   ]
  },
  {
   "cell_type": "code",
   "execution_count": null,
   "id": "99a66050",
   "metadata": {},
   "outputs": [],
   "source": []
  }
 ],
 "metadata": {
  "kernelspec": {
   "display_name": "Python 3 (ipykernel)",
   "language": "python",
   "name": "python3"
  },
  "language_info": {
   "codemirror_mode": {
    "name": "ipython",
    "version": 3
   },
   "file_extension": ".py",
   "mimetype": "text/x-python",
   "name": "python",
   "nbconvert_exporter": "python",
   "pygments_lexer": "ipython3",
   "version": "3.11.13"
  }
 },
 "nbformat": 4,
 "nbformat_minor": 5
}
