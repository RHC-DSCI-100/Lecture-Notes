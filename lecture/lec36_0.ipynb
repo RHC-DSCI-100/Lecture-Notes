{
 "cells": [
  {
   "cell_type": "code",
   "execution_count": null,
   "id": "cell-lec36-0",
   "metadata": {},
   "outputs": [],
   "source": [
    "from datascience import *\n",
    "import numpy as np\n",
    "import matplotlib\n",
    "from mpl_toolkits.mplot3d import Axes3D\n",
    "%matplotlib inline\n",
    "import matplotlib.pyplot as plots\n",
    "plots.style.use('fivethirtyeight')"
   ]
  },
  {
   "cell_type": "code",
   "execution_count": null,
   "id": "cell-lec36-1",
   "metadata": {},
   "outputs": [],
   "source": [
    "ckd = Table.read_table('ckd.csv')\n",
    "ckd = ckd.relabeled('Blood Glucose Random', 'Glucose').select('Glucose', 'Hemoglobin', 'White Blood Cell Count', 'Class')"
   ]
  },
  {
   "cell_type": "code",
   "execution_count": null,
   "id": "cell-lec36-2",
   "metadata": {},
   "outputs": [],
   "source": [
    "patients = Table.read_table('breast-cancer.csv').drop('ID')\n",
    "\n",
    "def randomize_column(a):\n",
    "    return a + np.random.normal(0.0, 0.09, size=len(a))\n",
    "\n",
    "jittered = Table().with_columns([\n",
    "        'Bland Chromatin (jittered)', \n",
    "        randomize_column(patients.column('Bland Chromatin')),\n",
    "        'Single Epithelial Cell Size (jittered)', \n",
    "        randomize_column(patients.column('Single Epithelial Cell Size')),\n",
    "        'Class',\n",
    "        patients.column('Class')\n",
    "    ])"
   ]
  },
  {
   "cell_type": "raw",
   "id": "68b6e1aa",
   "metadata": {},
   "source": []
  },
  {
   "cell_type": "markdown",
   "id": "cell-lec36-3",
   "metadata": {},
   "source": [
    "# Google Science Fair\n",
    "\n",
    "Brittany Wenger, a 17-year-old high school student in 2012\n",
    " won by building a breast cancer classifier with 99% accuracy. \n",
    " \n",
    "After imaging, technicians went thru the images and measured certain attributes that helped determine whether the patient had breast cancer. \n",
    "\n",
    "Class of 0: Does not have cancer </br>\n",
    "Class of 1: Does have cancer"
   ]
  },
  {
   "cell_type": "code",
   "execution_count": null,
   "id": "cell-lec36-4",
   "metadata": {},
   "outputs": [],
   "source": [
    "# Import the patient data used to determine they had breast cancer. \n",
    "\n",
    "patients = Table.read_table('breast-cancer.csv').drop('ID')\n",
    "patients.show(5)"
   ]
  },
  {
   "cell_type": "code",
   "execution_count": null,
   "id": "cell-lec36-5",
   "metadata": {},
   "outputs": [],
   "source": [
    "# Generate a small table that shows have many patients have cancer and how many do not.\n",
    "# Do not reassign. \n",
    "\n",
    "patients.group('Class')"
   ]
  },
  {
   "cell_type": "code",
   "execution_count": null,
   "id": "cell-lec36-6",
   "metadata": {},
   "outputs": [],
   "source": [
    "# Generate a scatter comparing the Bland Chromatin and Single Epithelial Cell Size grouped by Class.\n",
    "\n",
    "patients.scatter('Bland Chromatin', 'Single Epithelial Cell Size', group='Class')"
   ]
  },
  {
   "cell_type": "markdown",
   "id": "6d7b5900",
   "metadata": {},
   "source": [
    "Does our graph look like it represents all 680+ patients?\n",
    "\n",
    "Why do you think that is?"
   ]
  },
  {
   "cell_type": "code",
   "execution_count": null,
   "id": "cell-lec36-7",
   "metadata": {},
   "outputs": [],
   "source": [
    "# Add 'noise' to the data points to reveal hidden values. \n",
    "\n",
    "jittered.scatter(0, 1, group='Class')"
   ]
  },
  {
   "cell_type": "markdown",
   "id": "cell-lec36-8",
   "metadata": {},
   "source": [
    "## Distance ##\n",
    "Use the distance formula from Pythagoras to determine the distance between two points. \n"
   ]
  },
  {
   "cell_type": "code",
   "execution_count": null,
   "id": "cell-lec36-9",
   "metadata": {},
   "outputs": [],
   "source": [
    "def distance(pt1, pt2):\n",
    "    \"\"\"Return the distance between two points, represented as arrays\"\"\"\n",
    "    return np.sqrt(sum((pt1 - pt2)**2))"
   ]
  },
  {
   "cell_type": "code",
   "execution_count": null,
   "id": "cell-lec36-10",
   "metadata": {},
   "outputs": [],
   "source": [
    "def row_distance(row1, row2):\n",
    "    \"\"\"Return the distance between two numerical rows of a table\"\"\"\n",
    "    return distance(np.array(row1), np.array(row2))"
   ]
  },
  {
   "cell_type": "code",
   "execution_count": null,
   "id": "cell-lec36-11",
   "metadata": {},
   "outputs": [],
   "source": [
    "attributes = patients.drop('Class')\n",
    "attributes.show(3)"
   ]
  },
  {
   "cell_type": "code",
   "execution_count": null,
   "id": "cell-lec36-12",
   "metadata": {},
   "outputs": [],
   "source": [
    "row_distance(attributes.row(0), attributes.row(1))"
   ]
  },
  {
   "cell_type": "code",
   "execution_count": null,
   "id": "cell-lec36-13",
   "metadata": {},
   "outputs": [],
   "source": [
    "row_distance(attributes.row(0), attributes.row(2))"
   ]
  },
  {
   "cell_type": "code",
   "execution_count": null,
   "id": "cell-lec36-14",
   "metadata": {},
   "outputs": [],
   "source": [
    "row_distance(attributes.row(2), attributes.row(2))"
   ]
  },
  {
   "cell_type": "markdown",
   "id": "cell-lec36-15",
   "metadata": {},
   "source": [
    "# The Classifier\n",
    "\n",
    "Use the difference formula to classify an incoming patient based on its closeness to other similar points. \n",
    "\n",
    "You can specify how many points to consider as neighbors. We are calling that value $k$.\n",
    "\n",
    "The assigned class will be based on the classification of the majority of the $k$ neighbors. \n",
    "\n",
    "We can test our classifer by taking a known record and running it through to see if it is correctly classified. "
   ]
  },
  {
   "cell_type": "code",
   "execution_count": null,
   "id": "cell-lec36-16",
   "metadata": {},
   "outputs": [],
   "source": [
    "def distances(training, example):\n",
    "    \"\"\"\n",
    "    Compute distance between example and every row in training.\n",
    "    Return training augmented with Distance column\n",
    "    \"\"\"\n",
    "    distances = make_array()\n",
    "    attributes_only = training.drop('Class')\n",
    "    \n",
    "    for row in attributes_only.rows:\n",
    "        distances = np.append(distances, row_distance(row, example))\n",
    "    \n",
    "#   ^ SAME AS DOING:\n",
    "#\n",
    "#   for i in np.arange(attributes_only.num_rows):\n",
    "#       row = attributes_only.row(i)\n",
    "#       distances = np.append(distances, row_distance(row, example))\n",
    "        \n",
    "    return training.with_column('Distance_to_ex', distances)"
   ]
  },
  {
   "cell_type": "code",
   "execution_count": null,
   "id": "cell-lec36-17",
   "metadata": {},
   "outputs": [],
   "source": [
    "example = attributes.row(21)\n",
    "example"
   ]
  },
  {
   "cell_type": "code",
   "execution_count": null,
   "id": "cell-lec36-18",
   "metadata": {},
   "outputs": [],
   "source": [
    "distances(patients.exclude(21), example).sort('Distance_to_ex')"
   ]
  },
  {
   "cell_type": "code",
   "execution_count": null,
   "id": "cell-lec36-19",
   "metadata": {},
   "outputs": [],
   "source": [
    "def closest(training, example, k):\n",
    "    \"\"\"\n",
    "    Return a table of the k closest neighbors to example\n",
    "    \"\"\"\n",
    "    return distances(training, example).sort('Distance_to_ex').take(np.arange(k))"
   ]
  },
  {
   "cell_type": "code",
   "execution_count": null,
   "id": "cell-lec36-20",
   "metadata": {},
   "outputs": [],
   "source": [
    "closest(patients.exclude(21), example, 5)"
   ]
  },
  {
   "cell_type": "code",
   "execution_count": null,
   "id": "cell-lec36-21",
   "metadata": {},
   "outputs": [],
   "source": [
    "closest(patients.exclude(21), example, 5).group('Class').sort('count', descending=True)"
   ]
  },
  {
   "cell_type": "code",
   "execution_count": null,
   "id": "cell-lec36-22",
   "metadata": {},
   "outputs": [],
   "source": [
    "def majority_class(topk):\n",
    "    \"\"\"\n",
    "    Return the class with the highest count\n",
    "    \"\"\"\n",
    "    return topk.group('Class').sort('count', descending=True).column(0).item(0)"
   ]
  },
  {
   "cell_type": "code",
   "execution_count": null,
   "id": "cell-lec36-23",
   "metadata": {},
   "outputs": [],
   "source": [
    "def classify(training, example, k):\n",
    "    \"\"\"\n",
    "    Return the majority class among the \n",
    "    k nearest neighbors of example\n",
    "    \"\"\"\n",
    "    return majority_class(closest(training, example, k))"
   ]
  },
  {
   "cell_type": "code",
   "execution_count": null,
   "id": "cell-lec36-24",
   "metadata": {},
   "outputs": [],
   "source": [
    "classify(patients.exclude(21), example, 5)"
   ]
  },
  {
   "cell_type": "code",
   "execution_count": null,
   "id": "cell-lec36-25",
   "metadata": {},
   "outputs": [],
   "source": [
    "patients.take(21)"
   ]
  },
  {
   "cell_type": "code",
   "execution_count": null,
   "id": "cell-lec36-26",
   "metadata": {},
   "outputs": [],
   "source": [
    "new_example = attributes.row(10)\n",
    "classify(patients.exclude(10), new_example, 5)"
   ]
  },
  {
   "cell_type": "code",
   "execution_count": null,
   "id": "cell-lec36-27",
   "metadata": {},
   "outputs": [],
   "source": [
    "patients.take(10)"
   ]
  },
  {
   "cell_type": "code",
   "execution_count": null,
   "id": "cell-lec36-28",
   "metadata": {},
   "outputs": [],
   "source": [
    "another_example = attributes.row(15)\n",
    "classify(patients.exclude(15), another_example, 15)"
   ]
  },
  {
   "cell_type": "code",
   "execution_count": null,
   "id": "cell-lec36-29",
   "metadata": {},
   "outputs": [],
   "source": [
    "patients.take(15)"
   ]
  },
  {
   "cell_type": "markdown",
   "id": "733a17ad",
   "metadata": {},
   "source": [
    "How many of the above were correctly classified?\n",
    "\n",
    "Would you want to use this to classify new patients? Why or Why not.\n"
   ]
  },
  {
   "cell_type": "markdown",
   "id": "cell-lec36-30",
   "metadata": {},
   "source": [
    "## Review of the Steps ##\n",
    "\n",
    "- `distance(pt1, pt2)`: Returns the distance between the arrays `pt1` and `pt2`\n",
    "- `row_distance(row1, row2)`: Returns the distance between the rows `row1` and `row2`\n",
    "- `distances(training, example)`: Returns a table that is `training` with an additional column `'Distance'` that contains the distance between `example` and each row of `training`\n",
    "- `closest(training, example, k)`: Returns a table of the rows corresponding to the k smallest distances \n",
    "- `majority_class(topk)`: Returns the majority class in the `'Class'` column\n",
    "- `classify(training, example, k)`: Returns the predicted class of `example` based on a `k` nearest neighbors classifier using the historical sample `training`"
   ]
  },
  {
   "cell_type": "markdown",
   "id": "cell-lec36-31",
   "metadata": {},
   "source": [
    "## Accuracy of a Classifier ##\n",
    "\n",
    "Create a function that will return the proportion of correctly classified examples of a test set. \n",
    "\n",
    "Check the classifier with varying values of $k$."
   ]
  },
  {
   "cell_type": "code",
   "execution_count": null,
   "id": "cell-lec36-32",
   "metadata": {},
   "outputs": [],
   "source": [
    "patients.num_rows"
   ]
  },
  {
   "cell_type": "code",
   "execution_count": null,
   "id": "cell-lec36-33",
   "metadata": {},
   "outputs": [],
   "source": [
    "shuffled = patients.sample(with_replacement=False) # Randomly permute the rows\n",
    "training_set = shuffled.take(np.arange(342))\n",
    "test_set  = shuffled.take(np.arange(342, 683))"
   ]
  },
  {
   "cell_type": "code",
   "execution_count": null,
   "id": "cell-lec36-34",
   "metadata": {},
   "outputs": [],
   "source": [
    "def evaluate_accuracy(training, test, k):\n",
    "    \"\"\"Return the proportion of correctly classified examples \n",
    "    in the test set\"\"\"\n",
    "    test_attributes = test.drop('Class')\n",
    "    num_correct = 0\n",
    "    for i in np.arange(test.num_rows):\n",
    "        c = classify(training, test_attributes.row(i), k)\n",
    "        num_correct = num_correct + (c == test.column('Class').item(i))\n",
    "    return num_correct / test.num_rows"
   ]
  },
  {
   "cell_type": "code",
   "execution_count": null,
   "id": "cell-lec36-35",
   "metadata": {},
   "outputs": [],
   "source": [
    "evaluate_accuracy(training_set, test_set, 5)"
   ]
  },
  {
   "cell_type": "code",
   "execution_count": null,
   "id": "cell-lec36-36",
   "metadata": {},
   "outputs": [],
   "source": [
    "evaluate_accuracy(training_set, test_set, 3)"
   ]
  },
  {
   "cell_type": "code",
   "execution_count": null,
   "id": "cell-lec36-37",
   "metadata": {
    "scrolled": true
   },
   "outputs": [],
   "source": [
    "evaluate_accuracy(training_set, test_set, 11)"
   ]
  },
  {
   "cell_type": "code",
   "execution_count": null,
   "id": "cell-lec36-38",
   "metadata": {},
   "outputs": [],
   "source": [
    "evaluate_accuracy(training_set, test_set, 7)"
   ]
  },
  {
   "cell_type": "code",
   "execution_count": null,
   "id": "82938f0d",
   "metadata": {},
   "outputs": [],
   "source": [
    "evaluate_accuracy(training_set, test_set, 9)\n"
   ]
  },
  {
   "cell_type": "code",
   "execution_count": null,
   "id": "e23d78c2",
   "metadata": {},
   "outputs": [],
   "source": [
    "evaluate_accuracy(training_set, test_set, 1)"
   ]
  },
  {
   "cell_type": "markdown",
   "id": "b095c7d2",
   "metadata": {},
   "source": [
    "Which value of $k$ gave you the most accurate classifier?\n",
    "\n",
    "If you rerun the cells above, does the same value of $k$ remain the best one?\n",
    "\n"
   ]
  },
  {
   "cell_type": "markdown",
   "id": "cell-lec36-39",
   "metadata": {},
   "source": [
    "# Standardize if Necessary\n",
    "\n",
    "With the breast cancer data the numbers used to measure attributes of the cells are very similar in range. \n",
    "\n",
    "With the CKD data some of the measures are very different. </br>\n",
    "For example Glocose ranges from 70-140 mg/dL but Hemoglobin ranges from 11 to 8 grams. \n",
    "\n",
    "Stanardizing will help very different values to act more similar. "
   ]
  },
  {
   "cell_type": "code",
   "execution_count": null,
   "id": "d04e3d42",
   "metadata": {},
   "outputs": [],
   "source": [
    "#looking at very different values may skew the classification. So standardization allows comparison to the mean.\n",
    "ckd.show(3)\n",
    "\n",
    "# Before Standardizing. "
   ]
  },
  {
   "cell_type": "code",
   "execution_count": null,
   "id": "96235387",
   "metadata": {},
   "outputs": [],
   "source": [
    "shuffled = ckd.sample(with_replacement=False) \n",
    "training_set = shuffled.take(np.arange(79))\n",
    "test_set  = shuffled.take(np.arange(79, 158))"
   ]
  },
  {
   "cell_type": "code",
   "execution_count": null,
   "id": "7a49328a",
   "metadata": {},
   "outputs": [],
   "source": [
    "#Check the accuracy before standardization.\n",
    "\n",
    "evaluate_accuracy(training_set, test_set, 3)"
   ]
  },
  {
   "cell_type": "code",
   "execution_count": null,
   "id": "cell-lec36-40",
   "metadata": {},
   "outputs": [],
   "source": [
    "def standard_units(x):\n",
    "    return (x - np.average(x)) / np.std(x)"
   ]
  },
  {
   "cell_type": "code",
   "execution_count": null,
   "id": "cell-lec36-41",
   "metadata": {},
   "outputs": [],
   "source": [
    "ckd_new = ckd.select('Class').with_columns(\n",
    "    'Glucose_su', standard_units(ckd.column('Glucose')),\n",
    "    'Hemoglobin_su', standard_units(ckd.column('Hemoglobin')),\n",
    "    'WBC_su', standard_units(ckd.column('White Blood Cell Count'))\n",
    ")"
   ]
  },
  {
   "cell_type": "code",
   "execution_count": null,
   "id": "cell-lec36-42",
   "metadata": {},
   "outputs": [],
   "source": [
    "ckd_new\n",
    "# After Standardizing"
   ]
  },
  {
   "cell_type": "code",
   "execution_count": null,
   "id": "cell-lec36-43",
   "metadata": {},
   "outputs": [],
   "source": [
    "shuffled = ckd_new.sample(with_replacement=False) \n",
    "training_set = shuffled.take(np.arange(79))\n",
    "test_set  = shuffled.take(np.arange(79, 158))"
   ]
  },
  {
   "cell_type": "code",
   "execution_count": null,
   "id": "cell-lec36-44",
   "metadata": {},
   "outputs": [],
   "source": [
    "#Check the accuracy after standardization.\n",
    "\n",
    "evaluate_accuracy(training_set, test_set, 3)"
   ]
  },
  {
   "cell_type": "code",
   "execution_count": null,
   "id": "707f328c",
   "metadata": {},
   "outputs": [],
   "source": [
    "#Will it improve the breast cancer classifier?\n",
    "\n",
    "patients.take(15)\n"
   ]
  },
  {
   "cell_type": "code",
   "execution_count": null,
   "id": "cell-lec36-45",
   "metadata": {},
   "outputs": [],
   "source": [
    "patients_new = patients.select('Class').with_columns(\n",
    "    'Clump_Thickness', standard_units(patients.column('Clump Thickness')),\n",
    "    'Uniformity1', standard_units(patients.column('Uniformity of Cell Size')),\n",
    "    'Uniformity2', standard_units(patients.column('Uniformity of Cell Shape')),\n",
    "    'Marginal', standard_units(patients.column('Marginal Adhesion')),\n",
    "    'Epithelial', standard_units(patients.column('Single Epithelial Cell Size')),\n",
    "    'Nuclei', standard_units(patients.column('Bare Nuclei')),\n",
    "    'Chromatin', standard_units(patients.column('Bland Chromatin')),\n",
    "    'Nucleoli', standard_units(patients.column('Normal Nucleoli')),\n",
    "    'Mitoses', standard_units(patients.column('Mitoses'))\n",
    ")\n",
    "patients_new"
   ]
  },
  {
   "cell_type": "code",
   "execution_count": null,
   "id": "cell-lec36-46",
   "metadata": {},
   "outputs": [],
   "source": [
    "shuffled = patients_new.sample(with_replacement=False) # Randomly permute the rows\n",
    "training_set = shuffled.take(np.arange(342))\n",
    "test_set  = shuffled.take(np.arange(342, 683))"
   ]
  },
  {
   "cell_type": "code",
   "execution_count": null,
   "id": "78fd2fd0",
   "metadata": {},
   "outputs": [],
   "source": [
    "evaluate_accuracy(training_set, test_set, 5)"
   ]
  },
  {
   "cell_type": "markdown",
   "id": "756c70d0",
   "metadata": {},
   "source": [
    "Was the standardized data better than your best classifier without standarization?"
   ]
  },
  {
   "cell_type": "code",
   "execution_count": null,
   "id": "b93f43e4",
   "metadata": {},
   "outputs": [],
   "source": []
  }
 ],
 "metadata": {
  "kernelspec": {
   "display_name": "Python 3 (ipykernel)",
   "language": "python",
   "name": "python3"
  },
  "language_info": {
   "codemirror_mode": {
    "name": "ipython",
    "version": 3
   },
   "file_extension": ".py",
   "mimetype": "text/x-python",
   "name": "python",
   "nbconvert_exporter": "python",
   "pygments_lexer": "ipython3",
   "version": "3.10.11"
  }
 },
 "nbformat": 4,
 "nbformat_minor": 5
}
